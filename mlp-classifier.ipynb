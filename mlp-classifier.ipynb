{
  "cells": [
    {
      "cell_type": "code",
      "execution_count": null,
      "metadata": {
        "id": "geGHrcms-Uqh"
      },
      "outputs": [],
      "source": [
        "import numpy as np\n",
        "import pandas as pd\n",
        "import matplotlib.pyplot as plt\n",
        "%matplotlib inline\n",
        "import warnings\n",
        "warnings.filterwarnings('ignore')\n",
        "import seaborn as sns\n",
        "\n",
        "\n",
        "import matplotlib.pyplot as plt\n",
        "from imblearn.over_sampling import SMOTE\n",
        "from sklearn.preprocessing import LabelEncoder\n",
        "import keras\n",
        "from keras.models import Sequential\n",
        "from keras.layers import Dense, Dropout\n",
        "import seaborn as sns\n",
        "from IPython.display import Markdown, display\n",
        "import numpy as np # linear algebra\n",
        "import pandas as pd\n",
        "from sklearn.model_selection import train_test_split\n",
        "from sklearn.metrics import accuracy_score\n",
        "\n",
        "pd.set_option('display.max_columns', None)\n",
        "np.random.seed(0)"
      ]
    },
    {
      "cell_type": "code",
      "execution_count": null,
      "metadata": {
        "id": "DhqLQv0tbCdj"
      },
      "outputs": [],
      "source": [
        "from google.colab import drive\n",
        "drive.mount('/content/drive', force_remount=True)"
      ]
    },
    {
      "cell_type": "code",
      "execution_count": null,
      "metadata": {
        "id": "3pJCPCo8tj2_"
      },
      "outputs": [],
      "source": [
        "acc_df = pd.read_csv('/content/drive/My Drive/Journal/Data/Accident_journal.csv')\n",
        "crime_df = pd.read_csv('/content/drive/My Drive/Journal/Data/Crime_journal.csv')\n",
        "# crime_df = pd.read_csv('/content/drive/My Drive/ColabNotebooks/dataset/Last/Crime(last).csv')\n",
        "\n",
        "ent_df = pd.read_csv('/content/drive/My Drive/Journal/Data/Entertainment_journal.csv')\n",
        "sports_df = pd.read_csv('/content/drive/My Drive/Journal/Data/Sports_journal.csv')"
      ]
    },
    {
      "cell_type": "code",
      "execution_count": null,
      "metadata": {
        "id": "eO9yMn_ItpP3"
      },
      "outputs": [],
      "source": [
        "acc_df.head()"
      ]
    },
    {
      "cell_type": "code",
      "execution_count": null,
      "metadata": {
        "id": "gWYh4mKXvZec"
      },
      "outputs": [],
      "source": [
        "crime_df.head()"
      ]
    },
    {
      "cell_type": "code",
      "execution_count": null,
      "metadata": {
        "id": "ZU4b0Fegbsql"
      },
      "outputs": [],
      "source": [
        "ent_df.head()"
      ]
    },
    {
      "cell_type": "code",
      "execution_count": null,
      "metadata": {
        "colab": {
          "base_uri": "https://localhost:8080/",
          "height": 206
        },
        "id": "GelY4cosb6jT",
        "outputId": "c38f4513-99d0-49a4-fc75-cf0b03d0e661"
      },
      "outputs": [
        {
          "output_type": "execute_result",
          "data": {
            "text/plain": [
              "   ID                                              Title  \\\n",
              "0   1   বিশ্ব আর্চারির বর্ষসেরা তালিকায় বাংলাদেশের রো...   \n",
              "1   2                           ল্যান্সনায়েক রোমান সানা    \n",
              "2   3                          এসএ গেমসে আরো  স্বর্ণপদক    \n",
              "3   4                            আর্চারিতে –এ  বাংলাদেশ    \n",
              "4   5                 আর্চারিতে স্বর্ণ পদক জিতেছেন সুমা    \n",
              "\n",
              "                                         Description      Label  \n",
              "0   সালটা দুর্দান্ত কেটেছে বাংলাদেশের সেরা আর্চার...  athletics  \n",
              "1  তীরধনুক হাতে ক্রীড়াঅঙ্গনে দেশকে সাফল্য এনে রোম...  athletics  \n",
              "2  নেপালে এসএ গেমসে রোববার দিনভর সাফল্যের সোমবারও...  athletics  \n",
              "3  এসএ গেমসের আর্চারিতে অনন্য নজির গড়েছেন বাংলাদে...  athletics  \n",
              "4  এসএ গেমসে আর্চারিতে মেয়েদের কম্পাউন্ড এককে শ্র...  athletics  "
            ],
            "text/html": [
              "\n",
              "  <div id=\"df-d7ffeaa2-f336-4159-b213-d789636e89e6\">\n",
              "    <div class=\"colab-df-container\">\n",
              "      <div>\n",
              "<style scoped>\n",
              "    .dataframe tbody tr th:only-of-type {\n",
              "        vertical-align: middle;\n",
              "    }\n",
              "\n",
              "    .dataframe tbody tr th {\n",
              "        vertical-align: top;\n",
              "    }\n",
              "\n",
              "    .dataframe thead th {\n",
              "        text-align: right;\n",
              "    }\n",
              "</style>\n",
              "<table border=\"1\" class=\"dataframe\">\n",
              "  <thead>\n",
              "    <tr style=\"text-align: right;\">\n",
              "      <th></th>\n",
              "      <th>ID</th>\n",
              "      <th>Title</th>\n",
              "      <th>Description</th>\n",
              "      <th>Label</th>\n",
              "    </tr>\n",
              "  </thead>\n",
              "  <tbody>\n",
              "    <tr>\n",
              "      <th>0</th>\n",
              "      <td>1</td>\n",
              "      <td>বিশ্ব আর্চারির বর্ষসেরা তালিকায় বাংলাদেশের রো...</td>\n",
              "      <td>সালটা দুর্দান্ত কেটেছে বাংলাদেশের সেরা আর্চার...</td>\n",
              "      <td>athletics</td>\n",
              "    </tr>\n",
              "    <tr>\n",
              "      <th>1</th>\n",
              "      <td>2</td>\n",
              "      <td>ল্যান্সনায়েক রোমান সানা</td>\n",
              "      <td>তীরধনুক হাতে ক্রীড়াঅঙ্গনে দেশকে সাফল্য এনে রোম...</td>\n",
              "      <td>athletics</td>\n",
              "    </tr>\n",
              "    <tr>\n",
              "      <th>2</th>\n",
              "      <td>3</td>\n",
              "      <td>এসএ গেমসে আরো  স্বর্ণপদক</td>\n",
              "      <td>নেপালে এসএ গেমসে রোববার দিনভর সাফল্যের সোমবারও...</td>\n",
              "      <td>athletics</td>\n",
              "    </tr>\n",
              "    <tr>\n",
              "      <th>3</th>\n",
              "      <td>4</td>\n",
              "      <td>আর্চারিতে –এ  বাংলাদেশ</td>\n",
              "      <td>এসএ গেমসের আর্চারিতে অনন্য নজির গড়েছেন বাংলাদে...</td>\n",
              "      <td>athletics</td>\n",
              "    </tr>\n",
              "    <tr>\n",
              "      <th>4</th>\n",
              "      <td>5</td>\n",
              "      <td>আর্চারিতে স্বর্ণ পদক জিতেছেন সুমা</td>\n",
              "      <td>এসএ গেমসে আর্চারিতে মেয়েদের কম্পাউন্ড এককে শ্র...</td>\n",
              "      <td>athletics</td>\n",
              "    </tr>\n",
              "  </tbody>\n",
              "</table>\n",
              "</div>\n",
              "      <button class=\"colab-df-convert\" onclick=\"convertToInteractive('df-d7ffeaa2-f336-4159-b213-d789636e89e6')\"\n",
              "              title=\"Convert this dataframe to an interactive table.\"\n",
              "              style=\"display:none;\">\n",
              "        \n",
              "  <svg xmlns=\"http://www.w3.org/2000/svg\" height=\"24px\"viewBox=\"0 0 24 24\"\n",
              "       width=\"24px\">\n",
              "    <path d=\"M0 0h24v24H0V0z\" fill=\"none\"/>\n",
              "    <path d=\"M18.56 5.44l.94 2.06.94-2.06 2.06-.94-2.06-.94-.94-2.06-.94 2.06-2.06.94zm-11 1L8.5 8.5l.94-2.06 2.06-.94-2.06-.94L8.5 2.5l-.94 2.06-2.06.94zm10 10l.94 2.06.94-2.06 2.06-.94-2.06-.94-.94-2.06-.94 2.06-2.06.94z\"/><path d=\"M17.41 7.96l-1.37-1.37c-.4-.4-.92-.59-1.43-.59-.52 0-1.04.2-1.43.59L10.3 9.45l-7.72 7.72c-.78.78-.78 2.05 0 2.83L4 21.41c.39.39.9.59 1.41.59.51 0 1.02-.2 1.41-.59l7.78-7.78 2.81-2.81c.8-.78.8-2.07 0-2.86zM5.41 20L4 18.59l7.72-7.72 1.47 1.35L5.41 20z\"/>\n",
              "  </svg>\n",
              "      </button>\n",
              "      \n",
              "  <style>\n",
              "    .colab-df-container {\n",
              "      display:flex;\n",
              "      flex-wrap:wrap;\n",
              "      gap: 12px;\n",
              "    }\n",
              "\n",
              "    .colab-df-convert {\n",
              "      background-color: #E8F0FE;\n",
              "      border: none;\n",
              "      border-radius: 50%;\n",
              "      cursor: pointer;\n",
              "      display: none;\n",
              "      fill: #1967D2;\n",
              "      height: 32px;\n",
              "      padding: 0 0 0 0;\n",
              "      width: 32px;\n",
              "    }\n",
              "\n",
              "    .colab-df-convert:hover {\n",
              "      background-color: #E2EBFA;\n",
              "      box-shadow: 0px 1px 2px rgba(60, 64, 67, 0.3), 0px 1px 3px 1px rgba(60, 64, 67, 0.15);\n",
              "      fill: #174EA6;\n",
              "    }\n",
              "\n",
              "    [theme=dark] .colab-df-convert {\n",
              "      background-color: #3B4455;\n",
              "      fill: #D2E3FC;\n",
              "    }\n",
              "\n",
              "    [theme=dark] .colab-df-convert:hover {\n",
              "      background-color: #434B5C;\n",
              "      box-shadow: 0px 1px 3px 1px rgba(0, 0, 0, 0.15);\n",
              "      filter: drop-shadow(0px 1px 2px rgba(0, 0, 0, 0.3));\n",
              "      fill: #FFFFFF;\n",
              "    }\n",
              "  </style>\n",
              "\n",
              "      <script>\n",
              "        const buttonEl =\n",
              "          document.querySelector('#df-d7ffeaa2-f336-4159-b213-d789636e89e6 button.colab-df-convert');\n",
              "        buttonEl.style.display =\n",
              "          google.colab.kernel.accessAllowed ? 'block' : 'none';\n",
              "\n",
              "        async function convertToInteractive(key) {\n",
              "          const element = document.querySelector('#df-d7ffeaa2-f336-4159-b213-d789636e89e6');\n",
              "          const dataTable =\n",
              "            await google.colab.kernel.invokeFunction('convertToInteractive',\n",
              "                                                     [key], {});\n",
              "          if (!dataTable) return;\n",
              "\n",
              "          const docLinkHtml = 'Like what you see? Visit the ' +\n",
              "            '<a target=\"_blank\" href=https://colab.research.google.com/notebooks/data_table.ipynb>data table notebook</a>'\n",
              "            + ' to learn more about interactive tables.';\n",
              "          element.innerHTML = '';\n",
              "          dataTable['output_type'] = 'display_data';\n",
              "          await google.colab.output.renderOutput(dataTable, element);\n",
              "          const docLink = document.createElement('div');\n",
              "          docLink.innerHTML = docLinkHtml;\n",
              "          element.appendChild(docLink);\n",
              "        }\n",
              "      </script>\n",
              "    </div>\n",
              "  </div>\n",
              "  "
            ]
          },
          "metadata": {},
          "execution_count": 307
        }
      ],
      "source": [
        "sports_df.head()"
      ]
    },
    {
      "cell_type": "code",
      "execution_count": null,
      "metadata": {
        "colab": {
          "base_uri": "https://localhost:8080/"
        },
        "id": "sPXESqKqb81R",
        "outputId": "b661ca86-6042-4e8c-9a69-6f88cf11a813"
      },
      "outputs": [
        {
          "output_type": "stream",
          "name": "stdout",
          "text": [
            "Accident (11847, 4)\n",
            "Crime (13902, 4)\n",
            "Entertainment (17517, 4)\n",
            "Sport (39000, 4)\n"
          ]
        }
      ],
      "source": [
        "print(\"Accident\", acc_df.shape)\n",
        "print(\"Crime\", crime_df.shape)\n",
        "print(\"Entertainment\", ent_df.shape)\n",
        "print(\"Sport\", sports_df.shape)"
      ]
    },
    {
      "cell_type": "markdown",
      "metadata": {
        "id": "SYs7WRWccBAT"
      },
      "source": [
        "## Find Duplicates"
      ]
    },
    {
      "cell_type": "code",
      "execution_count": null,
      "metadata": {
        "colab": {
          "base_uri": "https://localhost:8080/"
        },
        "id": "aC6MoM1rb-iz",
        "outputId": "d392e24d-abf1-4b23-9f83-2e9e856293e2"
      },
      "outputs": [
        {
          "output_type": "stream",
          "name": "stdout",
          "text": [
            "60\n",
            "37\n"
          ]
        }
      ],
      "source": [
        "duplicate_acc_df = pd.DataFrame(acc_df[acc_df.duplicated(['Description', 'Label'])])\n",
        "print(acc_df.duplicated(['Description']).sum())\n",
        "print(acc_df.duplicated(['Description', 'Label']).sum())"
      ]
    },
    {
      "cell_type": "code",
      "execution_count": null,
      "metadata": {
        "colab": {
          "base_uri": "https://localhost:8080/"
        },
        "id": "ia6Oxi-IcDJn",
        "outputId": "66df5dd9-19ea-4ec8-9b95-62e84bf6dba2"
      },
      "outputs": [
        {
          "output_type": "stream",
          "name": "stdout",
          "text": [
            "136\n",
            "71\n"
          ]
        }
      ],
      "source": [
        "duplicate_crime_df = pd.DataFrame(crime_df[crime_df.duplicated(['Description', 'Label'])])\n",
        "print(crime_df.duplicated(['Description']).sum())\n",
        "print(crime_df.duplicated(['Description', 'Label']).sum())\n",
        "# duplicate_crime_df"
      ]
    },
    {
      "cell_type": "code",
      "execution_count": null,
      "metadata": {
        "colab": {
          "base_uri": "https://localhost:8080/"
        },
        "id": "9GakGxwicEvb",
        "outputId": "02006f60-e31d-4c4e-b2a9-3edd9642342f"
      },
      "outputs": [
        {
          "output_type": "stream",
          "name": "stdout",
          "text": [
            "872\n",
            "796\n"
          ]
        }
      ],
      "source": [
        "duplicate_ent_df = pd.DataFrame(ent_df[ent_df.duplicated(['Description', 'Label'])])\n",
        "print(ent_df.duplicated(['Description']).sum())\n",
        "print(ent_df.duplicated(['Description', 'Label']).sum())"
      ]
    },
    {
      "cell_type": "code",
      "execution_count": null,
      "metadata": {
        "colab": {
          "base_uri": "https://localhost:8080/"
        },
        "id": "MQcc-4EccGcL",
        "outputId": "4c33a830-ea1c-443f-a227-6e515054c8ed"
      },
      "outputs": [
        {
          "output_type": "stream",
          "name": "stdout",
          "text": [
            "757\n",
            "724\n"
          ]
        }
      ],
      "source": [
        "duplicate_sports_df = pd.DataFrame(sports_df[sports_df.duplicated(['Description', 'Label'])])\n",
        "print(sports_df.duplicated(['Description']).sum())\n",
        "print(sports_df.duplicated(['Description', 'Label']).sum())"
      ]
    },
    {
      "cell_type": "markdown",
      "metadata": {
        "id": "OcPyUY2acKSl"
      },
      "source": [
        "## Remove Duplicates within same subcategory"
      ]
    },
    {
      "cell_type": "code",
      "execution_count": null,
      "metadata": {
        "colab": {
          "base_uri": "https://localhost:8080/"
        },
        "id": "vm9XDQeecIIq",
        "outputId": "2a01045a-5eea-4e4b-cfc8-80498f88b6c2"
      },
      "outputs": [
        {
          "output_type": "stream",
          "name": "stdout",
          "text": [
            "23\n",
            "0\n",
            "(11810, 4)\n"
          ]
        }
      ],
      "source": [
        "acc = acc_df.drop_duplicates(subset = ['Description', 'Label'], keep  = 'first', inplace = False)\n",
        "print(acc.duplicated(['Description']).sum())\n",
        "print(acc.duplicated(['Description', 'Label']).sum())\n",
        "print(acc.shape)"
      ]
    },
    {
      "cell_type": "code",
      "execution_count": null,
      "metadata": {
        "colab": {
          "base_uri": "https://localhost:8080/"
        },
        "id": "3HiyR14YcMVI",
        "outputId": "83f7d26f-5ce8-4ad4-ea18-21131a4a1e14"
      },
      "outputs": [
        {
          "output_type": "stream",
          "name": "stdout",
          "text": [
            "65\n",
            "0\n"
          ]
        }
      ],
      "source": [
        "crime = crime_df.drop_duplicates(subset = ['Description', 'Label'], keep  = 'first', inplace = False)\n",
        "print(crime.duplicated(['Description']).sum())\n",
        "print(crime.duplicated(['Description', 'Label']).sum())"
      ]
    },
    {
      "cell_type": "code",
      "execution_count": null,
      "metadata": {
        "colab": {
          "base_uri": "https://localhost:8080/"
        },
        "id": "NmL86QHecNuy",
        "outputId": "70dd4538-b9ab-4641-f1ac-543774e6ff86"
      },
      "outputs": [
        {
          "output_type": "stream",
          "name": "stdout",
          "text": [
            "76\n",
            "0\n"
          ]
        }
      ],
      "source": [
        "ent = ent_df.drop_duplicates(subset = ['Description', 'Label'], keep  = 'first', inplace = False)\n",
        "print(ent.duplicated(['Description']).sum())\n",
        "print(ent.duplicated(['Description', 'Label']).sum())"
      ]
    },
    {
      "cell_type": "code",
      "execution_count": null,
      "metadata": {
        "colab": {
          "base_uri": "https://localhost:8080/"
        },
        "id": "sOGAFlJLcPOe",
        "outputId": "deec5db6-b190-49ef-9c88-c6188ff5a1de"
      },
      "outputs": [
        {
          "output_type": "stream",
          "name": "stdout",
          "text": [
            "33\n",
            "0\n"
          ]
        }
      ],
      "source": [
        "sports = sports_df.drop_duplicates(subset = ['Description', 'Label'], keep  = 'first', inplace = False)\n",
        "print(sports.duplicated(['Description']).sum())\n",
        "print(sports.duplicated(['Description', 'Label']).sum())"
      ]
    },
    {
      "cell_type": "markdown",
      "metadata": {
        "id": "9YHtl6nocV5s"
      },
      "source": [
        "## Visualize and count data in each Subcategory"
      ]
    },
    {
      "cell_type": "code",
      "execution_count": null,
      "metadata": {
        "id": "f74YI51PcRR1"
      },
      "outputs": [],
      "source": [
        "def bar_plot(variable, df):\n",
        "    \"\"\"\n",
        "        input: variable ex: \"Label\"\n",
        "        output: bar plot & value count\n",
        "    \"\"\"\n",
        "    # get feature\n",
        "    var = df[variable]\n",
        "    # count number of categorical variable(value/sample)\n",
        "    varValue = var.value_counts()\n",
        "    \n",
        "    # visualize\n",
        "    plt.figure(figsize = (9,3))\n",
        "    plt.bar(varValue.index, varValue)\n",
        "    plt.xticks(varValue.index, varValue.index.values)\n",
        "    plt.ylabel(\"Frequency\")\n",
        "    plt.title(variable)\n",
        "    plt.show()\n",
        "    print(\"{}: \\n {}\".format(variable,varValue))"
      ]
    },
    {
      "cell_type": "code",
      "execution_count": null,
      "metadata": {
        "colab": {
          "base_uri": "https://localhost:8080/",
          "height": 418
        },
        "id": "LY-3HPy5cpiO",
        "outputId": "ea4b087d-2879-4337-d6d1-f56883e15188"
      },
      "outputs": [
        {
          "output_type": "display_data",
          "data": {
            "text/plain": [
              "<Figure size 648x216 with 1 Axes>"
            ],
            "image/png": "[encoded data removed]"
          },
          "metadata": {
            "needs_background": "light"
          }
        },
        {
          "output_type": "stream",
          "name": "stdout",
          "text": [
            "Label: \n",
            " Road            5413\n",
            "Fire            1915\n",
            "Water           1642\n",
            "Rail             973\n",
            "Electricity      954\n",
            "Blast            426\n",
            "others           242\n",
            "Construction     193\n",
            "Air               52\n",
            "Name: Label, dtype: int64\n"
          ]
        }
      ],
      "source": [
        "bar_plot(\"Label\", acc)"
      ]
    },
    {
      "cell_type": "code",
      "execution_count": null,
      "metadata": {
        "colab": {
          "base_uri": "https://localhost:8080/",
          "height": 383
        },
        "id": "oFpn4kS0crWn",
        "outputId": "ac21be5c-acf6-4932-a61e-7c74b28f0d8a"
      },
      "outputs": [
        {
          "output_type": "display_data",
          "data": {
            "text/plain": [
              "<Figure size 648x216 with 1 Axes>"
            ],
            "image/png": "[encoded data removed]"
          },
          "metadata": {
            "needs_background": "light"
          }
        },
        {
          "output_type": "stream",
          "name": "stdout",
          "text": [
            "Label: \n",
            " Murder                   6465\n",
            "CorruptionandFraud       1749\n",
            "RapeandAbuse             1271\n",
            "Drug                     1264\n",
            "Trafficking              1050\n",
            "Others                   1036\n",
            "TheftRobberyAbduction     996\n",
            "Name: Label, dtype: int64\n"
          ]
        }
      ],
      "source": [
        "bar_plot(\"Label\", crime)"
      ]
    },
    {
      "cell_type": "code",
      "execution_count": null,
      "metadata": {
        "colab": {
          "base_uri": "https://localhost:8080/",
          "height": 366
        },
        "id": "YNMoC8Gvcs_c",
        "outputId": "bc7b2cd8-139f-4817-bb11-e6f710937d17"
      },
      "outputs": [
        {
          "output_type": "display_data",
          "data": {
            "text/plain": [
              "<Figure size 648x216 with 1 Axes>"
            ],
            "image/png": "[encoded data removed]"
          },
          "metadata": {
            "needs_background": "light"
          }
        },
        {
          "output_type": "stream",
          "name": "stdout",
          "text": [
            "Label: \n",
            " bollywood     9864\n",
            "television    2134\n",
            "dhallywood    2036\n",
            "music         1547\n",
            "tollywood      670\n",
            "hollywood      470\n",
            "Name: Label, dtype: int64\n"
          ]
        }
      ],
      "source": [
        "bar_plot(\"Label\", ent)"
      ]
    },
    {
      "cell_type": "code",
      "execution_count": null,
      "metadata": {
        "colab": {
          "base_uri": "https://localhost:8080/",
          "height": 331
        },
        "id": "U-jg6g0Lcuxz",
        "outputId": "0e26770e-3481-498a-cebb-4e1f7262f6c0"
      },
      "outputs": [
        {
          "output_type": "display_data",
          "data": {
            "text/plain": [
              "<Figure size 648x216 with 1 Axes>"
            ],
            "image/png": "[encoded data removed]"
          },
          "metadata": {
            "needs_background": "light"
          }
        },
        {
          "output_type": "stream",
          "name": "stdout",
          "text": [
            "Label: \n",
            " cricket      25218\n",
            "football     11270\n",
            "tennis        1073\n",
            "athletics      715\n",
            "Name: Label, dtype: int64\n"
          ]
        }
      ],
      "source": [
        "bar_plot(\"Label\", sports)"
      ]
    },
    {
      "cell_type": "markdown",
      "metadata": {
        "id": "JLApXJcfcznb"
      },
      "source": [
        "## Find Length of each article"
      ]
    },
    {
      "cell_type": "code",
      "execution_count": null,
      "metadata": {
        "colab": {
          "base_uri": "https://localhost:8080/",
          "height": 206
        },
        "id": "HrHdnoY3cxY2",
        "outputId": "cfc5f867-aa19-486a-96d7-a713ffa44c50"
      },
      "outputs": [
        {
          "output_type": "execute_result",
          "data": {
            "text/plain": [
              "   ID                                             Title  \\\n",
              "0   1         পাখির আঘাতে ড্যাশ উড়োজাহাজের জরুরি অবতরণ    \n",
              "1   2   চট্টগ্রামে বিমানে যান্ত্রিক ত্রুটি জরুরি অবতরণ    \n",
              "2   3                  বিমানের ড্যাশ এইটের জরুরি অবতরণ    \n",
              "3   4    উড়োজাহাজেই মৃত্যু ওমানপ্রবাসীর  ঘটেছি ফ্লাইটে    \n",
              "4   5                                       অভ্র করবেন    \n",
              "\n",
              "                                         Description Label  Length  \n",
              "0  বিমান বাংলাদেশ এয়ারলাইনসের ড্যাশ মডেলের উড়োজাহ...   Air    2438  \n",
              "1  আকাশে ওড়ার  মিনিট চট্টগ্রাম শাহ আমানত আন্তর্জ...   Air     839  \n",
              "2  হজরত শাহজালাল আন্তর্জাতিক বিমানবন্দরে বিমান বা...   Air    2180  \n",
              "3  স্বপ্ন বিদেশে গিয়েছিলেন ওমান প্রবাসী রানা আহমে...   Air    3249  \n",
              "4  ইয়াঙ্গুন আন্তর্জাতিক বিমানবন্দরে  মে সন্ধ্যায় ...   Air    3527  "
            ],
            "text/html": [
              "\n",
              "  <div id=\"df-f404b65f-9046-4e8e-bdeb-34c469bb147d\">\n",
              "    <div class=\"colab-df-container\">\n",
              "      <div>\n",
              "<style scoped>\n",
              "    .dataframe tbody tr th:only-of-type {\n",
              "        vertical-align: middle;\n",
              "    }\n",
              "\n",
              "    .dataframe tbody tr th {\n",
              "        vertical-align: top;\n",
              "    }\n",
              "\n",
              "    .dataframe thead th {\n",
              "        text-align: right;\n",
              "    }\n",
              "</style>\n",
              "<table border=\"1\" class=\"dataframe\">\n",
              "  <thead>\n",
              "    <tr style=\"text-align: right;\">\n",
              "      <th></th>\n",
              "      <th>ID</th>\n",
              "      <th>Title</th>\n",
              "      <th>Description</th>\n",
              "      <th>Label</th>\n",
              "      <th>Length</th>\n",
              "    </tr>\n",
              "  </thead>\n",
              "  <tbody>\n",
              "    <tr>\n",
              "      <th>0</th>\n",
              "      <td>1</td>\n",
              "      <td>পাখির আঘাতে ড্যাশ উড়োজাহাজের জরুরি অবতরণ</td>\n",
              "      <td>বিমান বাংলাদেশ এয়ারলাইনসের ড্যাশ মডেলের উড়োজাহ...</td>\n",
              "      <td>Air</td>\n",
              "      <td>2438</td>\n",
              "    </tr>\n",
              "    <tr>\n",
              "      <th>1</th>\n",
              "      <td>2</td>\n",
              "      <td>চট্টগ্রামে বিমানে যান্ত্রিক ত্রুটি জরুরি অবতরণ</td>\n",
              "      <td>আকাশে ওড়ার  মিনিট চট্টগ্রাম শাহ আমানত আন্তর্জ...</td>\n",
              "      <td>Air</td>\n",
              "      <td>839</td>\n",
              "    </tr>\n",
              "    <tr>\n",
              "      <th>2</th>\n",
              "      <td>3</td>\n",
              "      <td>বিমানের ড্যাশ এইটের জরুরি অবতরণ</td>\n",
              "      <td>হজরত শাহজালাল আন্তর্জাতিক বিমানবন্দরে বিমান বা...</td>\n",
              "      <td>Air</td>\n",
              "      <td>2180</td>\n",
              "    </tr>\n",
              "    <tr>\n",
              "      <th>3</th>\n",
              "      <td>4</td>\n",
              "      <td>উড়োজাহাজেই মৃত্যু ওমানপ্রবাসীর  ঘটেছি ফ্লাইটে</td>\n",
              "      <td>স্বপ্ন বিদেশে গিয়েছিলেন ওমান প্রবাসী রানা আহমে...</td>\n",
              "      <td>Air</td>\n",
              "      <td>3249</td>\n",
              "    </tr>\n",
              "    <tr>\n",
              "      <th>4</th>\n",
              "      <td>5</td>\n",
              "      <td>অভ্র করবেন</td>\n",
              "      <td>ইয়াঙ্গুন আন্তর্জাতিক বিমানবন্দরে  মে সন্ধ্যায় ...</td>\n",
              "      <td>Air</td>\n",
              "      <td>3527</td>\n",
              "    </tr>\n",
              "  </tbody>\n",
              "</table>\n",
              "</div>\n",
              "      <button class=\"colab-df-convert\" onclick=\"convertToInteractive('df-f404b65f-9046-4e8e-bdeb-34c469bb147d')\"\n",
              "              title=\"Convert this dataframe to an interactive table.\"\n",
              "              style=\"display:none;\">\n",
              "        \n",
              "  <svg xmlns=\"http://www.w3.org/2000/svg\" height=\"24px\"viewBox=\"0 0 24 24\"\n",
              "       width=\"24px\">\n",
              "    <path d=\"M0 0h24v24H0V0z\" fill=\"none\"/>\n",
              "    <path d=\"M18.56 5.44l.94 2.06.94-2.06 2.06-.94-2.06-.94-.94-2.06-.94 2.06-2.06.94zm-11 1L8.5 8.5l.94-2.06 2.06-.94-2.06-.94L8.5 2.5l-.94 2.06-2.06.94zm10 10l.94 2.06.94-2.06 2.06-.94-2.06-.94-.94-2.06-.94 2.06-2.06.94z\"/><path d=\"M17.41 7.96l-1.37-1.37c-.4-.4-.92-.59-1.43-.59-.52 0-1.04.2-1.43.59L10.3 9.45l-7.72 7.72c-.78.78-.78 2.05 0 2.83L4 21.41c.39.39.9.59 1.41.59.51 0 1.02-.2 1.41-.59l7.78-7.78 2.81-2.81c.8-.78.8-2.07 0-2.86zM5.41 20L4 18.59l7.72-7.72 1.47 1.35L5.41 20z\"/>\n",
              "  </svg>\n",
              "      </button>\n",
              "      \n",
              "  <style>\n",
              "    .colab-df-container {\n",
              "      display:flex;\n",
              "      flex-wrap:wrap;\n",
              "      gap: 12px;\n",
              "    }\n",
              "\n",
              "    .colab-df-convert {\n",
              "      background-color: #E8F0FE;\n",
              "      border: none;\n",
              "      border-radius: 50%;\n",
              "      cursor: pointer;\n",
              "      display: none;\n",
              "      fill: #1967D2;\n",
              "      height: 32px;\n",
              "      padding: 0 0 0 0;\n",
              "      width: 32px;\n",
              "    }\n",
              "\n",
              "    .colab-df-convert:hover {\n",
              "      background-color: #E2EBFA;\n",
              "      box-shadow: 0px 1px 2px rgba(60, 64, 67, 0.3), 0px 1px 3px 1px rgba(60, 64, 67, 0.15);\n",
              "      fill: #174EA6;\n",
              "    }\n",
              "\n",
              "    [theme=dark] .colab-df-convert {\n",
              "      background-color: #3B4455;\n",
              "      fill: #D2E3FC;\n",
              "    }\n",
              "\n",
              "    [theme=dark] .colab-df-convert:hover {\n",
              "      background-color: #434B5C;\n",
              "      box-shadow: 0px 1px 3px 1px rgba(0, 0, 0, 0.15);\n",
              "      filter: drop-shadow(0px 1px 2px rgba(0, 0, 0, 0.3));\n",
              "      fill: #FFFFFF;\n",
              "    }\n",
              "  </style>\n",
              "\n",
              "      <script>\n",
              "        const buttonEl =\n",
              "          document.querySelector('#df-f404b65f-9046-4e8e-bdeb-34c469bb147d button.colab-df-convert');\n",
              "        buttonEl.style.display =\n",
              "          google.colab.kernel.accessAllowed ? 'block' : 'none';\n",
              "\n",
              "        async function convertToInteractive(key) {\n",
              "          const element = document.querySelector('#df-f404b65f-9046-4e8e-bdeb-34c469bb147d');\n",
              "          const dataTable =\n",
              "            await google.colab.kernel.invokeFunction('convertToInteractive',\n",
              "                                                     [key], {});\n",
              "          if (!dataTable) return;\n",
              "\n",
              "          const docLinkHtml = 'Like what you see? Visit the ' +\n",
              "            '<a target=\"_blank\" href=https://colab.research.google.com/notebooks/data_table.ipynb>data table notebook</a>'\n",
              "            + ' to learn more about interactive tables.';\n",
              "          element.innerHTML = '';\n",
              "          dataTable['output_type'] = 'display_data';\n",
              "          await google.colab.output.renderOutput(dataTable, element);\n",
              "          const docLink = document.createElement('div');\n",
              "          docLink.innerHTML = docLinkHtml;\n",
              "          element.appendChild(docLink);\n",
              "        }\n",
              "      </script>\n",
              "    </div>\n",
              "  </div>\n",
              "  "
            ]
          },
          "metadata": {},
          "execution_count": 322
        }
      ],
      "source": [
        "acc['Length'] = acc['Description'].apply(lambda x: len(str(x)))\n",
        "acc.head()"
      ]
    },
    {
      "cell_type": "code",
      "execution_count": null,
      "metadata": {
        "colab": {
          "base_uri": "https://localhost:8080/",
          "height": 206
        },
        "id": "hGA_DXZbc2Uz",
        "outputId": "832b5f42-ab45-4534-baff-e9a91532b18d"
      },
      "outputs": [
        {
          "output_type": "execute_result",
          "data": {
            "text/plain": [
              "   ID                                              Title  \\\n",
              "0   1                    স্যালাইন স্ট্যান্ডের দাম  টাকা    \n",
              "1   2   তজুমদ্দিনে নিষেধাজ্ঞা অনাম্য  জেলেকে জেলজরিমানা    \n",
              "2   3    পিজিসিবির তিন কর্মকর্তার বিরুদ্ধে দুদকের মামলা    \n",
              "3   4   কালকিনিতে মেয়রের অবৈধ স্থাপনা গুড়িয়ে দিলো প্র...   \n",
              "4   5            মতলব উত্তরে জাটকা ধরায়  জেলের কারাদণ্ড    \n",
              "\n",
              "                                         Description               Label  \\\n",
              "0  উন্নয়ন প্রকল্প প্রস্তাবনাতেই দুর্নীতির ভূত সাম...  CorruptionandFraud   \n",
              "1  ভোলার তজুমদ্দিনের মেঘনায় নিষেধাজ্ঞা অমান্য মাছ...  CorruptionandFraud   \n",
              "2  পিরোজপুরের ভান্ডারিয়া উপজেলায় বিদ্যুৎ বিভাগের ...  CorruptionandFraud   \n",
              "3  মাদারীপুরের কালকিনিতে সরকারী জায়গায় মেয়রের ব্য...  CorruptionandFraud   \n",
              "4  চাঁদপুরের মতলব উপজেলার মেঘনা নদীতে নিষেধাজ্ঞা ...  CorruptionandFraud   \n",
              "\n",
              "   Length  \n",
              "0    5362  \n",
              "1     829  \n",
              "2    1966  \n",
              "3     804  \n",
              "4     784  "
            ],
            "text/html": [
              "\n",
              "  <div id=\"df-5cb3aa53-16ea-4ecd-adaa-12aa4b9db4a0\">\n",
              "    <div class=\"colab-df-container\">\n",
              "      <div>\n",
              "<style scoped>\n",
              "    .dataframe tbody tr th:only-of-type {\n",
              "        vertical-align: middle;\n",
              "    }\n",
              "\n",
              "    .dataframe tbody tr th {\n",
              "        vertical-align: top;\n",
              "    }\n",
              "\n",
              "    .dataframe thead th {\n",
              "        text-align: right;\n",
              "    }\n",
              "</style>\n",
              "<table border=\"1\" class=\"dataframe\">\n",
              "  <thead>\n",
              "    <tr style=\"text-align: right;\">\n",
              "      <th></th>\n",
              "      <th>ID</th>\n",
              "      <th>Title</th>\n",
              "      <th>Description</th>\n",
              "      <th>Label</th>\n",
              "      <th>Length</th>\n",
              "    </tr>\n",
              "  </thead>\n",
              "  <tbody>\n",
              "    <tr>\n",
              "      <th>0</th>\n",
              "      <td>1</td>\n",
              "      <td>স্যালাইন স্ট্যান্ডের দাম  টাকা</td>\n",
              "      <td>উন্নয়ন প্রকল্প প্রস্তাবনাতেই দুর্নীতির ভূত সাম...</td>\n",
              "      <td>CorruptionandFraud</td>\n",
              "      <td>5362</td>\n",
              "    </tr>\n",
              "    <tr>\n",
              "      <th>1</th>\n",
              "      <td>2</td>\n",
              "      <td>তজুমদ্দিনে নিষেধাজ্ঞা অনাম্য  জেলেকে জেলজরিমানা</td>\n",
              "      <td>ভোলার তজুমদ্দিনের মেঘনায় নিষেধাজ্ঞা অমান্য মাছ...</td>\n",
              "      <td>CorruptionandFraud</td>\n",
              "      <td>829</td>\n",
              "    </tr>\n",
              "    <tr>\n",
              "      <th>2</th>\n",
              "      <td>3</td>\n",
              "      <td>পিজিসিবির তিন কর্মকর্তার বিরুদ্ধে দুদকের মামলা</td>\n",
              "      <td>পিরোজপুরের ভান্ডারিয়া উপজেলায় বিদ্যুৎ বিভাগের ...</td>\n",
              "      <td>CorruptionandFraud</td>\n",
              "      <td>1966</td>\n",
              "    </tr>\n",
              "    <tr>\n",
              "      <th>3</th>\n",
              "      <td>4</td>\n",
              "      <td>কালকিনিতে মেয়রের অবৈধ স্থাপনা গুড়িয়ে দিলো প্র...</td>\n",
              "      <td>মাদারীপুরের কালকিনিতে সরকারী জায়গায় মেয়রের ব্য...</td>\n",
              "      <td>CorruptionandFraud</td>\n",
              "      <td>804</td>\n",
              "    </tr>\n",
              "    <tr>\n",
              "      <th>4</th>\n",
              "      <td>5</td>\n",
              "      <td>মতলব উত্তরে জাটকা ধরায়  জেলের কারাদণ্ড</td>\n",
              "      <td>চাঁদপুরের মতলব উপজেলার মেঘনা নদীতে নিষেধাজ্ঞা ...</td>\n",
              "      <td>CorruptionandFraud</td>\n",
              "      <td>784</td>\n",
              "    </tr>\n",
              "  </tbody>\n",
              "</table>\n",
              "</div>\n",
              "      <button class=\"colab-df-convert\" onclick=\"convertToInteractive('df-5cb3aa53-16ea-4ecd-adaa-12aa4b9db4a0')\"\n",
              "              title=\"Convert this dataframe to an interactive table.\"\n",
              "              style=\"display:none;\">\n",
              "        \n",
              "  <svg xmlns=\"http://www.w3.org/2000/svg\" height=\"24px\"viewBox=\"0 0 24 24\"\n",
              "       width=\"24px\">\n",
              "    <path d=\"M0 0h24v24H0V0z\" fill=\"none\"/>\n",
              "    <path d=\"M18.56 5.44l.94 2.06.94-2.06 2.06-.94-2.06-.94-.94-2.06-.94 2.06-2.06.94zm-11 1L8.5 8.5l.94-2.06 2.06-.94-2.06-.94L8.5 2.5l-.94 2.06-2.06.94zm10 10l.94 2.06.94-2.06 2.06-.94-2.06-.94-.94-2.06-.94 2.06-2.06.94z\"/><path d=\"M17.41 7.96l-1.37-1.37c-.4-.4-.92-.59-1.43-.59-.52 0-1.04.2-1.43.59L10.3 9.45l-7.72 7.72c-.78.78-.78 2.05 0 2.83L4 21.41c.39.39.9.59 1.41.59.51 0 1.02-.2 1.41-.59l7.78-7.78 2.81-2.81c.8-.78.8-2.07 0-2.86zM5.41 20L4 18.59l7.72-7.72 1.47 1.35L5.41 20z\"/>\n",
              "  </svg>\n",
              "      </button>\n",
              "      \n",
              "  <style>\n",
              "    .colab-df-container {\n",
              "      display:flex;\n",
              "      flex-wrap:wrap;\n",
              "      gap: 12px;\n",
              "    }\n",
              "\n",
              "    .colab-df-convert {\n",
              "      background-color: #E8F0FE;\n",
              "      border: none;\n",
              "      border-radius: 50%;\n",
              "      cursor: pointer;\n",
              "      display: none;\n",
              "      fill: #1967D2;\n",
              "      height: 32px;\n",
              "      padding: 0 0 0 0;\n",
              "      width: 32px;\n",
              "    }\n",
              "\n",
              "    .colab-df-convert:hover {\n",
              "      background-color: #E2EBFA;\n",
              "      box-shadow: 0px 1px 2px rgba(60, 64, 67, 0.3), 0px 1px 3px 1px rgba(60, 64, 67, 0.15);\n",
              "      fill: #174EA6;\n",
              "    }\n",
              "\n",
              "    [theme=dark] .colab-df-convert {\n",
              "      background-color: #3B4455;\n",
              "      fill: #D2E3FC;\n",
              "    }\n",
              "\n",
              "    [theme=dark] .colab-df-convert:hover {\n",
              "      background-color: #434B5C;\n",
              "      box-shadow: 0px 1px 3px 1px rgba(0, 0, 0, 0.15);\n",
              "      filter: drop-shadow(0px 1px 2px rgba(0, 0, 0, 0.3));\n",
              "      fill: #FFFFFF;\n",
              "    }\n",
              "  </style>\n",
              "\n",
              "      <script>\n",
              "        const buttonEl =\n",
              "          document.querySelector('#df-5cb3aa53-16ea-4ecd-adaa-12aa4b9db4a0 button.colab-df-convert');\n",
              "        buttonEl.style.display =\n",
              "          google.colab.kernel.accessAllowed ? 'block' : 'none';\n",
              "\n",
              "        async function convertToInteractive(key) {\n",
              "          const element = document.querySelector('#df-5cb3aa53-16ea-4ecd-adaa-12aa4b9db4a0');\n",
              "          const dataTable =\n",
              "            await google.colab.kernel.invokeFunction('convertToInteractive',\n",
              "                                                     [key], {});\n",
              "          if (!dataTable) return;\n",
              "\n",
              "          const docLinkHtml = 'Like what you see? Visit the ' +\n",
              "            '<a target=\"_blank\" href=https://colab.research.google.com/notebooks/data_table.ipynb>data table notebook</a>'\n",
              "            + ' to learn more about interactive tables.';\n",
              "          element.innerHTML = '';\n",
              "          dataTable['output_type'] = 'display_data';\n",
              "          await google.colab.output.renderOutput(dataTable, element);\n",
              "          const docLink = document.createElement('div');\n",
              "          docLink.innerHTML = docLinkHtml;\n",
              "          element.appendChild(docLink);\n",
              "        }\n",
              "      </script>\n",
              "    </div>\n",
              "  </div>\n",
              "  "
            ]
          },
          "metadata": {},
          "execution_count": 323
        }
      ],
      "source": [
        "crime['Length'] = crime['Description'].apply(lambda x: len(str(x)))\n",
        "crime.head()"
      ]
    },
    {
      "cell_type": "code",
      "execution_count": null,
      "metadata": {
        "colab": {
          "base_uri": "https://localhost:8080/",
          "height": 206
        },
        "id": "M8bxs-eQc39c",
        "outputId": "d92ed31a-b581-4706-a708-5ffa831c9b61"
      },
      "outputs": [
        {
          "output_type": "execute_result",
          "data": {
            "text/plain": [
              "   ID                                 Title  \\\n",
              "0   1   সাবেক প্রেমিককে টেনে নিলেন জাহ্নবী    \n",
              "1   2       করোনায় নারীকে উপহার প্রিয়াঙ্কা    \n",
              "2   3                        পোস্টের  টাকা    \n",
              "3   4              ক্যাটরিনাকে বিয়ে অমিতাভ    \n",
              "4   5                       মা হলেন ডিম্পি    \n",
              "\n",
              "                                         Description      Label  Length  \n",
              "0  বলিউডের কিংবদন্তি চিত্রনায়িকা প্রয়াত শ্রীদেবী ...  bollywood     723  \n",
              "1  করোনার মহামারীর নিঃস্বার্থভাবে বিশ্বের প্রান্ত...  bollywood     806  \n",
              "2  অভিনয় বলুন সৌন্দর্য একজন অন্যজনকে পেরিয়ে সামনে...  bollywood     608  \n",
              "3  বলিউডের অন্যতম ব্যাচেলর অভিনেত্রীর অন্যতম ক্যা...  bollywood     660  \n",
              "4  মা হলেন রাহুল মহাজনের প্রাক্তন স্ত্রী ডিম্পি গ...  bollywood     652  "
            ],
            "text/html": [
              "\n",
              "  <div id=\"df-f3278a24-3b48-4dfa-ba9e-acab4c5893c0\">\n",
              "    <div class=\"colab-df-container\">\n",
              "      <div>\n",
              "<style scoped>\n",
              "    .dataframe tbody tr th:only-of-type {\n",
              "        vertical-align: middle;\n",
              "    }\n",
              "\n",
              "    .dataframe tbody tr th {\n",
              "        vertical-align: top;\n",
              "    }\n",
              "\n",
              "    .dataframe thead th {\n",
              "        text-align: right;\n",
              "    }\n",
              "</style>\n",
              "<table border=\"1\" class=\"dataframe\">\n",
              "  <thead>\n",
              "    <tr style=\"text-align: right;\">\n",
              "      <th></th>\n",
              "      <th>ID</th>\n",
              "      <th>Title</th>\n",
              "      <th>Description</th>\n",
              "      <th>Label</th>\n",
              "      <th>Length</th>\n",
              "    </tr>\n",
              "  </thead>\n",
              "  <tbody>\n",
              "    <tr>\n",
              "      <th>0</th>\n",
              "      <td>1</td>\n",
              "      <td>সাবেক প্রেমিককে টেনে নিলেন জাহ্নবী</td>\n",
              "      <td>বলিউডের কিংবদন্তি চিত্রনায়িকা প্রয়াত শ্রীদেবী ...</td>\n",
              "      <td>bollywood</td>\n",
              "      <td>723</td>\n",
              "    </tr>\n",
              "    <tr>\n",
              "      <th>1</th>\n",
              "      <td>2</td>\n",
              "      <td>করোনায় নারীকে উপহার প্রিয়াঙ্কা</td>\n",
              "      <td>করোনার মহামারীর নিঃস্বার্থভাবে বিশ্বের প্রান্ত...</td>\n",
              "      <td>bollywood</td>\n",
              "      <td>806</td>\n",
              "    </tr>\n",
              "    <tr>\n",
              "      <th>2</th>\n",
              "      <td>3</td>\n",
              "      <td>পোস্টের  টাকা</td>\n",
              "      <td>অভিনয় বলুন সৌন্দর্য একজন অন্যজনকে পেরিয়ে সামনে...</td>\n",
              "      <td>bollywood</td>\n",
              "      <td>608</td>\n",
              "    </tr>\n",
              "    <tr>\n",
              "      <th>3</th>\n",
              "      <td>4</td>\n",
              "      <td>ক্যাটরিনাকে বিয়ে অমিতাভ</td>\n",
              "      <td>বলিউডের অন্যতম ব্যাচেলর অভিনেত্রীর অন্যতম ক্যা...</td>\n",
              "      <td>bollywood</td>\n",
              "      <td>660</td>\n",
              "    </tr>\n",
              "    <tr>\n",
              "      <th>4</th>\n",
              "      <td>5</td>\n",
              "      <td>মা হলেন ডিম্পি</td>\n",
              "      <td>মা হলেন রাহুল মহাজনের প্রাক্তন স্ত্রী ডিম্পি গ...</td>\n",
              "      <td>bollywood</td>\n",
              "      <td>652</td>\n",
              "    </tr>\n",
              "  </tbody>\n",
              "</table>\n",
              "</div>\n",
              "      <button class=\"colab-df-convert\" onclick=\"convertToInteractive('df-f3278a24-3b48-4dfa-ba9e-acab4c5893c0')\"\n",
              "              title=\"Convert this dataframe to an interactive table.\"\n",
              "              style=\"display:none;\">\n",
              "        \n",
              "  <svg xmlns=\"http://www.w3.org/2000/svg\" height=\"24px\"viewBox=\"0 0 24 24\"\n",
              "       width=\"24px\">\n",
              "    <path d=\"M0 0h24v24H0V0z\" fill=\"none\"/>\n",
              "    <path d=\"M18.56 5.44l.94 2.06.94-2.06 2.06-.94-2.06-.94-.94-2.06-.94 2.06-2.06.94zm-11 1L8.5 8.5l.94-2.06 2.06-.94-2.06-.94L8.5 2.5l-.94 2.06-2.06.94zm10 10l.94 2.06.94-2.06 2.06-.94-2.06-.94-.94-2.06-.94 2.06-2.06.94z\"/><path d=\"M17.41 7.96l-1.37-1.37c-.4-.4-.92-.59-1.43-.59-.52 0-1.04.2-1.43.59L10.3 9.45l-7.72 7.72c-.78.78-.78 2.05 0 2.83L4 21.41c.39.39.9.59 1.41.59.51 0 1.02-.2 1.41-.59l7.78-7.78 2.81-2.81c.8-.78.8-2.07 0-2.86zM5.41 20L4 18.59l7.72-7.72 1.47 1.35L5.41 20z\"/>\n",
              "  </svg>\n",
              "      </button>\n",
              "      \n",
              "  <style>\n",
              "    .colab-df-container {\n",
              "      display:flex;\n",
              "      flex-wrap:wrap;\n",
              "      gap: 12px;\n",
              "    }\n",
              "\n",
              "    .colab-df-convert {\n",
              "      background-color: #E8F0FE;\n",
              "      border: none;\n",
              "      border-radius: 50%;\n",
              "      cursor: pointer;\n",
              "      display: none;\n",
              "      fill: #1967D2;\n",
              "      height: 32px;\n",
              "      padding: 0 0 0 0;\n",
              "      width: 32px;\n",
              "    }\n",
              "\n",
              "    .colab-df-convert:hover {\n",
              "      background-color: #E2EBFA;\n",
              "      box-shadow: 0px 1px 2px rgba(60, 64, 67, 0.3), 0px 1px 3px 1px rgba(60, 64, 67, 0.15);\n",
              "      fill: #174EA6;\n",
              "    }\n",
              "\n",
              "    [theme=dark] .colab-df-convert {\n",
              "      background-color: #3B4455;\n",
              "      fill: #D2E3FC;\n",
              "    }\n",
              "\n",
              "    [theme=dark] .colab-df-convert:hover {\n",
              "      background-color: #434B5C;\n",
              "      box-shadow: 0px 1px 3px 1px rgba(0, 0, 0, 0.15);\n",
              "      filter: drop-shadow(0px 1px 2px rgba(0, 0, 0, 0.3));\n",
              "      fill: #FFFFFF;\n",
              "    }\n",
              "  </style>\n",
              "\n",
              "      <script>\n",
              "        const buttonEl =\n",
              "          document.querySelector('#df-f3278a24-3b48-4dfa-ba9e-acab4c5893c0 button.colab-df-convert');\n",
              "        buttonEl.style.display =\n",
              "          google.colab.kernel.accessAllowed ? 'block' : 'none';\n",
              "\n",
              "        async function convertToInteractive(key) {\n",
              "          const element = document.querySelector('#df-f3278a24-3b48-4dfa-ba9e-acab4c5893c0');\n",
              "          const dataTable =\n",
              "            await google.colab.kernel.invokeFunction('convertToInteractive',\n",
              "                                                     [key], {});\n",
              "          if (!dataTable) return;\n",
              "\n",
              "          const docLinkHtml = 'Like what you see? Visit the ' +\n",
              "            '<a target=\"_blank\" href=https://colab.research.google.com/notebooks/data_table.ipynb>data table notebook</a>'\n",
              "            + ' to learn more about interactive tables.';\n",
              "          element.innerHTML = '';\n",
              "          dataTable['output_type'] = 'display_data';\n",
              "          await google.colab.output.renderOutput(dataTable, element);\n",
              "          const docLink = document.createElement('div');\n",
              "          docLink.innerHTML = docLinkHtml;\n",
              "          element.appendChild(docLink);\n",
              "        }\n",
              "      </script>\n",
              "    </div>\n",
              "  </div>\n",
              "  "
            ]
          },
          "metadata": {},
          "execution_count": 324
        }
      ],
      "source": [
        "ent['Length'] = ent['Description'].apply(lambda x: len(str(x)))\n",
        "ent.head()"
      ]
    },
    {
      "cell_type": "code",
      "execution_count": null,
      "metadata": {
        "colab": {
          "base_uri": "https://localhost:8080/",
          "height": 206
        },
        "id": "nGEOUzfqc6YZ",
        "outputId": "09e7f601-b901-433c-9c2e-d7fe8c376efd"
      },
      "outputs": [
        {
          "output_type": "execute_result",
          "data": {
            "text/plain": [
              "   ID                                              Title  \\\n",
              "0   1   বিশ্ব আর্চারির বর্ষসেরা তালিকায় বাংলাদেশের রো...   \n",
              "1   2                           ল্যান্সনায়েক রোমান সানা    \n",
              "2   3                          এসএ গেমসে আরো  স্বর্ণপদক    \n",
              "3   4                            আর্চারিতে –এ  বাংলাদেশ    \n",
              "4   5                 আর্চারিতে স্বর্ণ পদক জিতেছেন সুমা    \n",
              "\n",
              "                                         Description      Label  Length  \n",
              "0   সালটা দুর্দান্ত কেটেছে বাংলাদেশের সেরা আর্চার...  athletics     946  \n",
              "1  তীরধনুক হাতে ক্রীড়াঅঙ্গনে দেশকে সাফল্য এনে রোম...  athletics     727  \n",
              "2  নেপালে এসএ গেমসে রোববার দিনভর সাফল্যের সোমবারও...  athletics     463  \n",
              "3  এসএ গেমসের আর্চারিতে অনন্য নজির গড়েছেন বাংলাদে...  athletics    1978  \n",
              "4  এসএ গেমসে আর্চারিতে মেয়েদের কম্পাউন্ড এককে শ্র...  athletics     802  "
            ],
            "text/html": [
              "\n",
              "  <div id=\"df-59dc78a7-b713-48e3-9a52-7b878b012fbe\">\n",
              "    <div class=\"colab-df-container\">\n",
              "      <div>\n",
              "<style scoped>\n",
              "    .dataframe tbody tr th:only-of-type {\n",
              "        vertical-align: middle;\n",
              "    }\n",
              "\n",
              "    .dataframe tbody tr th {\n",
              "        vertical-align: top;\n",
              "    }\n",
              "\n",
              "    .dataframe thead th {\n",
              "        text-align: right;\n",
              "    }\n",
              "</style>\n",
              "<table border=\"1\" class=\"dataframe\">\n",
              "  <thead>\n",
              "    <tr style=\"text-align: right;\">\n",
              "      <th></th>\n",
              "      <th>ID</th>\n",
              "      <th>Title</th>\n",
              "      <th>Description</th>\n",
              "      <th>Label</th>\n",
              "      <th>Length</th>\n",
              "    </tr>\n",
              "  </thead>\n",
              "  <tbody>\n",
              "    <tr>\n",
              "      <th>0</th>\n",
              "      <td>1</td>\n",
              "      <td>বিশ্ব আর্চারির বর্ষসেরা তালিকায় বাংলাদেশের রো...</td>\n",
              "      <td>সালটা দুর্দান্ত কেটেছে বাংলাদেশের সেরা আর্চার...</td>\n",
              "      <td>athletics</td>\n",
              "      <td>946</td>\n",
              "    </tr>\n",
              "    <tr>\n",
              "      <th>1</th>\n",
              "      <td>2</td>\n",
              "      <td>ল্যান্সনায়েক রোমান সানা</td>\n",
              "      <td>তীরধনুক হাতে ক্রীড়াঅঙ্গনে দেশকে সাফল্য এনে রোম...</td>\n",
              "      <td>athletics</td>\n",
              "      <td>727</td>\n",
              "    </tr>\n",
              "    <tr>\n",
              "      <th>2</th>\n",
              "      <td>3</td>\n",
              "      <td>এসএ গেমসে আরো  স্বর্ণপদক</td>\n",
              "      <td>নেপালে এসএ গেমসে রোববার দিনভর সাফল্যের সোমবারও...</td>\n",
              "      <td>athletics</td>\n",
              "      <td>463</td>\n",
              "    </tr>\n",
              "    <tr>\n",
              "      <th>3</th>\n",
              "      <td>4</td>\n",
              "      <td>আর্চারিতে –এ  বাংলাদেশ</td>\n",
              "      <td>এসএ গেমসের আর্চারিতে অনন্য নজির গড়েছেন বাংলাদে...</td>\n",
              "      <td>athletics</td>\n",
              "      <td>1978</td>\n",
              "    </tr>\n",
              "    <tr>\n",
              "      <th>4</th>\n",
              "      <td>5</td>\n",
              "      <td>আর্চারিতে স্বর্ণ পদক জিতেছেন সুমা</td>\n",
              "      <td>এসএ গেমসে আর্চারিতে মেয়েদের কম্পাউন্ড এককে শ্র...</td>\n",
              "      <td>athletics</td>\n",
              "      <td>802</td>\n",
              "    </tr>\n",
              "  </tbody>\n",
              "</table>\n",
              "</div>\n",
              "      <button class=\"colab-df-convert\" onclick=\"convertToInteractive('df-59dc78a7-b713-48e3-9a52-7b878b012fbe')\"\n",
              "              title=\"Convert this dataframe to an interactive table.\"\n",
              "              style=\"display:none;\">\n",
              "        \n",
              "  <svg xmlns=\"http://www.w3.org/2000/svg\" height=\"24px\"viewBox=\"0 0 24 24\"\n",
              "       width=\"24px\">\n",
              "    <path d=\"M0 0h24v24H0V0z\" fill=\"none\"/>\n",
              "    <path d=\"M18.56 5.44l.94 2.06.94-2.06 2.06-.94-2.06-.94-.94-2.06-.94 2.06-2.06.94zm-11 1L8.5 8.5l.94-2.06 2.06-.94-2.06-.94L8.5 2.5l-.94 2.06-2.06.94zm10 10l.94 2.06.94-2.06 2.06-.94-2.06-.94-.94-2.06-.94 2.06-2.06.94z\"/><path d=\"M17.41 7.96l-1.37-1.37c-.4-.4-.92-.59-1.43-.59-.52 0-1.04.2-1.43.59L10.3 9.45l-7.72 7.72c-.78.78-.78 2.05 0 2.83L4 21.41c.39.39.9.59 1.41.59.51 0 1.02-.2 1.41-.59l7.78-7.78 2.81-2.81c.8-.78.8-2.07 0-2.86zM5.41 20L4 18.59l7.72-7.72 1.47 1.35L5.41 20z\"/>\n",
              "  </svg>\n",
              "      </button>\n",
              "      \n",
              "  <style>\n",
              "    .colab-df-container {\n",
              "      display:flex;\n",
              "      flex-wrap:wrap;\n",
              "      gap: 12px;\n",
              "    }\n",
              "\n",
              "    .colab-df-convert {\n",
              "      background-color: #E8F0FE;\n",
              "      border: none;\n",
              "      border-radius: 50%;\n",
              "      cursor: pointer;\n",
              "      display: none;\n",
              "      fill: #1967D2;\n",
              "      height: 32px;\n",
              "      padding: 0 0 0 0;\n",
              "      width: 32px;\n",
              "    }\n",
              "\n",
              "    .colab-df-convert:hover {\n",
              "      background-color: #E2EBFA;\n",
              "      box-shadow: 0px 1px 2px rgba(60, 64, 67, 0.3), 0px 1px 3px 1px rgba(60, 64, 67, 0.15);\n",
              "      fill: #174EA6;\n",
              "    }\n",
              "\n",
              "    [theme=dark] .colab-df-convert {\n",
              "      background-color: #3B4455;\n",
              "      fill: #D2E3FC;\n",
              "    }\n",
              "\n",
              "    [theme=dark] .colab-df-convert:hover {\n",
              "      background-color: #434B5C;\n",
              "      box-shadow: 0px 1px 3px 1px rgba(0, 0, 0, 0.15);\n",
              "      filter: drop-shadow(0px 1px 2px rgba(0, 0, 0, 0.3));\n",
              "      fill: #FFFFFF;\n",
              "    }\n",
              "  </style>\n",
              "\n",
              "      <script>\n",
              "        const buttonEl =\n",
              "          document.querySelector('#df-59dc78a7-b713-48e3-9a52-7b878b012fbe button.colab-df-convert');\n",
              "        buttonEl.style.display =\n",
              "          google.colab.kernel.accessAllowed ? 'block' : 'none';\n",
              "\n",
              "        async function convertToInteractive(key) {\n",
              "          const element = document.querySelector('#df-59dc78a7-b713-48e3-9a52-7b878b012fbe');\n",
              "          const dataTable =\n",
              "            await google.colab.kernel.invokeFunction('convertToInteractive',\n",
              "                                                     [key], {});\n",
              "          if (!dataTable) return;\n",
              "\n",
              "          const docLinkHtml = 'Like what you see? Visit the ' +\n",
              "            '<a target=\"_blank\" href=https://colab.research.google.com/notebooks/data_table.ipynb>data table notebook</a>'\n",
              "            + ' to learn more about interactive tables.';\n",
              "          element.innerHTML = '';\n",
              "          dataTable['output_type'] = 'display_data';\n",
              "          await google.colab.output.renderOutput(dataTable, element);\n",
              "          const docLink = document.createElement('div');\n",
              "          docLink.innerHTML = docLinkHtml;\n",
              "          element.appendChild(docLink);\n",
              "        }\n",
              "      </script>\n",
              "    </div>\n",
              "  </div>\n",
              "  "
            ]
          },
          "metadata": {},
          "execution_count": 325
        }
      ],
      "source": [
        "sports['Length'] = sports['Description'].apply(lambda x: len(str(x)))\n",
        "sports.head()"
      ]
    },
    {
      "cell_type": "markdown",
      "metadata": {
        "id": "9D3Hd7TxdRhl"
      },
      "source": [
        "## Remove stopwords"
      ]
    },
    {
      "cell_type": "code",
      "execution_count": null,
      "metadata": {
        "id": "9zKBC3QZc7xw"
      },
      "outputs": [],
      "source": [
        "stopwords =list(open('/content/drive/My Drive/Journal/Stopwords.txt', mode='r', encoding='UTF-8'))\n",
        "\n",
        "#  f = open('the-zen-of-python.txt','r')"
      ]
    },
    {
      "cell_type": "code",
      "execution_count": null,
      "metadata": {
        "colab": {
          "base_uri": "https://localhost:8080/"
        },
        "id": "XTdCXyEwdUMf",
        "outputId": "c098454e-a24a-4abf-e5dd-37aef706759e"
      },
      "outputs": [
        {
          "output_type": "execute_result",
          "data": {
            "text/plain": [
              "['অই\\n',\n",
              " 'অগত্যা\\n',\n",
              " 'অত: পর\\n',\n",
              " 'অতএব\\n',\n",
              " 'অথচ\\n',\n",
              " 'অথবা\\n',\n",
              " 'অধিক\\n',\n",
              " 'অধীনে\\n',\n",
              " 'অধ্যায়\\n',\n",
              " 'অনুগ্রহ\\n',\n",
              " 'অনুভূত\\n',\n",
              " 'অনুযায়ী\\n',\n",
              " 'অনুরূপ\\n',\n",
              " 'অনুসন্ধান\\n',\n",
              " 'অনুসরণ\\n',\n",
              " 'অনুসারে\\n',\n",
              " 'অনুসৃত\\n',\n",
              " 'অনেক\\n',\n",
              " 'অনেকে\\n',\n",
              " 'অনেকেই\\n',\n",
              " 'অন্তত\\n',\n",
              " 'অন্য\\n',\n",
              " 'অন্যত্র\\n',\n",
              " 'অন্যভাবে\\n',\n",
              " 'অন্যান্য\\n',\n",
              " 'অপেক্ষাকৃতভাবে\\n',\n",
              " 'অবধি\\n',\n",
              " 'অবশ্য\\n',\n",
              " 'অবশ্যই\\n',\n",
              " 'অবস্থা\\n',\n",
              " 'অবিলম্বে\\n',\n",
              " 'অভ্যন্তরস্থ\\n',\n",
              " 'অর্জিত\\n',\n",
              " 'অর্থাত\\n',\n",
              " 'অসদৃশ\\n',\n",
              " 'অসম্ভাব্য\\n',\n",
              " 'আইন\\n',\n",
              " 'আউট\\n',\n",
              " 'আক্রান্ত\\n',\n",
              " 'আগামী\\n',\n",
              " 'আগে\\n',\n",
              " 'আগেই\\n',\n",
              " 'আগ্রহী\\n',\n",
              " 'আছে\\n',\n",
              " 'আজ\\n',\n",
              " 'আট\\n',\n",
              " 'আদেশ\\n',\n",
              " 'আদ্যভাগে\\n',\n",
              " 'আন্দাজ\\n',\n",
              " 'আপনার\\n',\n",
              " 'আপনি\\n',\n",
              " 'আবার\\n',\n",
              " 'আমরা\\n',\n",
              " 'আমাকে\\n',\n",
              " 'আমাদিগের\\n',\n",
              " 'আমাদের\\n',\n",
              " 'আমার\\n',\n",
              " 'আমি\\n',\n",
              " 'আর\\n',\n",
              " 'আরও\\n',\n",
              " 'আশি\\n',\n",
              " 'আশু\\n',\n",
              " 'আসা\\n',\n",
              " 'আসে\\n',\n",
              " 'ই\\n',\n",
              " 'ইচ্ছা\\n',\n",
              " 'ইচ্ছাপূর্বক\\n',\n",
              " 'ইতিমধ্যে\\n',\n",
              " 'ইতোমধ্যে\\n',\n",
              " 'ইত্যাদি\\n',\n",
              " 'ইশারা\\n',\n",
              " 'ইহা\\n',\n",
              " 'ইহাতে\\n',\n",
              " 'উক্তি\\n',\n",
              " 'উচিত\\n',\n",
              " 'উচ্চ\\n',\n",
              " 'উঠা\\n',\n",
              " 'উত্তম\\n',\n",
              " 'উত্তর\\n',\n",
              " 'উনি\\n',\n",
              " 'উপর\\n',\n",
              " 'উপরে\\n',\n",
              " 'উপলব্ধ\\n',\n",
              " 'উপায়\\n',\n",
              " 'উভয়\\n',\n",
              " 'উল্লেখ\\n',\n",
              " 'উল্লেখযোগ্যভাবে\\n',\n",
              " 'উহার\\n',\n",
              " 'ঊর্ধ্বতন\\n',\n",
              " 'এ\\n',\n",
              " 'এপর্যন্ত\\n',\n",
              " 'এঁদের\\n',\n",
              " 'এঁরা\\n',\n",
              " 'এই\\n',\n",
              " 'এইগুলো\\n',\n",
              " 'এইভাবে\\n',\n",
              " 'এক\\n',\n",
              " 'একই\\n',\n",
              " 'একটি\\n',\n",
              " 'একদা\\n',\n",
              " 'একবার\\n',\n",
              " 'একভাবে\\n',\n",
              " 'একরকম\\n',\n",
              " 'একসঙ্গে\\n',\n",
              " 'একা\\n',\n",
              " 'একে\\n',\n",
              " 'এক্\\n',\n",
              " 'এখন\\n',\n",
              " 'এখনও\\n',\n",
              " 'এখনো\\n',\n",
              " 'এখানে\\n',\n",
              " 'এখানেই\\n',\n",
              " 'এছাড়াও\\n',\n",
              " 'এটা\\n',\n",
              " 'এটাই\\n',\n",
              " 'এটি\\n',\n",
              " 'এত\\n',\n",
              " 'এতটাই\\n',\n",
              " 'এতদ্বারা\\n',\n",
              " 'এতে\\n',\n",
              " 'এদিকে\\n',\n",
              " 'এদের\\n',\n",
              " 'এপর্যন্ত\\n',\n",
              " 'এবং\\n',\n",
              " 'এবার\\n',\n",
              " 'এমন\\n',\n",
              " 'এমনকি\\n',\n",
              " 'এমনকী\\n',\n",
              " 'এমনি\\n',\n",
              " 'এর\\n',\n",
              " 'এরকম\\n',\n",
              " 'এরা\\n',\n",
              " 'এল\\n',\n",
              " 'এলাকায়\\n',\n",
              " 'এলাকার\\n',\n",
              " 'এস\\n',\n",
              " 'এসে\\n',\n",
              " 'ঐ\\n',\n",
              " 'ও\\n',\n",
              " 'ওঁদের\\n',\n",
              " 'ওঁর\\n',\n",
              " 'ওঁরা\\n',\n",
              " 'ওই\\n',\n",
              " 'ওকে\\n',\n",
              " 'ওখানে\\n',\n",
              " 'ওদের\\n',\n",
              " 'ওর\\n',\n",
              " 'ওরা\\n',\n",
              " 'ওহে\\n',\n",
              " 'কক্ষ\\n',\n",
              " 'কখন\\n',\n",
              " 'কখনও\\n',\n",
              " 'কত\\n',\n",
              " 'কবে\\n',\n",
              " 'কম\\n',\n",
              " 'কমনে\\n',\n",
              " 'কয়েক\\n',\n",
              " 'কয়েকটি\\n',\n",
              " 'করছে\\n',\n",
              " 'করছেন\\n',\n",
              " 'করতে\\n',\n",
              " 'করবে\\n',\n",
              " 'করবেন\\n',\n",
              " 'করলে\\n',\n",
              " 'করলেন\\n',\n",
              " 'করলো\\n',\n",
              " 'করা\\n',\n",
              " 'করাই\\n',\n",
              " 'করাত\\n',\n",
              " 'করার\\n',\n",
              " 'করায়\\n',\n",
              " 'করি\\n',\n",
              " 'করিতে\\n',\n",
              " 'করিয়া\\n',\n",
              " 'করিয়ে\\n',\n",
              " 'করে\\n',\n",
              " 'করেই\\n',\n",
              " 'করেছিল\\n',\n",
              " 'করেছিলেন\\n',\n",
              " 'করেছে\\n',\n",
              " 'করেছেন\\n',\n",
              " 'করেন\\n',\n",
              " 'কর্তব্য\\n',\n",
              " 'কাউকে\\n',\n",
              " 'কাছ\\n',\n",
              " 'কাছাকাছি\\n',\n",
              " 'কাছে\\n',\n",
              " 'কাজ\\n',\n",
              " 'কাজে\\n',\n",
              " 'কারও\\n',\n",
              " 'কারণ\\n',\n",
              " 'কারণসমূহ\\n',\n",
              " 'কারো\\n',\n",
              " 'কি\\n',\n",
              " 'কিংবা\\n',\n",
              " 'কিছু\\n',\n",
              " 'কিছুই\\n',\n",
              " 'কিছুটা\\n',\n",
              " 'কিছুনা\\n',\n",
              " 'কিনা\\n',\n",
              " 'কিন্তু\\n',\n",
              " 'কিভাবে\\n',\n",
              " 'কী\\n',\n",
              " 'কূপ\\n',\n",
              " 'কে\\n',\n",
              " 'কেউ\\n',\n",
              " 'কেউই\\n',\n",
              " 'কেউনা\\n',\n",
              " 'কেখা\\n',\n",
              " 'কেন\\n',\n",
              " 'কেবল\\n',\n",
              " 'কেবা\\n',\n",
              " 'কেস\\n',\n",
              " 'কেহ\\n',\n",
              " 'কোটি\\n',\n",
              " 'কোথা\\n',\n",
              " 'কোথাও\\n',\n",
              " 'কোথায়\\n',\n",
              " 'কোন\\n',\n",
              " 'কোনও\\n',\n",
              " 'কোনো\\n',\n",
              " 'ক্রম\\n',\n",
              " 'ক্ষেত্রে\\n',\n",
              " 'কয়েক\\n',\n",
              " 'কয়েকটি\\n',\n",
              " 'খুঁজছেন\\n',\n",
              " 'খুব\\n',\n",
              " 'খোলা\\n',\n",
              " 'খোলে\\n',\n",
              " 'গড়\\n',\n",
              " 'গত\\n',\n",
              " 'গিয়ে\\n',\n",
              " 'গিয়েছিলাম\\n',\n",
              " 'গিয়েছে\\n',\n",
              " 'গিয়ে\\n',\n",
              " 'গিয়েছে\\n',\n",
              " 'গুরুত্ব\\n',\n",
              " 'গুলি\\n',\n",
              " 'গেছে\\n',\n",
              " 'গেল\\n',\n",
              " 'গেলে\\n',\n",
              " 'গোটা\\n',\n",
              " 'গোষ্ঠীবদ্ধ\\n',\n",
              " 'গ্রহণ\\n',\n",
              " 'গ্রুপ\\n',\n",
              " 'ঘর\\n',\n",
              " 'ঘোষণা\\n',\n",
              " 'চলে\\n',\n",
              " 'চান\\n',\n",
              " 'চায়\\n',\n",
              " 'চার\\n',\n",
              " 'চালা\\n',\n",
              " 'চালান\\n',\n",
              " 'চালু\\n',\n",
              " 'চায়\\n',\n",
              " 'চেয়ে\\n',\n",
              " 'চেয়েছিলেন\\n',\n",
              " 'চেষ্টা\\n',\n",
              " 'চেয়ে\\n',\n",
              " 'ছয়\\n',\n",
              " 'ছাড়া\\n',\n",
              " 'ছাড়াছাড়ি\\n',\n",
              " 'ছাড়া\\n',\n",
              " 'ছাড়াও\\n',\n",
              " 'ছিল\\n',\n",
              " 'ছিলেন\\n',\n",
              " 'ছোট\\n',\n",
              " 'জন\\n',\n",
              " 'জনকে\\n',\n",
              " 'জনাব\\n',\n",
              " 'জনাবা\\n',\n",
              " 'জনের\\n',\n",
              " 'জন্য\\n',\n",
              " 'জানতাম\\n',\n",
              " 'জানতে\\n',\n",
              " 'জানা\\n',\n",
              " 'জানানো\\n',\n",
              " 'জানায়\\n',\n",
              " 'জানিয়ে\\n',\n",
              " 'জানিয়েছে\\n',\n",
              " 'জানে\\n',\n",
              " 'জায়গা\\n',\n",
              " 'জিজ্ঞাসা\\n',\n",
              " 'জিজ্ঞেস\\n',\n",
              " 'জিনিস\\n',\n",
              " 'জে\\n',\n",
              " 'জ্নজন\\n',\n",
              " 'টা\\n',\n",
              " 'টি\\n',\n",
              " 'ঠিক\\n',\n",
              " 'ঠিকআছে\\n',\n",
              " 'ডগা\\n',\n",
              " 'তখন\\n',\n",
              " 'তত\\n',\n",
              " 'তত্কারণে\\n',\n",
              " 'তত্প্রতি\\n',\n",
              " 'তথা\\n',\n",
              " 'তদনুসারে\\n',\n",
              " 'তদ্ব্যতীত\\n',\n",
              " 'তন্নতন্ন\\n',\n",
              " 'তবু\\n',\n",
              " 'তবে\\n',\n",
              " 'তরুণ\\n',\n",
              " 'তা\\n',\n",
              " 'তাঁকে\\n',\n",
              " 'তাঁদের\\n',\n",
              " 'তাঁর\\n',\n",
              " 'তাঁরা\\n',\n",
              " 'তাঁহারা\\n',\n",
              " 'তাই\\n',\n",
              " 'তাও\\n',\n",
              " 'তাকে\\n',\n",
              " 'তাতে\\n',\n",
              " 'তাদের\\n',\n",
              " 'তার\\n',\n",
              " 'তারপর\\n',\n",
              " 'তারপরেও\\n',\n",
              " 'তারা\\n',\n",
              " 'তারিখ\\n',\n",
              " 'তারৈ\\n',\n",
              " 'তাহলে\\n',\n",
              " 'তাহা\\n',\n",
              " 'তাহাতে\\n',\n",
              " 'তাহাদিগকে\\n',\n",
              " 'তাহাদেরই\\n',\n",
              " 'তাহার\\n',\n",
              " 'তিন\\n',\n",
              " 'তিনি\\n',\n",
              " 'তিনিও\\n',\n",
              " 'তীক্ষ্ন\\n',\n",
              " 'তুমি\\n',\n",
              " 'তুলে\\n',\n",
              " 'তেমন\\n',\n",
              " 'তৈরীর\\n',\n",
              " 'তো\\n',\n",
              " 'তোমার\\n',\n",
              " 'তোলে\\n',\n",
              " 'থাকবে\\n',\n",
              " 'থাকবেন\\n',\n",
              " 'থাকা\\n',\n",
              " 'থাকায়\\n',\n",
              " 'থাকায়\\n',\n",
              " 'থাকে\\n',\n",
              " 'থাকেন\\n',\n",
              " 'থেকে\\n',\n",
              " 'থেকেই\\n',\n",
              " 'থেকেও\\n',\n",
              " 'দরকারী\\n',\n",
              " 'দলবদ্ধ\\n',\n",
              " 'দান\\n',\n",
              " 'দিকে\\n',\n",
              " 'দিতে\\n',\n",
              " 'দিন\\n',\n",
              " 'দিয়ে\\n',\n",
              " 'দিয়েছে\\n',\n",
              " 'দিয়েছেন\\n',\n",
              " 'দিলেন\\n',\n",
              " 'দিয়ে\\n',\n",
              " 'দিয়েছে\\n',\n",
              " 'দিয়েছেন\\n',\n",
              " 'দু\\n',\n",
              " 'দুই\\n',\n",
              " 'দুটি\\n',\n",
              " 'দুটো\\n',\n",
              " 'দূরে\\n',\n",
              " 'দেওয়ার\\n',\n",
              " 'দেওয়া\\n',\n",
              " 'দেওয়ার\\n',\n",
              " 'দেখতে\\n',\n",
              " 'দেখা\\n',\n",
              " 'দেখাচ্ছে\\n',\n",
              " 'দেখিয়েছেন\\n',\n",
              " 'দেখে\\n',\n",
              " 'দেখেন\\n',\n",
              " 'দেন\\n',\n",
              " 'দেয়\\n',\n",
              " 'দেয়\\n',\n",
              " 'দ্বারা\\n',\n",
              " 'দ্বিগুণ\\n',\n",
              " 'দ্বিতীয়\\n',\n",
              " 'দ্য\\n',\n",
              " 'ধরা\\n',\n",
              " 'ধরে\\n',\n",
              " 'ধামার\\n',\n",
              " 'নতুন\\n',\n",
              " 'নব্বই\\n',\n",
              " 'নয়\\n',\n",
              " 'নাই\\n',\n",
              " 'নাকি\\n',\n",
              " 'নাগাদ\\n',\n",
              " 'নানা\\n',\n",
              " 'নাম\\n',\n",
              " 'নিচে\\n',\n",
              " 'নিছক\\n',\n",
              " 'নিজে\\n',\n",
              " 'নিজেই\\n',\n",
              " 'নিজেকে\\n',\n",
              " 'নিজেদের\\n',\n",
              " 'নিজেদেরকে\\n',\n",
              " 'নিজের\\n',\n",
              " 'নিতে\\n',\n",
              " 'নিদিষ্ট\\n',\n",
              " 'নিম্নাভিমুখে\\n',\n",
              " 'নিয়ে\\n',\n",
              " 'নির্দিষ্ট\\n',\n",
              " 'নির্বিশেষে\\n',\n",
              " 'নিশ্চিত\\n',\n",
              " 'নিয়ে\\n',\n",
              " 'নেই\\n',\n",
              " 'নেওয়ার\\n',\n",
              " 'নেওয়া\\n',\n",
              " 'নেয়ার\\n',\n",
              " 'নয়\\n',\n",
              " 'পক্ষই\\n',\n",
              " 'পক্ষে\\n',\n",
              " 'পঞ্চম\\n',\n",
              " 'পড়া\\n',\n",
              " 'পণ্য\\n',\n",
              " 'পথ\\n',\n",
              " 'পয়েন্ট\\n',\n",
              " 'পর\\n',\n",
              " 'পরন্তু\\n',\n",
              " 'পরবর্তী\\n',\n",
              " 'পরিণত\\n',\n",
              " 'পরিবর্তে\\n',\n",
              " 'পরে\\n',\n",
              " 'পরেই\\n',\n",
              " 'পরেও\\n',\n",
              " 'পর্যন্ত\\n',\n",
              " 'পর্যাপ্ত\\n',\n",
              " 'পাঁচ\\n',\n",
              " 'পাওয়া\\n',\n",
              " 'পাচ\\n',\n",
              " 'পায়\\n',\n",
              " 'পারা\\n',\n",
              " 'পারি\\n',\n",
              " 'পারিনি\\n',\n",
              " 'পারে\\n',\n",
              " 'পারেন\\n',\n",
              " 'পালা\\n',\n",
              " 'পাশ\\n',\n",
              " 'পাশে\\n',\n",
              " 'পিছনে\\n',\n",
              " 'পিঠের\\n',\n",
              " 'পুরোনো\\n',\n",
              " 'পুরোপুরি\\n',\n",
              " 'পূর্বে\\n',\n",
              " 'পৃষ্ঠা\\n',\n",
              " 'পৃষ্ঠাগুলি\\n',\n",
              " 'পেছনে\\n',\n",
              " 'পেয়েছেন\\n',\n",
              " 'পেয়ে\\n',\n",
              " 'পেয়্র্\\n',\n",
              " 'প্রকৃতপক্ষে\\n',\n",
              " 'প্রণীত\\n',\n",
              " 'প্রতি\\n',\n",
              " 'প্রথম\\n',\n",
              " 'প্রদত্ত\\n',\n",
              " 'প্রদর্শনী\\n',\n",
              " 'প্রদর্শিত\\n',\n",
              " 'প্রধানত\\n',\n",
              " 'প্রবলভাবে\\n',\n",
              " 'প্রভৃতি\\n',\n",
              " 'প্রমাণীকরণ\\n',\n",
              " 'প্রযন্ত\\n',\n",
              " 'প্রয়োজন\\n',\n",
              " 'প্রয়োজনীয়\\n',\n",
              " 'প্রসূত\\n',\n",
              " 'প্রাক্তন\\n',\n",
              " 'প্রাথমিক\\n',\n",
              " 'প্রাথমিকভাবে\\n',\n",
              " 'প্রান্ত\\n',\n",
              " 'প্রাপ্ত\\n',\n",
              " 'প্রায়\\n',\n",
              " 'প্রায়ই\\n',\n",
              " 'প্রায়\\n',\n",
              " 'ফলাফল\\n',\n",
              " 'ফলে\\n',\n",
              " 'ফিক্স\\n',\n",
              " 'ফিরে\\n',\n",
              " 'ফের\\n',\n",
              " 'বক্তব্য\\n',\n",
              " 'বছর\\n',\n",
              " 'বড়\\n',\n",
              " 'বদলে\\n',\n",
              " 'বন\\n',\n",
              " 'বন্ধ\\n',\n",
              " 'বরং\\n',\n",
              " 'বরাবর\\n',\n",
              " 'বর্ণন\\n',\n",
              " 'বর্তমান\\n',\n",
              " 'বলতে\\n',\n",
              " 'বলল\\n',\n",
              " 'বললেন\\n',\n",
              " 'বলা\\n',\n",
              " 'বলে\\n',\n",
              " 'বলেছেন\\n',\n",
              " 'বলেন\\n',\n",
              " 'বসে\\n',\n",
              " 'বহু\\n',\n",
              " 'বা\\n',\n",
              " 'বাঁক\\n',\n",
              " 'বাইরে\\n',\n",
              " 'বাকি\\n',\n",
              " 'বাড়ি\\n',\n",
              " 'বাতিক\\n',\n",
              " 'বাদ\\n',\n",
              " 'বাদে\\n',\n",
              " 'বার\\n',\n",
              " 'বাহিরে\\n',\n",
              " 'বিনা\\n',\n",
              " 'বিন্দু\\n',\n",
              " 'বিভিন্ন\\n',\n",
              " 'বিশেষ\\n',\n",
              " 'বিশেষণ\\n',\n",
              " 'বিশেষত\\n',\n",
              " 'বিশেষভাবে\\n',\n",
              " 'বিশ্ব\\n',\n",
              " 'বিষয়টি\\n',\n",
              " 'বুঝিয়ে\\n',\n",
              " 'বৃহত্তর\\n',\n",
              " 'বের\\n',\n",
              " 'বেশ\\n',\n",
              " 'বেশি\\n',\n",
              " 'বেশী\\n',\n",
              " 'ব্যতীত\\n',\n",
              " 'ব্যবহার\\n',\n",
              " 'ব্যবহারসমূহ\\n',\n",
              " 'ব্যবহৃত\\n',\n",
              " 'ব্যাক\\n',\n",
              " 'ব্যাপকভাবে\\n',\n",
              " 'ব্যাপারে\\n',\n",
              " 'ভবিষ্যতে\\n',\n",
              " 'ভান\\n',\n",
              " 'ভাবে\\n',\n",
              " 'ভাবেই\\n',\n",
              " 'ভাল\\n',\n",
              " 'ভিতরে\\n',\n",
              " 'ভিন্ন\\n',\n",
              " 'ভিন্নভাবে\\n',\n",
              " 'মত\\n',\n",
              " 'মতো\\n',\n",
              " 'মতোই\\n',\n",
              " 'মধ্যভাগে\\n',\n",
              " 'মধ্যে\\n',\n",
              " 'মধ্যেই\\n',\n",
              " 'মধ্যেও\\n',\n",
              " 'মনে\\n',\n",
              " 'মনে হয়\\n',\n",
              " 'মস্ত\\n',\n",
              " 'মহান\\n',\n",
              " 'মাত্র\\n',\n",
              " 'মাধ্যম\\n',\n",
              " 'মাধ্যমে\\n',\n",
              " 'মান\\n',\n",
              " 'মানানসই\\n',\n",
              " 'মানুষ\\n',\n",
              " 'মানে\\n',\n",
              " 'মামলা\\n',\n",
              " 'মিলিয়ন\\n',\n",
              " 'মুখ\\n',\n",
              " 'মূলত\\n',\n",
              " 'মোট\\n',\n",
              " 'মোটেই\\n',\n",
              " 'যখন\\n',\n",
              " 'যখনই\\n',\n",
              " 'যত\\n',\n",
              " 'যতটা\\n',\n",
              " 'যথা\\n',\n",
              " 'যথাক্রমে\\n',\n",
              " 'যথেষ্ট\\n',\n",
              " 'যদি\\n',\n",
              " 'যদিও\\n',\n",
              " 'যন্ত্রাংশ\\n',\n",
              " 'যা\\n',\n",
              " 'যাঁর\\n',\n",
              " 'যাঁরা\\n',\n",
              " 'যাই\\n',\n",
              " 'যাওয়া\\n',\n",
              " 'যাওয়ার\\n',\n",
              " 'যাওয়া\\n',\n",
              " 'যাওয়ার\\n',\n",
              " 'যাকে\\n',\n",
              " 'যাচ্ছে\\n',\n",
              " 'যাতে\\n',\n",
              " 'যাদের\\n',\n",
              " 'যান\\n',\n",
              " 'যাবে\\n',\n",
              " 'যায়\\n',\n",
              " 'যার\\n',\n",
              " 'যারা\\n',\n",
              " 'যাহার\\n',\n",
              " 'যাহোক\\n',\n",
              " 'যিনি\\n',\n",
              " 'যে\\n',\n",
              " 'যেখানে\\n',\n",
              " 'যেখানেই\\n',\n",
              " 'যেটি\\n',\n",
              " 'যেতে\\n',\n",
              " 'যেন\\n',\n",
              " 'যেমন\\n',\n",
              " 'যেহেতু\\n',\n",
              " 'যোগ\\n',\n",
              " 'রকম\\n',\n",
              " 'রয়েছে\\n',\n",
              " 'রাখা\\n',\n",
              " 'রাখে\\n',\n",
              " 'রাজী\\n',\n",
              " 'রাজ্যের\\n',\n",
              " 'রেখে\\n',\n",
              " 'রয়েছে\\n',\n",
              " 'লক্ষ\\n',\n",
              " 'লাইন\\n',\n",
              " 'লাল\\n',\n",
              " 'শত\\n',\n",
              " 'শব্দ\\n',\n",
              " 'শীঘ্র\\n',\n",
              " 'শীঘ্রই\\n',\n",
              " 'শুধু\\n',\n",
              " 'শুরু\\n',\n",
              " 'শুরুতে\\n',\n",
              " 'শূন্য\\n',\n",
              " 'শেষ\\n',\n",
              " 'সংক্রান্ত\\n',\n",
              " 'সংক্ষিপ্ত\\n',\n",
              " 'সংক্ষেপে\\n',\n",
              " 'সংখ্যা\\n',\n",
              " 'সংখ্যার\\n',\n",
              " 'সংশ্লিষ্ট\\n',\n",
              " 'সক্ষম\\n',\n",
              " 'সঙ্গে\\n',\n",
              " 'সঙ্গেও\\n',\n",
              " 'সত্য\\n',\n",
              " 'সত্যিই\\n',\n",
              " 'সদয়\\n',\n",
              " 'সদস্য\\n',\n",
              " 'সদস্যদের\\n',\n",
              " 'সফলভাবে\\n',\n",
              " 'সব\\n',\n",
              " 'সবচেয়ে\\n',\n",
              " 'সবাই\\n',\n",
              " 'সবার\\n',\n",
              " 'সময়\\n',\n",
              " 'সমস্ত\\n',\n",
              " 'সমান\\n',\n",
              " 'সম্পন্ন\\n',\n",
              " 'সম্প্রতি\\n',\n",
              " 'সম্ভব\\n',\n",
              " 'সম্ভবত\\n',\n",
              " 'সম্ভাব্য\\n',\n",
              " 'সরাইয়া\\n',\n",
              " 'সর্বত্র\\n',\n",
              " 'সর্বদা\\n',\n",
              " 'সর্বস্বান্ত\\n',\n",
              " 'সহ\\n',\n",
              " 'সহিত\\n',\n",
              " 'সাত\\n',\n",
              " 'সাধারণ\\n',\n",
              " 'সাধারণত\\n',\n",
              " 'সাব\\n',\n",
              " 'সাবেক\\n',\n",
              " 'সামগ্রিক\\n',\n",
              " 'সামনে\\n',\n",
              " 'সামান্য\\n',\n",
              " 'সাম্প্রতিক\\n',\n",
              " 'সুতরাং\\n',\n",
              " 'সুত্র\\n',\n",
              " 'সূচক\\n',\n",
              " 'সে\\n',\n",
              " 'সে হবে\\n',\n",
              " 'সেই\\n',\n",
              " 'সেকেন্ড\\n',\n",
              " 'সেখান\\n',\n",
              " 'সেখানে\\n',\n",
              " 'সেগুলো\\n',\n",
              " 'সেটা\\n',\n",
              " 'সেটাই\\n',\n",
              " 'সেটাও\\n',\n",
              " 'সেটি\\n',\n",
              " 'সেরা\\n',\n",
              " 'স্টপ\\n',\n",
              " 'স্থাপিত\\n',\n",
              " 'স্পষ্ট\\n',\n",
              " 'স্পষ্টত\\n',\n",
              " 'স্পষ্টতই\\n',\n",
              " 'স্ব\\n',\n",
              " 'স্বয়ং\\n',\n",
              " 'স্বাগত\\n',\n",
              " 'স্বাভাবিকভাবে\\n',\n",
              " 'স্বার্থ\\n',\n",
              " 'স্বয়ং\\n',\n",
              " 'হইতে\\n',\n",
              " 'হইবে\\n',\n",
              " 'হইয়া\\n',\n",
              " 'হওয়া\\n',\n",
              " 'হওয়ায়\\n',\n",
              " 'হওয়ার\\n',\n",
              " 'হচ্ছে\\n',\n",
              " 'হত\\n',\n",
              " 'হতে\\n',\n",
              " 'হতেই\\n',\n",
              " 'হন\\n',\n",
              " 'হবে\\n',\n",
              " 'হবেন\\n',\n",
              " 'হয়\\n',\n",
              " 'হয়তো\\n',\n",
              " 'হয়নি\\n',\n",
              " 'হয়ে\\n',\n",
              " 'হয়েই\\n',\n",
              " 'হয়েছিল\\n',\n",
              " 'হয়েছে\\n',\n",
              " 'হয়েছেন\\n',\n",
              " 'হল\\n',\n",
              " 'হলে\\n',\n",
              " 'হলেই\\n',\n",
              " 'হলেও\\n',\n",
              " 'হলো\\n',\n",
              " 'হাজার\\n',\n",
              " 'হায়\\n',\n",
              " 'হারানো\\n',\n",
              " 'হিসাবে\\n',\n",
              " 'হৈলে\\n',\n",
              " 'হোক\\n',\n",
              " 'হয়\\n',\n",
              " 'হয়তো\\n',\n",
              " 'হয়নি\\n',\n",
              " 'হয়ে\\n',\n",
              " 'হয়েই\\n',\n",
              " 'হয়েছিল\\n',\n",
              " 'হয়েছে\\n',\n",
              " 'হয়েছেন\\n',\n",
              " 'অংশ\\n',\n",
              " 'অতএব\\n',\n",
              " 'অথচ\\n',\n",
              " 'অথবা\\n',\n",
              " 'অনুযায়ী\\n',\n",
              " 'অনেক\\n',\n",
              " 'অনেকে\\n',\n",
              " 'অনেকেই\\n',\n",
              " 'অন্তত\\n',\n",
              " 'অন্য\\n',\n",
              " 'অবধি\\n',\n",
              " 'অবশ্য\\n',\n",
              " 'অর্থাত\\n',\n",
              " 'আই\\n',\n",
              " 'আগামী\\n',\n",
              " 'আগে\\n',\n",
              " 'আগেই\\n',\n",
              " 'আছে\\n',\n",
              " 'আজ\\n',\n",
              " 'আদ্যভাগে\\n',\n",
              " 'আপনার\\n',\n",
              " 'আপনি\\n',\n",
              " 'আবার\\n',\n",
              " 'আমরা\\n',\n",
              " 'আমাকে\\n',\n",
              " 'আমাদের\\n',\n",
              " 'আমার\\n',\n",
              " 'আমি\\n',\n",
              " 'আর\\n',\n",
              " 'আরও\\n',\n",
              " 'ই\\n',\n",
              " 'ইত্যাদি\\n',\n",
              " 'ইহা\\n',\n",
              " 'উচিত\\n',\n",
              " 'উত্তর\\n',\n",
              " 'উনি\\n',\n",
              " 'উপর\\n',\n",
              " 'উপরে\\n',\n",
              " 'এ\\n',\n",
              " 'এঁদের\\n',\n",
              " 'এঁরা\\n',\n",
              " 'এই\\n',\n",
              " 'একই\\n',\n",
              " 'একটি\\n',\n",
              " 'একবার\\n',\n",
              " 'একে\\n',\n",
              " 'এক্\\n',\n",
              " 'এখন\\n',\n",
              " 'এখনও\\n',\n",
              " 'এখানে\\n',\n",
              " 'এখানেই\\n',\n",
              " 'এটা\\n',\n",
              " 'এটাই\\n',\n",
              " 'এটি\\n',\n",
              " 'এত\\n',\n",
              " 'এতটাই\\n',\n",
              " 'এতে\\n',\n",
              " 'এদের\\n',\n",
              " 'এব\\n',\n",
              " 'এবং\\n',\n",
              " 'এবার\\n',\n",
              " 'এমন\\n',\n",
              " 'এমনকী\\n',\n",
              " 'এমনি\\n',\n",
              " 'এর\\n',\n",
              " 'এরা\\n',\n",
              " 'এল\\n',\n",
              " 'এস\\n',\n",
              " 'এসে\\n',\n",
              " 'ঐ\\n',\n",
              " 'ও\\n',\n",
              " 'ওঁদের\\n',\n",
              " 'ওঁর\\n',\n",
              " 'ওঁরা\\n',\n",
              " 'ওই\\n',\n",
              " 'ওকে\\n',\n",
              " 'ওখানে\\n',\n",
              " 'ওদের\\n',\n",
              " 'ওর\\n',\n",
              " 'ওরা\\n',\n",
              " 'কখনও\\n',\n",
              " 'কত\\n',\n",
              " 'কবে\\n',\n",
              " 'কমনে\\n',\n",
              " 'কয়েক\\n',\n",
              " 'কয়েকটি\\n',\n",
              " 'করছে\\n',\n",
              " 'করছেন\\n',\n",
              " 'করতে\\n',\n",
              " 'করবে\\n',\n",
              " 'করবেন\\n',\n",
              " 'করলে\\n',\n",
              " 'করলেন\\n',\n",
              " 'করা\\n',\n",
              " 'করাই\\n',\n",
              " 'করায়\\n',\n",
              " 'করার\\n',\n",
              " 'করি\\n',\n",
              " 'করিতে\\n',\n",
              " 'করিয়া\\n',\n",
              " 'করিয়ে\\n',\n",
              " 'করে\\n',\n",
              " 'করেই\\n',\n",
              " 'করেছিলেন\\n',\n",
              " 'করেছে\\n',\n",
              " 'করেছেন\\n',\n",
              " 'করেন\\n',\n",
              " 'কাউকে\\n',\n",
              " 'কাছ\\n',\n",
              " 'কাছে\\n',\n",
              " 'কাজ\\n',\n",
              " 'কাজে\\n',\n",
              " 'কারও\\n',\n",
              " 'কারণ\\n',\n",
              " 'কি\\n',\n",
              " 'কিংবা\\n',\n",
              " 'কিছু\\n',\n",
              " 'কিছুই\\n',\n",
              " 'কিন্তু\\n',\n",
              " 'কী\\n',\n",
              " 'কে\\n',\n",
              " 'কেউ\\n',\n",
              " 'কেউই\\n',\n",
              " 'কেখা\\n',\n",
              " 'কেন\\n',\n",
              " 'কোটি\\n',\n",
              " 'কোন\\n',\n",
              " 'কোনও\\n',\n",
              " 'কোনো\\n',\n",
              " 'ক্ষেত্রে\\n',\n",
              " 'কয়েক\\n',\n",
              " 'খুব\\n',\n",
              " 'গিয়ে\\n',\n",
              " 'গিয়েছে\\n',\n",
              " 'গিয়ে\\n',\n",
              " 'গুলি\\n',\n",
              " 'গেছে\\n',\n",
              " 'গেল\\n',\n",
              " 'গেলে\\n',\n",
              " 'গোটা\\n',\n",
              " 'চলে\\n',\n",
              " 'চান\\n',\n",
              " 'চায়\\n',\n",
              " 'চার\\n',\n",
              " 'চালু\\n',\n",
              " 'চেয়ে\\n',\n",
              " 'চেষ্টা\\n',\n",
              " 'ছাড়া\\n',\n",
              " 'ছাড়াও\\n',\n",
              " 'ছিল\\n',\n",
              " 'ছিলেন\\n',\n",
              " 'জন\\n',\n",
              " 'জনকে\\n',\n",
              " 'জনের\\n',\n",
              " 'জন্য\\n',\n",
              " 'জন্যওজে\\n',\n",
              " 'জানতে\\n',\n",
              " 'জানা\\n',\n",
              " 'জানানো\\n',\n",
              " 'জানায়\\n',\n",
              " 'জানিয়ে\\n',\n",
              " 'জানিয়েছে\\n',\n",
              " 'জে\\n',\n",
              " 'জ্নজন\\n',\n",
              " 'টি\\n',\n",
              " 'ঠিক\\n',\n",
              " 'তখন\\n',\n",
              " 'তত\\n',\n",
              " 'তথা\\n',\n",
              " 'তবু\\n',\n",
              " 'তবে\\n',\n",
              " 'তা\\n',\n",
              " 'তাঁকে\\n',\n",
              " 'তাঁদের\\n',\n",
              " 'তাঁর\\n',\n",
              " 'তাঁরা\\n',\n",
              " 'তাঁাহারা\\n',\n",
              " 'তাই\\n',\n",
              " 'তাও\\n',\n",
              " 'তাকে\\n',\n",
              " 'তাতে\\n',\n",
              " 'তাদের\\n',\n",
              " 'তার\\n',\n",
              " 'তারপর\\n',\n",
              " 'তারা\\n',\n",
              " 'তারৈ\\n',\n",
              " 'তাহলে\\n',\n",
              " 'তাহা\\n',\n",
              " 'তাহাতে\\n',\n",
              " 'তাহার\\n',\n",
              " 'তিনঐ\\n',\n",
              " 'তিনি\\n',\n",
              " 'তিনিও\\n',\n",
              " 'তুমি\\n',\n",
              " 'তুলে\\n',\n",
              " 'তেমন\\n',\n",
              " 'তো\\n',\n",
              " 'তোমার\\n',\n",
              " 'থাকবে\\n',\n",
              " 'থাকবেন\\n',\n",
              " 'থাকা\\n',\n",
              " 'থাকায়\\n',\n",
              " 'থাকে\\n',\n",
              " 'থাকেন\\n',\n",
              " 'থেকে\\n',\n",
              " 'থেকেই\\n',\n",
              " 'থেকেও\\n',\n",
              " 'দিকে\\n',\n",
              " 'দিতে\\n',\n",
              " 'দিন\\n',\n",
              " 'দিয়ে\\n',\n",
              " 'দিয়েছে\\n',\n",
              " 'দিয়েছেন\\n',\n",
              " 'দিলেন\\n',\n",
              " 'দু\\n',\n",
              " 'দুই\\n',\n",
              " 'দুটি\\n',\n",
              " 'দুটো\\n',\n",
              " 'দেওয়া\\n',\n",
              " 'দেওয়ার\\n',\n",
              " 'দেওয়া\\n',\n",
              " 'দেখতে\\n',\n",
              " 'দেখা\\n',\n",
              " 'দেখে\\n',\n",
              " 'দেন\\n',\n",
              " 'দেয়\\n',\n",
              " 'দ্বারা\\n',\n",
              " 'ধরা\\n',\n",
              " 'ধরে\\n',\n",
              " 'ধামার\\n',\n",
              " 'নতুন\\n',\n",
              " 'নয়\\n',\n",
              " 'না\\n',\n",
              " 'নাই\\n',\n",
              " 'নাকি\\n',\n",
              " 'নাগাদ\\n',\n",
              " 'নানা\\n',\n",
              " 'নিজে\\n',\n",
              " 'নিজেই\\n',\n",
              " 'নিজেদের\\n',\n",
              " 'নিজের\\n',\n",
              " 'নিতে\\n',\n",
              " 'নিয়ে\\n',\n",
              " 'নিয়ে\\n',\n",
              " 'নেই\\n',\n",
              " 'নেওয়া\\n',\n",
              " 'নেওয়ার\\n',\n",
              " 'নেওয়া\\n',\n",
              " 'নয়\\n',\n",
              " 'পক্ষে\\n',\n",
              " 'পর\\n',\n",
              " 'পরে\\n',\n",
              " 'পরেই\\n',\n",
              " 'পরেও\\n',\n",
              " 'পর্যন্ত\\n',\n",
              " 'পাওয়া\\n',\n",
              " 'পাচ\\n',\n",
              " 'পারি\\n',\n",
              " 'পারে\\n',\n",
              " 'পারেন\\n',\n",
              " 'পি\\n',\n",
              " 'পেয়ে\\n',\n",
              " 'পেয়্র্\\n',\n",
              " 'প্রতি\\n',\n",
              " 'প্রথম\\n',\n",
              " 'প্রভৃতি\\n',\n",
              " 'প্রযন্ত\\n',\n",
              " 'প্রাথমিক\\n',\n",
              " 'প্রায়\\n',\n",
              " ...]"
            ]
          },
          "metadata": {},
          "execution_count": 327
        }
      ],
      "source": [
        "stopwords"
      ]
    },
    {
      "cell_type": "code",
      "execution_count": null,
      "metadata": {
        "colab": {
          "base_uri": "https://localhost:8080/"
        },
        "id": "klWSvblKdV7M",
        "outputId": "390f2f87-9135-4aa8-de32-514639663df6"
      },
      "outputs": [
        {
          "output_type": "stream",
          "name": "stderr",
          "text": [
            "[nltk_data] Downloading package punkt to /root/nltk_data...\n",
            "[nltk_data]   Package punkt is already up-to-date!\n"
          ]
        }
      ],
      "source": [
        "from nltk import word_tokenize\n",
        "\n",
        "import nltk\n",
        "nltk.download('punkt')\n",
        "\n",
        "def remove_stopwords(text):\n",
        "    removed = []\n",
        "    stop_words = stopwords\n",
        "    tokens = word_tokenize(text)\n",
        "    for i in range(len(tokens)):\n",
        "        if tokens[i] not in stop_words:\n",
        "            removed.append(tokens[i])\n",
        "    return \" \".join(removed)"
      ]
    },
    {
      "cell_type": "code",
      "execution_count": null,
      "metadata": {
        "colab": {
          "base_uri": "https://localhost:8080/",
          "height": 206
        },
        "id": "ZOMuRMsxdjuC",
        "outputId": "a8a22a41-2d79-4df4-c96b-f34afb40c0cb"
      },
      "outputs": [
        {
          "output_type": "execute_result",
          "data": {
            "text/plain": [
              "   ID                                           Title  \\\n",
              "0   1        পাখির আঘাতে ড্যাশ উড়োজাহাজের জরুরি অবতরণ   \n",
              "1   2  চট্টগ্রামে বিমানে যান্ত্রিক ত্রুটি জরুরি অবতরণ   \n",
              "2   3                 বিমানের ড্যাশ এইটের জরুরি অবতরণ   \n",
              "3   4    উড়োজাহাজেই মৃত্যু ওমানপ্রবাসীর ঘটেছি ফ্লাইটে   \n",
              "4   5                                      অভ্র করবেন   \n",
              "\n",
              "                                         Description Label  Length  New_length  \n",
              "0  বিমান বাংলাদেশ এয়ারলাইনসের ড্যাশ মডেলের উড়োজাহ...   Air    2438        2423  \n",
              "1  আকাশে ওড়ার মিনিট চট্টগ্রাম শাহ আমানত আন্তর্জা...   Air     839         831  \n",
              "2  হজরত শাহজালাল আন্তর্জাতিক বিমানবন্দরে বিমান বা...   Air    2180        2167  \n",
              "3  স্বপ্ন বিদেশে গিয়েছিলেন ওমান প্রবাসী রানা আহমে...   Air    3249        3228  \n",
              "4  ইয়াঙ্গুন আন্তর্জাতিক বিমানবন্দরে মে সন্ধ্যায় র...   Air    3527        3488  "
            ],
            "text/html": [
              "\n",
              "  <div id=\"df-75cbd15a-9ca4-4799-ae6a-ddccc6e23361\">\n",
              "    <div class=\"colab-df-container\">\n",
              "      <div>\n",
              "<style scoped>\n",
              "    .dataframe tbody tr th:only-of-type {\n",
              "        vertical-align: middle;\n",
              "    }\n",
              "\n",
              "    .dataframe tbody tr th {\n",
              "        vertical-align: top;\n",
              "    }\n",
              "\n",
              "    .dataframe thead th {\n",
              "        text-align: right;\n",
              "    }\n",
              "</style>\n",
              "<table border=\"1\" class=\"dataframe\">\n",
              "  <thead>\n",
              "    <tr style=\"text-align: right;\">\n",
              "      <th></th>\n",
              "      <th>ID</th>\n",
              "      <th>Title</th>\n",
              "      <th>Description</th>\n",
              "      <th>Label</th>\n",
              "      <th>Length</th>\n",
              "      <th>New_length</th>\n",
              "    </tr>\n",
              "  </thead>\n",
              "  <tbody>\n",
              "    <tr>\n",
              "      <th>0</th>\n",
              "      <td>1</td>\n",
              "      <td>পাখির আঘাতে ড্যাশ উড়োজাহাজের জরুরি অবতরণ</td>\n",
              "      <td>বিমান বাংলাদেশ এয়ারলাইনসের ড্যাশ মডেলের উড়োজাহ...</td>\n",
              "      <td>Air</td>\n",
              "      <td>2438</td>\n",
              "      <td>2423</td>\n",
              "    </tr>\n",
              "    <tr>\n",
              "      <th>1</th>\n",
              "      <td>2</td>\n",
              "      <td>চট্টগ্রামে বিমানে যান্ত্রিক ত্রুটি জরুরি অবতরণ</td>\n",
              "      <td>আকাশে ওড়ার মিনিট চট্টগ্রাম শাহ আমানত আন্তর্জা...</td>\n",
              "      <td>Air</td>\n",
              "      <td>839</td>\n",
              "      <td>831</td>\n",
              "    </tr>\n",
              "    <tr>\n",
              "      <th>2</th>\n",
              "      <td>3</td>\n",
              "      <td>বিমানের ড্যাশ এইটের জরুরি অবতরণ</td>\n",
              "      <td>হজরত শাহজালাল আন্তর্জাতিক বিমানবন্দরে বিমান বা...</td>\n",
              "      <td>Air</td>\n",
              "      <td>2180</td>\n",
              "      <td>2167</td>\n",
              "    </tr>\n",
              "    <tr>\n",
              "      <th>3</th>\n",
              "      <td>4</td>\n",
              "      <td>উড়োজাহাজেই মৃত্যু ওমানপ্রবাসীর ঘটেছি ফ্লাইটে</td>\n",
              "      <td>স্বপ্ন বিদেশে গিয়েছিলেন ওমান প্রবাসী রানা আহমে...</td>\n",
              "      <td>Air</td>\n",
              "      <td>3249</td>\n",
              "      <td>3228</td>\n",
              "    </tr>\n",
              "    <tr>\n",
              "      <th>4</th>\n",
              "      <td>5</td>\n",
              "      <td>অভ্র করবেন</td>\n",
              "      <td>ইয়াঙ্গুন আন্তর্জাতিক বিমানবন্দরে মে সন্ধ্যায় র...</td>\n",
              "      <td>Air</td>\n",
              "      <td>3527</td>\n",
              "      <td>3488</td>\n",
              "    </tr>\n",
              "  </tbody>\n",
              "</table>\n",
              "</div>\n",
              "      <button class=\"colab-df-convert\" onclick=\"convertToInteractive('df-75cbd15a-9ca4-4799-ae6a-ddccc6e23361')\"\n",
              "              title=\"Convert this dataframe to an interactive table.\"\n",
              "              style=\"display:none;\">\n",
              "        \n",
              "  <svg xmlns=\"http://www.w3.org/2000/svg\" height=\"24px\"viewBox=\"0 0 24 24\"\n",
              "       width=\"24px\">\n",
              "    <path d=\"M0 0h24v24H0V0z\" fill=\"none\"/>\n",
              "    <path d=\"M18.56 5.44l.94 2.06.94-2.06 2.06-.94-2.06-.94-.94-2.06-.94 2.06-2.06.94zm-11 1L8.5 8.5l.94-2.06 2.06-.94-2.06-.94L8.5 2.5l-.94 2.06-2.06.94zm10 10l.94 2.06.94-2.06 2.06-.94-2.06-.94-.94-2.06-.94 2.06-2.06.94z\"/><path d=\"M17.41 7.96l-1.37-1.37c-.4-.4-.92-.59-1.43-.59-.52 0-1.04.2-1.43.59L10.3 9.45l-7.72 7.72c-.78.78-.78 2.05 0 2.83L4 21.41c.39.39.9.59 1.41.59.51 0 1.02-.2 1.41-.59l7.78-7.78 2.81-2.81c.8-.78.8-2.07 0-2.86zM5.41 20L4 18.59l7.72-7.72 1.47 1.35L5.41 20z\"/>\n",
              "  </svg>\n",
              "      </button>\n",
              "      \n",
              "  <style>\n",
              "    .colab-df-container {\n",
              "      display:flex;\n",
              "      flex-wrap:wrap;\n",
              "      gap: 12px;\n",
              "    }\n",
              "\n",
              "    .colab-df-convert {\n",
              "      background-color: #E8F0FE;\n",
              "      border: none;\n",
              "      border-radius: 50%;\n",
              "      cursor: pointer;\n",
              "      display: none;\n",
              "      fill: #1967D2;\n",
              "      height: 32px;\n",
              "      padding: 0 0 0 0;\n",
              "      width: 32px;\n",
              "    }\n",
              "\n",
              "    .colab-df-convert:hover {\n",
              "      background-color: #E2EBFA;\n",
              "      box-shadow: 0px 1px 2px rgba(60, 64, 67, 0.3), 0px 1px 3px 1px rgba(60, 64, 67, 0.15);\n",
              "      fill: #174EA6;\n",
              "    }\n",
              "\n",
              "    [theme=dark] .colab-df-convert {\n",
              "      background-color: #3B4455;\n",
              "      fill: #D2E3FC;\n",
              "    }\n",
              "\n",
              "    [theme=dark] .colab-df-convert:hover {\n",
              "      background-color: #434B5C;\n",
              "      box-shadow: 0px 1px 3px 1px rgba(0, 0, 0, 0.15);\n",
              "      filter: drop-shadow(0px 1px 2px rgba(0, 0, 0, 0.3));\n",
              "      fill: #FFFFFF;\n",
              "    }\n",
              "  </style>\n",
              "\n",
              "      <script>\n",
              "        const buttonEl =\n",
              "          document.querySelector('#df-75cbd15a-9ca4-4799-ae6a-ddccc6e23361 button.colab-df-convert');\n",
              "        buttonEl.style.display =\n",
              "          google.colab.kernel.accessAllowed ? 'block' : 'none';\n",
              "\n",
              "        async function convertToInteractive(key) {\n",
              "          const element = document.querySelector('#df-75cbd15a-9ca4-4799-ae6a-ddccc6e23361');\n",
              "          const dataTable =\n",
              "            await google.colab.kernel.invokeFunction('convertToInteractive',\n",
              "                                                     [key], {});\n",
              "          if (!dataTable) return;\n",
              "\n",
              "          const docLinkHtml = 'Like what you see? Visit the ' +\n",
              "            '<a target=\"_blank\" href=https://colab.research.google.com/notebooks/data_table.ipynb>data table notebook</a>'\n",
              "            + ' to learn more about interactive tables.';\n",
              "          element.innerHTML = '';\n",
              "          dataTable['output_type'] = 'display_data';\n",
              "          await google.colab.output.renderOutput(dataTable, element);\n",
              "          const docLink = document.createElement('div');\n",
              "          docLink.innerHTML = docLinkHtml;\n",
              "          element.appendChild(docLink);\n",
              "        }\n",
              "      </script>\n",
              "    </div>\n",
              "  </div>\n",
              "  "
            ]
          },
          "metadata": {},
          "execution_count": 329
        }
      ],
      "source": [
        "acc['Description'] = acc['Description'].apply(lambda x: remove_stopwords(str(x)))\n",
        "acc['Title'] = acc['Title'].apply(lambda x: remove_stopwords(str(x)))\n",
        "acc['New_length'] = acc['Description'].apply(lambda x: len(str(x)))\n",
        "acc = acc.astype({'New_length': np.int})\n",
        "acc.head()"
      ]
    },
    {
      "cell_type": "code",
      "execution_count": null,
      "metadata": {
        "colab": {
          "base_uri": "https://localhost:8080/",
          "height": 206
        },
        "id": "ZdWisEaYd0Ja",
        "outputId": "744d95d0-46d4-4a9f-caf0-912e0d1d6f0a"
      },
      "outputs": [
        {
          "output_type": "execute_result",
          "data": {
            "text/plain": [
              "   ID                                              Title  \\\n",
              "0   1                      স্যালাইন স্ট্যান্ডের দাম টাকা   \n",
              "1   2     তজুমদ্দিনে নিষেধাজ্ঞা অনাম্য জেলেকে জেলজরিমানা   \n",
              "2   3     পিজিসিবির তিন কর্মকর্তার বিরুদ্ধে দুদকের মামলা   \n",
              "3   4  কালকিনিতে মেয়রের অবৈধ স্থাপনা গুড়িয়ে দিলো প্রশাসন   \n",
              "4   5              মতলব উত্তরে জাটকা ধরায় জেলের কারাদণ্ড   \n",
              "\n",
              "                                         Description               Label  \\\n",
              "0  উন্নয়ন প্রকল্প প্রস্তাবনাতেই দুর্নীতির ভূত সাম...  CorruptionandFraud   \n",
              "1  ভোলার তজুমদ্দিনের মেঘনায় নিষেধাজ্ঞা অমান্য মাছ...  CorruptionandFraud   \n",
              "2  পিরোজপুরের ভান্ডারিয়া উপজেলায় বিদ্যুৎ বিভাগের ...  CorruptionandFraud   \n",
              "3  মাদারীপুরের কালকিনিতে সরকারী জায়গায় মেয়রের ব্য...  CorruptionandFraud   \n",
              "4  চাঁদপুরের মতলব উপজেলার মেঘনা নদীতে নিষেধাজ্ঞা ...  CorruptionandFraud   \n",
              "\n",
              "   Length  New_length  \n",
              "0    5362        5329  \n",
              "1     829         803  \n",
              "2    1966        1954  \n",
              "3     804         797  \n",
              "4     784         765  "
            ],
            "text/html": [
              "\n",
              "  <div id=\"df-16ce7a2e-fa8a-459c-b6be-bec68f6ddd03\">\n",
              "    <div class=\"colab-df-container\">\n",
              "      <div>\n",
              "<style scoped>\n",
              "    .dataframe tbody tr th:only-of-type {\n",
              "        vertical-align: middle;\n",
              "    }\n",
              "\n",
              "    .dataframe tbody tr th {\n",
              "        vertical-align: top;\n",
              "    }\n",
              "\n",
              "    .dataframe thead th {\n",
              "        text-align: right;\n",
              "    }\n",
              "</style>\n",
              "<table border=\"1\" class=\"dataframe\">\n",
              "  <thead>\n",
              "    <tr style=\"text-align: right;\">\n",
              "      <th></th>\n",
              "      <th>ID</th>\n",
              "      <th>Title</th>\n",
              "      <th>Description</th>\n",
              "      <th>Label</th>\n",
              "      <th>Length</th>\n",
              "      <th>New_length</th>\n",
              "    </tr>\n",
              "  </thead>\n",
              "  <tbody>\n",
              "    <tr>\n",
              "      <th>0</th>\n",
              "      <td>1</td>\n",
              "      <td>স্যালাইন স্ট্যান্ডের দাম টাকা</td>\n",
              "      <td>উন্নয়ন প্রকল্প প্রস্তাবনাতেই দুর্নীতির ভূত সাম...</td>\n",
              "      <td>CorruptionandFraud</td>\n",
              "      <td>5362</td>\n",
              "      <td>5329</td>\n",
              "    </tr>\n",
              "    <tr>\n",
              "      <th>1</th>\n",
              "      <td>2</td>\n",
              "      <td>তজুমদ্দিনে নিষেধাজ্ঞা অনাম্য জেলেকে জেলজরিমানা</td>\n",
              "      <td>ভোলার তজুমদ্দিনের মেঘনায় নিষেধাজ্ঞা অমান্য মাছ...</td>\n",
              "      <td>CorruptionandFraud</td>\n",
              "      <td>829</td>\n",
              "      <td>803</td>\n",
              "    </tr>\n",
              "    <tr>\n",
              "      <th>2</th>\n",
              "      <td>3</td>\n",
              "      <td>পিজিসিবির তিন কর্মকর্তার বিরুদ্ধে দুদকের মামলা</td>\n",
              "      <td>পিরোজপুরের ভান্ডারিয়া উপজেলায় বিদ্যুৎ বিভাগের ...</td>\n",
              "      <td>CorruptionandFraud</td>\n",
              "      <td>1966</td>\n",
              "      <td>1954</td>\n",
              "    </tr>\n",
              "    <tr>\n",
              "      <th>3</th>\n",
              "      <td>4</td>\n",
              "      <td>কালকিনিতে মেয়রের অবৈধ স্থাপনা গুড়িয়ে দিলো প্রশাসন</td>\n",
              "      <td>মাদারীপুরের কালকিনিতে সরকারী জায়গায় মেয়রের ব্য...</td>\n",
              "      <td>CorruptionandFraud</td>\n",
              "      <td>804</td>\n",
              "      <td>797</td>\n",
              "    </tr>\n",
              "    <tr>\n",
              "      <th>4</th>\n",
              "      <td>5</td>\n",
              "      <td>মতলব উত্তরে জাটকা ধরায় জেলের কারাদণ্ড</td>\n",
              "      <td>চাঁদপুরের মতলব উপজেলার মেঘনা নদীতে নিষেধাজ্ঞা ...</td>\n",
              "      <td>CorruptionandFraud</td>\n",
              "      <td>784</td>\n",
              "      <td>765</td>\n",
              "    </tr>\n",
              "  </tbody>\n",
              "</table>\n",
              "</div>\n",
              "      <button class=\"colab-df-convert\" onclick=\"convertToInteractive('df-16ce7a2e-fa8a-459c-b6be-bec68f6ddd03')\"\n",
              "              title=\"Convert this dataframe to an interactive table.\"\n",
              "              style=\"display:none;\">\n",
              "        \n",
              "  <svg xmlns=\"http://www.w3.org/2000/svg\" height=\"24px\"viewBox=\"0 0 24 24\"\n",
              "       width=\"24px\">\n",
              "    <path d=\"M0 0h24v24H0V0z\" fill=\"none\"/>\n",
              "    <path d=\"M18.56 5.44l.94 2.06.94-2.06 2.06-.94-2.06-.94-.94-2.06-.94 2.06-2.06.94zm-11 1L8.5 8.5l.94-2.06 2.06-.94-2.06-.94L8.5 2.5l-.94 2.06-2.06.94zm10 10l.94 2.06.94-2.06 2.06-.94-2.06-.94-.94-2.06-.94 2.06-2.06.94z\"/><path d=\"M17.41 7.96l-1.37-1.37c-.4-.4-.92-.59-1.43-.59-.52 0-1.04.2-1.43.59L10.3 9.45l-7.72 7.72c-.78.78-.78 2.05 0 2.83L4 21.41c.39.39.9.59 1.41.59.51 0 1.02-.2 1.41-.59l7.78-7.78 2.81-2.81c.8-.78.8-2.07 0-2.86zM5.41 20L4 18.59l7.72-7.72 1.47 1.35L5.41 20z\"/>\n",
              "  </svg>\n",
              "      </button>\n",
              "      \n",
              "  <style>\n",
              "    .colab-df-container {\n",
              "      display:flex;\n",
              "      flex-wrap:wrap;\n",
              "      gap: 12px;\n",
              "    }\n",
              "\n",
              "    .colab-df-convert {\n",
              "      background-color: #E8F0FE;\n",
              "      border: none;\n",
              "      border-radius: 50%;\n",
              "      cursor: pointer;\n",
              "      display: none;\n",
              "      fill: #1967D2;\n",
              "      height: 32px;\n",
              "      padding: 0 0 0 0;\n",
              "      width: 32px;\n",
              "    }\n",
              "\n",
              "    .colab-df-convert:hover {\n",
              "      background-color: #E2EBFA;\n",
              "      box-shadow: 0px 1px 2px rgba(60, 64, 67, 0.3), 0px 1px 3px 1px rgba(60, 64, 67, 0.15);\n",
              "      fill: #174EA6;\n",
              "    }\n",
              "\n",
              "    [theme=dark] .colab-df-convert {\n",
              "      background-color: #3B4455;\n",
              "      fill: #D2E3FC;\n",
              "    }\n",
              "\n",
              "    [theme=dark] .colab-df-convert:hover {\n",
              "      background-color: #434B5C;\n",
              "      box-shadow: 0px 1px 3px 1px rgba(0, 0, 0, 0.15);\n",
              "      filter: drop-shadow(0px 1px 2px rgba(0, 0, 0, 0.3));\n",
              "      fill: #FFFFFF;\n",
              "    }\n",
              "  </style>\n",
              "\n",
              "      <script>\n",
              "        const buttonEl =\n",
              "          document.querySelector('#df-16ce7a2e-fa8a-459c-b6be-bec68f6ddd03 button.colab-df-convert');\n",
              "        buttonEl.style.display =\n",
              "          google.colab.kernel.accessAllowed ? 'block' : 'none';\n",
              "\n",
              "        async function convertToInteractive(key) {\n",
              "          const element = document.querySelector('#df-16ce7a2e-fa8a-459c-b6be-bec68f6ddd03');\n",
              "          const dataTable =\n",
              "            await google.colab.kernel.invokeFunction('convertToInteractive',\n",
              "                                                     [key], {});\n",
              "          if (!dataTable) return;\n",
              "\n",
              "          const docLinkHtml = 'Like what you see? Visit the ' +\n",
              "            '<a target=\"_blank\" href=https://colab.research.google.com/notebooks/data_table.ipynb>data table notebook</a>'\n",
              "            + ' to learn more about interactive tables.';\n",
              "          element.innerHTML = '';\n",
              "          dataTable['output_type'] = 'display_data';\n",
              "          await google.colab.output.renderOutput(dataTable, element);\n",
              "          const docLink = document.createElement('div');\n",
              "          docLink.innerHTML = docLinkHtml;\n",
              "          element.appendChild(docLink);\n",
              "        }\n",
              "      </script>\n",
              "    </div>\n",
              "  </div>\n",
              "  "
            ]
          },
          "metadata": {},
          "execution_count": 330
        }
      ],
      "source": [
        "crime['Description'] = crime['Description'].apply(lambda x: remove_stopwords(str(x)))\n",
        "crime['Title'] = crime['Title'].apply(lambda x: remove_stopwords(str(x)))\n",
        "crime['New_length'] = crime['Description'].apply(lambda x: len(str(x)))\n",
        "crime = crime.astype({'New_length': np.int})\n",
        "crime.head()"
      ]
    },
    {
      "cell_type": "code",
      "execution_count": null,
      "metadata": {
        "colab": {
          "base_uri": "https://localhost:8080/",
          "height": 206
        },
        "id": "9Zbkjmu_d22_",
        "outputId": "7101ee5d-69a3-43af-d62a-b06e75d0edb2"
      },
      "outputs": [
        {
          "output_type": "execute_result",
          "data": {
            "text/plain": [
              "   ID                               Title  \\\n",
              "0   1  সাবেক প্রেমিককে টেনে নিলেন জাহ্নবী   \n",
              "1   2      করোনায় নারীকে উপহার প্রিয়াঙ্কা   \n",
              "2   3                        পোস্টের টাকা   \n",
              "3   4             ক্যাটরিনাকে বিয়ে অমিতাভ   \n",
              "4   5                      মা হলেন ডিম্পি   \n",
              "\n",
              "                                         Description      Label  Length  \\\n",
              "0  বলিউডের কিংবদন্তি চিত্রনায়িকা প্রয়াত শ্রীদেবী ...  bollywood     723   \n",
              "1  করোনার মহামারীর নিঃস্বার্থভাবে বিশ্বের প্রান্ত...  bollywood     806   \n",
              "2  অভিনয় বলুন সৌন্দর্য একজন অন্যজনকে পেরিয়ে সামনে...  bollywood     608   \n",
              "3  বলিউডের অন্যতম ব্যাচেলর অভিনেত্রীর অন্যতম ক্যা...  bollywood     660   \n",
              "4  মা হলেন রাহুল মহাজনের প্রাক্তন স্ত্রী ডিম্পি গ...  bollywood     652   \n",
              "\n",
              "   New_length  \n",
              "0         723  \n",
              "1         796  \n",
              "2         601  \n",
              "3         659  \n",
              "4         638  "
            ],
            "text/html": [
              "\n",
              "  <div id=\"df-52dd1b77-1ee7-4f94-96c7-dbcb99568db8\">\n",
              "    <div class=\"colab-df-container\">\n",
              "      <div>\n",
              "<style scoped>\n",
              "    .dataframe tbody tr th:only-of-type {\n",
              "        vertical-align: middle;\n",
              "    }\n",
              "\n",
              "    .dataframe tbody tr th {\n",
              "        vertical-align: top;\n",
              "    }\n",
              "\n",
              "    .dataframe thead th {\n",
              "        text-align: right;\n",
              "    }\n",
              "</style>\n",
              "<table border=\"1\" class=\"dataframe\">\n",
              "  <thead>\n",
              "    <tr style=\"text-align: right;\">\n",
              "      <th></th>\n",
              "      <th>ID</th>\n",
              "      <th>Title</th>\n",
              "      <th>Description</th>\n",
              "      <th>Label</th>\n",
              "      <th>Length</th>\n",
              "      <th>New_length</th>\n",
              "    </tr>\n",
              "  </thead>\n",
              "  <tbody>\n",
              "    <tr>\n",
              "      <th>0</th>\n",
              "      <td>1</td>\n",
              "      <td>সাবেক প্রেমিককে টেনে নিলেন জাহ্নবী</td>\n",
              "      <td>বলিউডের কিংবদন্তি চিত্রনায়িকা প্রয়াত শ্রীদেবী ...</td>\n",
              "      <td>bollywood</td>\n",
              "      <td>723</td>\n",
              "      <td>723</td>\n",
              "    </tr>\n",
              "    <tr>\n",
              "      <th>1</th>\n",
              "      <td>2</td>\n",
              "      <td>করোনায় নারীকে উপহার প্রিয়াঙ্কা</td>\n",
              "      <td>করোনার মহামারীর নিঃস্বার্থভাবে বিশ্বের প্রান্ত...</td>\n",
              "      <td>bollywood</td>\n",
              "      <td>806</td>\n",
              "      <td>796</td>\n",
              "    </tr>\n",
              "    <tr>\n",
              "      <th>2</th>\n",
              "      <td>3</td>\n",
              "      <td>পোস্টের টাকা</td>\n",
              "      <td>অভিনয় বলুন সৌন্দর্য একজন অন্যজনকে পেরিয়ে সামনে...</td>\n",
              "      <td>bollywood</td>\n",
              "      <td>608</td>\n",
              "      <td>601</td>\n",
              "    </tr>\n",
              "    <tr>\n",
              "      <th>3</th>\n",
              "      <td>4</td>\n",
              "      <td>ক্যাটরিনাকে বিয়ে অমিতাভ</td>\n",
              "      <td>বলিউডের অন্যতম ব্যাচেলর অভিনেত্রীর অন্যতম ক্যা...</td>\n",
              "      <td>bollywood</td>\n",
              "      <td>660</td>\n",
              "      <td>659</td>\n",
              "    </tr>\n",
              "    <tr>\n",
              "      <th>4</th>\n",
              "      <td>5</td>\n",
              "      <td>মা হলেন ডিম্পি</td>\n",
              "      <td>মা হলেন রাহুল মহাজনের প্রাক্তন স্ত্রী ডিম্পি গ...</td>\n",
              "      <td>bollywood</td>\n",
              "      <td>652</td>\n",
              "      <td>638</td>\n",
              "    </tr>\n",
              "  </tbody>\n",
              "</table>\n",
              "</div>\n",
              "      <button class=\"colab-df-convert\" onclick=\"convertToInteractive('df-52dd1b77-1ee7-4f94-96c7-dbcb99568db8')\"\n",
              "              title=\"Convert this dataframe to an interactive table.\"\n",
              "              style=\"display:none;\">\n",
              "        \n",
              "  <svg xmlns=\"http://www.w3.org/2000/svg\" height=\"24px\"viewBox=\"0 0 24 24\"\n",
              "       width=\"24px\">\n",
              "    <path d=\"M0 0h24v24H0V0z\" fill=\"none\"/>\n",
              "    <path d=\"M18.56 5.44l.94 2.06.94-2.06 2.06-.94-2.06-.94-.94-2.06-.94 2.06-2.06.94zm-11 1L8.5 8.5l.94-2.06 2.06-.94-2.06-.94L8.5 2.5l-.94 2.06-2.06.94zm10 10l.94 2.06.94-2.06 2.06-.94-2.06-.94-.94-2.06-.94 2.06-2.06.94z\"/><path d=\"M17.41 7.96l-1.37-1.37c-.4-.4-.92-.59-1.43-.59-.52 0-1.04.2-1.43.59L10.3 9.45l-7.72 7.72c-.78.78-.78 2.05 0 2.83L4 21.41c.39.39.9.59 1.41.59.51 0 1.02-.2 1.41-.59l7.78-7.78 2.81-2.81c.8-.78.8-2.07 0-2.86zM5.41 20L4 18.59l7.72-7.72 1.47 1.35L5.41 20z\"/>\n",
              "  </svg>\n",
              "      </button>\n",
              "      \n",
              "  <style>\n",
              "    .colab-df-container {\n",
              "      display:flex;\n",
              "      flex-wrap:wrap;\n",
              "      gap: 12px;\n",
              "    }\n",
              "\n",
              "    .colab-df-convert {\n",
              "      background-color: #E8F0FE;\n",
              "      border: none;\n",
              "      border-radius: 50%;\n",
              "      cursor: pointer;\n",
              "      display: none;\n",
              "      fill: #1967D2;\n",
              "      height: 32px;\n",
              "      padding: 0 0 0 0;\n",
              "      width: 32px;\n",
              "    }\n",
              "\n",
              "    .colab-df-convert:hover {\n",
              "      background-color: #E2EBFA;\n",
              "      box-shadow: 0px 1px 2px rgba(60, 64, 67, 0.3), 0px 1px 3px 1px rgba(60, 64, 67, 0.15);\n",
              "      fill: #174EA6;\n",
              "    }\n",
              "\n",
              "    [theme=dark] .colab-df-convert {\n",
              "      background-color: #3B4455;\n",
              "      fill: #D2E3FC;\n",
              "    }\n",
              "\n",
              "    [theme=dark] .colab-df-convert:hover {\n",
              "      background-color: #434B5C;\n",
              "      box-shadow: 0px 1px 3px 1px rgba(0, 0, 0, 0.15);\n",
              "      filter: drop-shadow(0px 1px 2px rgba(0, 0, 0, 0.3));\n",
              "      fill: #FFFFFF;\n",
              "    }\n",
              "  </style>\n",
              "\n",
              "      <script>\n",
              "        const buttonEl =\n",
              "          document.querySelector('#df-52dd1b77-1ee7-4f94-96c7-dbcb99568db8 button.colab-df-convert');\n",
              "        buttonEl.style.display =\n",
              "          google.colab.kernel.accessAllowed ? 'block' : 'none';\n",
              "\n",
              "        async function convertToInteractive(key) {\n",
              "          const element = document.querySelector('#df-52dd1b77-1ee7-4f94-96c7-dbcb99568db8');\n",
              "          const dataTable =\n",
              "            await google.colab.kernel.invokeFunction('convertToInteractive',\n",
              "                                                     [key], {});\n",
              "          if (!dataTable) return;\n",
              "\n",
              "          const docLinkHtml = 'Like what you see? Visit the ' +\n",
              "            '<a target=\"_blank\" href=https://colab.research.google.com/notebooks/data_table.ipynb>data table notebook</a>'\n",
              "            + ' to learn more about interactive tables.';\n",
              "          element.innerHTML = '';\n",
              "          dataTable['output_type'] = 'display_data';\n",
              "          await google.colab.output.renderOutput(dataTable, element);\n",
              "          const docLink = document.createElement('div');\n",
              "          docLink.innerHTML = docLinkHtml;\n",
              "          element.appendChild(docLink);\n",
              "        }\n",
              "      </script>\n",
              "    </div>\n",
              "  </div>\n",
              "  "
            ]
          },
          "metadata": {},
          "execution_count": 331
        }
      ],
      "source": [
        "ent['Description'] = ent['Description'].apply(lambda x: remove_stopwords(str(x)))\n",
        "ent['Title'] = ent['Title'].apply(lambda x: remove_stopwords(str(x)))\n",
        "ent['New_length'] = ent['Description'].apply(lambda x: len(str(x)))\n",
        "ent = ent.astype({'New_length': np.int})\n",
        "ent.head()"
      ]
    },
    {
      "cell_type": "code",
      "execution_count": null,
      "metadata": {
        "colab": {
          "base_uri": "https://localhost:8080/",
          "height": 206
        },
        "id": "YUmOzcxNd5CJ",
        "outputId": "9ccc1254-d9be-451f-d501-bfd13d32c2a0"
      },
      "outputs": [
        {
          "output_type": "execute_result",
          "data": {
            "text/plain": [
              "   ID                                              Title  \\\n",
              "0   1  বিশ্ব আর্চারির বর্ষসেরা তালিকায় বাংলাদেশের রোম...   \n",
              "1   2                            ল্যান্সনায়েক রোমান সানা   \n",
              "2   3                            এসএ গেমসে আরো স্বর্ণপদক   \n",
              "3   4                              আর্চারিতে –এ বাংলাদেশ   \n",
              "4   5                  আর্চারিতে স্বর্ণ পদক জিতেছেন সুমা   \n",
              "\n",
              "                                         Description      Label  Length  \\\n",
              "0  সালটা দুর্দান্ত কেটেছে বাংলাদেশের সেরা আর্চার ...  athletics     946   \n",
              "1  তীরধনুক হাতে ক্রীড়াঅঙ্গনে দেশকে সাফল্য এনে রোম...  athletics     727   \n",
              "2  নেপালে এসএ গেমসে রোববার দিনভর সাফল্যের সোমবারও...  athletics     463   \n",
              "3  এসএ গেমসের আর্চারিতে অনন্য নজির গড়েছেন বাংলাদে...  athletics    1978   \n",
              "4  এসএ গেমসে আর্চারিতে মেয়েদের কম্পাউন্ড এককে শ্র...  athletics     802   \n",
              "\n",
              "   New_length  \n",
              "0         941  \n",
              "1         719  \n",
              "2         460  \n",
              "3        1965  \n",
              "4         795  "
            ],
            "text/html": [
              "\n",
              "  <div id=\"df-f47bf745-498a-489e-8d36-96dd678d09d9\">\n",
              "    <div class=\"colab-df-container\">\n",
              "      <div>\n",
              "<style scoped>\n",
              "    .dataframe tbody tr th:only-of-type {\n",
              "        vertical-align: middle;\n",
              "    }\n",
              "\n",
              "    .dataframe tbody tr th {\n",
              "        vertical-align: top;\n",
              "    }\n",
              "\n",
              "    .dataframe thead th {\n",
              "        text-align: right;\n",
              "    }\n",
              "</style>\n",
              "<table border=\"1\" class=\"dataframe\">\n",
              "  <thead>\n",
              "    <tr style=\"text-align: right;\">\n",
              "      <th></th>\n",
              "      <th>ID</th>\n",
              "      <th>Title</th>\n",
              "      <th>Description</th>\n",
              "      <th>Label</th>\n",
              "      <th>Length</th>\n",
              "      <th>New_length</th>\n",
              "    </tr>\n",
              "  </thead>\n",
              "  <tbody>\n",
              "    <tr>\n",
              "      <th>0</th>\n",
              "      <td>1</td>\n",
              "      <td>বিশ্ব আর্চারির বর্ষসেরা তালিকায় বাংলাদেশের রোম...</td>\n",
              "      <td>সালটা দুর্দান্ত কেটেছে বাংলাদেশের সেরা আর্চার ...</td>\n",
              "      <td>athletics</td>\n",
              "      <td>946</td>\n",
              "      <td>941</td>\n",
              "    </tr>\n",
              "    <tr>\n",
              "      <th>1</th>\n",
              "      <td>2</td>\n",
              "      <td>ল্যান্সনায়েক রোমান সানা</td>\n",
              "      <td>তীরধনুক হাতে ক্রীড়াঅঙ্গনে দেশকে সাফল্য এনে রোম...</td>\n",
              "      <td>athletics</td>\n",
              "      <td>727</td>\n",
              "      <td>719</td>\n",
              "    </tr>\n",
              "    <tr>\n",
              "      <th>2</th>\n",
              "      <td>3</td>\n",
              "      <td>এসএ গেমসে আরো স্বর্ণপদক</td>\n",
              "      <td>নেপালে এসএ গেমসে রোববার দিনভর সাফল্যের সোমবারও...</td>\n",
              "      <td>athletics</td>\n",
              "      <td>463</td>\n",
              "      <td>460</td>\n",
              "    </tr>\n",
              "    <tr>\n",
              "      <th>3</th>\n",
              "      <td>4</td>\n",
              "      <td>আর্চারিতে –এ বাংলাদেশ</td>\n",
              "      <td>এসএ গেমসের আর্চারিতে অনন্য নজির গড়েছেন বাংলাদে...</td>\n",
              "      <td>athletics</td>\n",
              "      <td>1978</td>\n",
              "      <td>1965</td>\n",
              "    </tr>\n",
              "    <tr>\n",
              "      <th>4</th>\n",
              "      <td>5</td>\n",
              "      <td>আর্চারিতে স্বর্ণ পদক জিতেছেন সুমা</td>\n",
              "      <td>এসএ গেমসে আর্চারিতে মেয়েদের কম্পাউন্ড এককে শ্র...</td>\n",
              "      <td>athletics</td>\n",
              "      <td>802</td>\n",
              "      <td>795</td>\n",
              "    </tr>\n",
              "  </tbody>\n",
              "</table>\n",
              "</div>\n",
              "      <button class=\"colab-df-convert\" onclick=\"convertToInteractive('df-f47bf745-498a-489e-8d36-96dd678d09d9')\"\n",
              "              title=\"Convert this dataframe to an interactive table.\"\n",
              "              style=\"display:none;\">\n",
              "        \n",
              "  <svg xmlns=\"http://www.w3.org/2000/svg\" height=\"24px\"viewBox=\"0 0 24 24\"\n",
              "       width=\"24px\">\n",
              "    <path d=\"M0 0h24v24H0V0z\" fill=\"none\"/>\n",
              "    <path d=\"M18.56 5.44l.94 2.06.94-2.06 2.06-.94-2.06-.94-.94-2.06-.94 2.06-2.06.94zm-11 1L8.5 8.5l.94-2.06 2.06-.94-2.06-.94L8.5 2.5l-.94 2.06-2.06.94zm10 10l.94 2.06.94-2.06 2.06-.94-2.06-.94-.94-2.06-.94 2.06-2.06.94z\"/><path d=\"M17.41 7.96l-1.37-1.37c-.4-.4-.92-.59-1.43-.59-.52 0-1.04.2-1.43.59L10.3 9.45l-7.72 7.72c-.78.78-.78 2.05 0 2.83L4 21.41c.39.39.9.59 1.41.59.51 0 1.02-.2 1.41-.59l7.78-7.78 2.81-2.81c.8-.78.8-2.07 0-2.86zM5.41 20L4 18.59l7.72-7.72 1.47 1.35L5.41 20z\"/>\n",
              "  </svg>\n",
              "      </button>\n",
              "      \n",
              "  <style>\n",
              "    .colab-df-container {\n",
              "      display:flex;\n",
              "      flex-wrap:wrap;\n",
              "      gap: 12px;\n",
              "    }\n",
              "\n",
              "    .colab-df-convert {\n",
              "      background-color: #E8F0FE;\n",
              "      border: none;\n",
              "      border-radius: 50%;\n",
              "      cursor: pointer;\n",
              "      display: none;\n",
              "      fill: #1967D2;\n",
              "      height: 32px;\n",
              "      padding: 0 0 0 0;\n",
              "      width: 32px;\n",
              "    }\n",
              "\n",
              "    .colab-df-convert:hover {\n",
              "      background-color: #E2EBFA;\n",
              "      box-shadow: 0px 1px 2px rgba(60, 64, 67, 0.3), 0px 1px 3px 1px rgba(60, 64, 67, 0.15);\n",
              "      fill: #174EA6;\n",
              "    }\n",
              "\n",
              "    [theme=dark] .colab-df-convert {\n",
              "      background-color: #3B4455;\n",
              "      fill: #D2E3FC;\n",
              "    }\n",
              "\n",
              "    [theme=dark] .colab-df-convert:hover {\n",
              "      background-color: #434B5C;\n",
              "      box-shadow: 0px 1px 3px 1px rgba(0, 0, 0, 0.15);\n",
              "      filter: drop-shadow(0px 1px 2px rgba(0, 0, 0, 0.3));\n",
              "      fill: #FFFFFF;\n",
              "    }\n",
              "  </style>\n",
              "\n",
              "      <script>\n",
              "        const buttonEl =\n",
              "          document.querySelector('#df-f47bf745-498a-489e-8d36-96dd678d09d9 button.colab-df-convert');\n",
              "        buttonEl.style.display =\n",
              "          google.colab.kernel.accessAllowed ? 'block' : 'none';\n",
              "\n",
              "        async function convertToInteractive(key) {\n",
              "          const element = document.querySelector('#df-f47bf745-498a-489e-8d36-96dd678d09d9');\n",
              "          const dataTable =\n",
              "            await google.colab.kernel.invokeFunction('convertToInteractive',\n",
              "                                                     [key], {});\n",
              "          if (!dataTable) return;\n",
              "\n",
              "          const docLinkHtml = 'Like what you see? Visit the ' +\n",
              "            '<a target=\"_blank\" href=https://colab.research.google.com/notebooks/data_table.ipynb>data table notebook</a>'\n",
              "            + ' to learn more about interactive tables.';\n",
              "          element.innerHTML = '';\n",
              "          dataTable['output_type'] = 'display_data';\n",
              "          await google.colab.output.renderOutput(dataTable, element);\n",
              "          const docLink = document.createElement('div');\n",
              "          docLink.innerHTML = docLinkHtml;\n",
              "          element.appendChild(docLink);\n",
              "        }\n",
              "      </script>\n",
              "    </div>\n",
              "  </div>\n",
              "  "
            ]
          },
          "metadata": {},
          "execution_count": 332
        }
      ],
      "source": [
        "sports['Description'] = sports['Description'].apply(lambda x: remove_stopwords(str(x)))\n",
        "sports['Title'] = sports['Title'].apply(lambda x: remove_stopwords(str(x)))\n",
        "sports['New_length'] = sports['Description'].apply(lambda x: len(str(x)))\n",
        "sports = sports.astype({'New_length': np.int})\n",
        "sports.head()"
      ]
    },
    {
      "cell_type": "markdown",
      "metadata": {
        "id": "Pgz8Ug_Sd8SG"
      },
      "source": [
        "## Label Encoding"
      ]
    },
    {
      "cell_type": "code",
      "execution_count": null,
      "metadata": {
        "id": "TMyW7oGZd6ft"
      },
      "outputs": [],
      "source": [
        "le = LabelEncoder()\n",
        "def label_encoder(df):\n",
        "\n",
        "    df[\"Label\"] = le.fit_transform(df[\"Label\"].astype(str))\n",
        "    label_map = dict(zip(le.classes_, le.transform(le.classes_)))\n",
        "    print(label_map)\n",
        "\n",
        "\n",
        "    df[\"Label\"] = le.fit_transform(df[\"Label\"].astype(str))\n",
        "    label_map = dict(zip(le.classes_, le.transform(le.classes_)))\n",
        "    print(label_map)"
      ]
    },
    {
      "cell_type": "code",
      "execution_count": null,
      "metadata": {
        "colab": {
          "base_uri": "https://localhost:8080/"
        },
        "id": "URf5dlKbd-Oy",
        "outputId": "4cf123c9-9b38-4d0b-8826-da9d84204bce"
      },
      "outputs": [
        {
          "output_type": "stream",
          "name": "stdout",
          "text": [
            "{'Air': 0, 'Blast': 1, 'Construction': 2, 'Electricity': 3, 'Fire': 4, 'Rail': 5, 'Road': 6, 'Water': 7, 'others': 8}\n",
            "{'0': 0, '1': 1, '2': 2, '3': 3, '4': 4, '5': 5, '6': 6, '7': 7, '8': 8}\n"
          ]
        }
      ],
      "source": [
        "label_encoder(acc)"
      ]
    },
    {
      "cell_type": "code",
      "execution_count": null,
      "metadata": {
        "colab": {
          "base_uri": "https://localhost:8080/"
        },
        "id": "FoxQCHJDeACj",
        "outputId": "c9ed8873-015f-43e0-b17e-1bf1cef02f7e"
      },
      "outputs": [
        {
          "output_type": "stream",
          "name": "stdout",
          "text": [
            "{'CorruptionandFraud': 0, 'Drug': 1, 'Murder': 2, 'Others': 3, 'RapeandAbuse': 4, 'TheftRobberyAbduction': 5, 'Trafficking': 6}\n",
            "{'0': 0, '1': 1, '2': 2, '3': 3, '4': 4, '5': 5, '6': 6}\n"
          ]
        }
      ],
      "source": [
        "label_encoder(crime)"
      ]
    },
    {
      "cell_type": "code",
      "execution_count": null,
      "metadata": {
        "colab": {
          "base_uri": "https://localhost:8080/"
        },
        "id": "NbrFdMKveCRY",
        "outputId": "d1891047-688b-4d90-e0a2-a01dbf8fc79e"
      },
      "outputs": [
        {
          "output_type": "stream",
          "name": "stdout",
          "text": [
            "{'bollywood': 0, 'dhallywood': 1, 'hollywood': 2, 'music': 3, 'television': 4, 'tollywood': 5}\n",
            "{'0': 0, '1': 1, '2': 2, '3': 3, '4': 4, '5': 5}\n"
          ]
        }
      ],
      "source": [
        "label_encoder(ent)"
      ]
    },
    {
      "cell_type": "code",
      "execution_count": null,
      "metadata": {
        "colab": {
          "base_uri": "https://localhost:8080/"
        },
        "id": "0VcfmPOheDpU",
        "outputId": "27138007-caa2-4e15-9b2a-2952f5be5a93"
      },
      "outputs": [
        {
          "output_type": "stream",
          "name": "stdout",
          "text": [
            "{'athletics': 0, 'cricket': 1, 'football': 2, 'tennis': 3}\n",
            "{'0': 0, '1': 1, '2': 2, '3': 3}\n"
          ]
        }
      ],
      "source": [
        "label_encoder(sports)"
      ]
    },
    {
      "cell_type": "markdown",
      "metadata": {
        "id": "KbA3vm86eHvD"
      },
      "source": [
        "## Split Train/Test set"
      ]
    },
    {
      "cell_type": "code",
      "execution_count": null,
      "metadata": {
        "id": "HxpklPwneFy9"
      },
      "outputs": [],
      "source": [
        "accY = acc[\"Label\"]\n",
        "accX = acc.drop(\"Label\", axis=1)\n",
        "\n",
        "crimeY = crime[\"Label\"]\n",
        "crimeX = crime.drop(\"Label\", axis=1)\n",
        "\n",
        "entY = ent[\"Label\"]\n",
        "entX = ent.drop(\"Label\", axis=1)\n",
        "\n",
        "sportsY = sports[\"Label\"]\n",
        "sportsX = sports.drop(\"Label\", axis=1)"
      ]
    },
    {
      "cell_type": "code",
      "execution_count": null,
      "metadata": {
        "id": "EsegofhVeNDh"
      },
      "outputs": [],
      "source": [
        "accX_train, accX_test, accy_train, accy_test = train_test_split(accX, accY, test_size = 0.1, random_state = 5 , stratify=accY)"
      ]
    },
    {
      "cell_type": "code",
      "execution_count": null,
      "metadata": {
        "id": "b-Q7zRpWfHlx"
      },
      "outputs": [],
      "source": [
        "crimeX_train, crimeX_test, crimey_train, crimey_test = train_test_split(crimeX, crimeY, test_size = 0.1, random_state = 4,  stratify=crimeY)"
      ]
    },
    {
      "cell_type": "code",
      "execution_count": null,
      "metadata": {
        "id": "uAUq5IRdfI5r"
      },
      "outputs": [],
      "source": [
        "entX_train, entX_test, enty_train, enty_test = train_test_split(entX, entY, test_size = 0.1, random_state = 5, stratify=entY)"
      ]
    },
    {
      "cell_type": "code",
      "execution_count": null,
      "metadata": {
        "id": "N-4GNXRJfKIb"
      },
      "outputs": [],
      "source": [
        "sportsX_train, sportsX_test, sportsy_train, sportsy_test = train_test_split(sportsX, sportsY, test_size = 0.1, random_state = 5, stratify=sportsY)"
      ]
    },
    {
      "cell_type": "markdown",
      "metadata": {
        "id": "EkXgGc46fL98"
      },
      "source": [
        "## Train/Val"
      ]
    },
    {
      "cell_type": "code",
      "execution_count": null,
      "metadata": {
        "id": "0i1rj_sPfLXb"
      },
      "outputs": [],
      "source": [
        "accX_train, accX_val, accy_train, accy_val = train_test_split(accX_train, accy_train, test_size = 0.1, random_state = 5, stratify=accy_train)"
      ]
    },
    {
      "cell_type": "code",
      "execution_count": null,
      "metadata": {
        "id": "-sqbm2SJfRmt"
      },
      "outputs": [],
      "source": [
        "crimeX_train, crimeX_val, crimey_train, crimey_val = train_test_split(crimeX_train, crimey_train, test_size = 0.1, random_state = 4, stratify=crimey_train)"
      ]
    },
    {
      "cell_type": "code",
      "execution_count": null,
      "metadata": {
        "id": "lzmCdNgzfTUl"
      },
      "outputs": [],
      "source": [
        "entX_train, entX_val, enty_train, enty_val = train_test_split(entX_train, enty_train, test_size = 0.1, random_state = 5, stratify=enty_train)"
      ]
    },
    {
      "cell_type": "code",
      "execution_count": null,
      "metadata": {
        "id": "waAjslm5fUll"
      },
      "outputs": [],
      "source": [
        "sportsX_train, sportsX_val, sportsy_train, sportsy_val = train_test_split(sportsX_train, sportsy_train, test_size = 0.1, random_state = 5, stratify=sportsy_train)"
      ]
    },
    {
      "cell_type": "code",
      "execution_count": null,
      "metadata": {
        "colab": {
          "base_uri": "https://localhost:8080/"
        },
        "id": "LbgeY4eAfV6Y",
        "outputId": "a458b38b-227d-4ba7-ac07-960d2da97b82"
      },
      "outputs": [
        {
          "output_type": "stream",
          "name": "stdout",
          "text": [
            "Train set has 9566 data\n",
            "Validation set has 1063 data\n",
            "Test set has 1181 data\n"
          ]
        }
      ],
      "source": [
        "print(\"Train set has {} data\".format(len(accX_train)))\n",
        "print(\"Validation set has {} data\".format(len(accX_val)))\n",
        "print(\"Test set has {} data\".format(len(accX_test)))"
      ]
    },
    {
      "cell_type": "code",
      "execution_count": null,
      "metadata": {
        "colab": {
          "base_uri": "https://localhost:8080/"
        },
        "id": "m5znhnsCfXX-",
        "outputId": "a4ec551d-29fd-40c0-d773-31f01aed640e"
      },
      "outputs": [
        {
          "output_type": "stream",
          "name": "stdout",
          "text": [
            "Train set has 11202 data\n",
            "Validation set has 1245 data\n",
            "Test set has 1384 data\n"
          ]
        }
      ],
      "source": [
        "print(\"Train set has {} data\".format(len(crimeX_train)))\n",
        "print(\"Validation set has {} data\".format(len(crimeX_val)))\n",
        "print(\"Test set has {} data\".format(len(crimeX_test)))"
      ]
    },
    {
      "cell_type": "code",
      "execution_count": null,
      "metadata": {
        "colab": {
          "base_uri": "https://localhost:8080/"
        },
        "id": "7c97HFvIfY_0",
        "outputId": "e06ef972-eee1-4e48-9e39-07624a6d54b9"
      },
      "outputs": [
        {
          "output_type": "stream",
          "name": "stdout",
          "text": [
            "Train set has 13543 data\n",
            "Validation set has 1505 data\n",
            "Test set has 1673 data\n"
          ]
        }
      ],
      "source": [
        "print(\"Train set has {} data\".format(len(entX_train)))\n",
        "print(\"Validation set has {} data\".format(len(entX_val)))\n",
        "print(\"Test set has {} data\".format(len(entX_test)))"
      ]
    },
    {
      "cell_type": "code",
      "execution_count": null,
      "metadata": {
        "colab": {
          "base_uri": "https://localhost:8080/"
        },
        "id": "XgMCXen_faRg",
        "outputId": "bf855b15-7b92-4cdf-bdaa-91b55a54146d"
      },
      "outputs": [
        {
          "output_type": "stream",
          "name": "stdout",
          "text": [
            "Train set has 31003 data\n",
            "Validation set has 3445 data\n",
            "Test set has 3828 data\n"
          ]
        }
      ],
      "source": [
        "print(\"Train set has {} data\".format(len(sportsX_train)))\n",
        "print(\"Validation set has {} data\".format(len(sportsX_val)))\n",
        "print(\"Test set has {} data\".format(len(sportsX_test)))"
      ]
    },
    {
      "cell_type": "code",
      "execution_count": null,
      "metadata": {
        "colab": {
          "base_uri": "https://localhost:8080/"
        },
        "id": "42YBAkxufcaU",
        "outputId": "bc8d6ff2-e382-40d9-d96b-1e33b6f82820"
      },
      "outputs": [
        {
          "output_type": "execute_result",
          "data": {
            "text/plain": [
              "6    4385\n",
              "4    1551\n",
              "7    1330\n",
              "5     788\n",
              "3     772\n",
              "1     345\n",
              "8     196\n",
              "2     157\n",
              "0      42\n",
              "Name: Label, dtype: int64"
            ]
          },
          "metadata": {},
          "execution_count": 416
        }
      ],
      "source": [
        "accy_train.value_counts()"
      ]
    },
    {
      "cell_type": "code",
      "execution_count": null,
      "metadata": {
        "colab": {
          "base_uri": "https://localhost:8080/"
        },
        "id": "RnqNhJhvfeA4",
        "outputId": "03548648-168d-4d1c-ce55-fc5dcb976e88"
      },
      "outputs": [
        {
          "output_type": "execute_result",
          "data": {
            "text/plain": [
              "6    487\n",
              "4    172\n",
              "7    148\n",
              "5     88\n",
              "3     86\n",
              "1     38\n",
              "8     22\n",
              "2     17\n",
              "0      5\n",
              "Name: Label, dtype: int64"
            ]
          },
          "metadata": {},
          "execution_count": 417
        }
      ],
      "source": [
        "accy_val.value_counts()"
      ]
    },
    {
      "cell_type": "code",
      "execution_count": null,
      "metadata": {
        "colab": {
          "base_uri": "https://localhost:8080/"
        },
        "id": "EWLaUbeqffXE",
        "outputId": "a13afef3-dba4-4455-81c4-237016bafab4"
      },
      "outputs": [
        {
          "output_type": "execute_result",
          "data": {
            "text/plain": [
              "6    541\n",
              "4    192\n",
              "7    164\n",
              "5     97\n",
              "3     96\n",
              "1     43\n",
              "8     24\n",
              "2     19\n",
              "0      5\n",
              "Name: Label, dtype: int64"
            ]
          },
          "metadata": {},
          "execution_count": 418
        }
      ],
      "source": [
        "accy_test.value_counts()"
      ]
    },
    {
      "cell_type": "code",
      "execution_count": null,
      "metadata": {
        "colab": {
          "base_uri": "https://localhost:8080/",
          "height": 206
        },
        "id": "Uy1EDkI3fg-I",
        "outputId": "b0c27869-dbb4-4512-ec9b-d257ebced3c4"
      },
      "outputs": [
        {
          "output_type": "execute_result",
          "data": {
            "text/plain": [
              "        ID                                         Title  \\\n",
              "7125  7126                         তিন জেলায় পাঁচজন নিহত   \n",
              "1063  1064                  বজ্রপাতে ছাত্রসহ পাঁচজন নিহত   \n",
              "1820  1821                          বাংলামোটরে ভবনে আগুন   \n",
              "5392  5393  চালকের শাস্তি নিরাপদ সড়কের দাবিতে মানববন্ধন   \n",
              "7171  7172                        মীরসরাইয়ে বাস খাদে আহত   \n",
              "\n",
              "                                            Description  Length  New_length  \n",
              "7125  সড়ক দুর্ঘটনায় গতকাল বুধবার তিন জেলায় পাঁচজন নি...    2007        1992  \n",
              "1063  গোপালগঞ্জে বঙ্গবন্ধু শেখ মুজিবুর রহমান বিজ্ঞান...    1399        1390  \n",
              "1820  রাজধানীর বাংলামোটরে রোববার বহুতল ভবনে আগুন লাগ...     404         400  \n",
              "5392  পিকআপ ভ্যানের ধাক্কায় জাহাঙ্গীরনগর বিশ্ববিদ্যা...     839         838  \n",
              "7171  ঢাকাচট্টগ্রাম মহাসড়কের মীরসরাইয়ের মিঠাছড়া এলাক...     522         516  "
            ],
            "text/html": [
              "\n",
              "  <div id=\"df-bd71c3b0-c58a-4ff4-948e-6ed5c2305a76\">\n",
              "    <div class=\"colab-df-container\">\n",
              "      <div>\n",
              "<style scoped>\n",
              "    .dataframe tbody tr th:only-of-type {\n",
              "        vertical-align: middle;\n",
              "    }\n",
              "\n",
              "    .dataframe tbody tr th {\n",
              "        vertical-align: top;\n",
              "    }\n",
              "\n",
              "    .dataframe thead th {\n",
              "        text-align: right;\n",
              "    }\n",
              "</style>\n",
              "<table border=\"1\" class=\"dataframe\">\n",
              "  <thead>\n",
              "    <tr style=\"text-align: right;\">\n",
              "      <th></th>\n",
              "      <th>ID</th>\n",
              "      <th>Title</th>\n",
              "      <th>Description</th>\n",
              "      <th>Length</th>\n",
              "      <th>New_length</th>\n",
              "    </tr>\n",
              "  </thead>\n",
              "  <tbody>\n",
              "    <tr>\n",
              "      <th>7125</th>\n",
              "      <td>7126</td>\n",
              "      <td>তিন জেলায় পাঁচজন নিহত</td>\n",
              "      <td>সড়ক দুর্ঘটনায় গতকাল বুধবার তিন জেলায় পাঁচজন নি...</td>\n",
              "      <td>2007</td>\n",
              "      <td>1992</td>\n",
              "    </tr>\n",
              "    <tr>\n",
              "      <th>1063</th>\n",
              "      <td>1064</td>\n",
              "      <td>বজ্রপাতে ছাত্রসহ পাঁচজন নিহত</td>\n",
              "      <td>গোপালগঞ্জে বঙ্গবন্ধু শেখ মুজিবুর রহমান বিজ্ঞান...</td>\n",
              "      <td>1399</td>\n",
              "      <td>1390</td>\n",
              "    </tr>\n",
              "    <tr>\n",
              "      <th>1820</th>\n",
              "      <td>1821</td>\n",
              "      <td>বাংলামোটরে ভবনে আগুন</td>\n",
              "      <td>রাজধানীর বাংলামোটরে রোববার বহুতল ভবনে আগুন লাগ...</td>\n",
              "      <td>404</td>\n",
              "      <td>400</td>\n",
              "    </tr>\n",
              "    <tr>\n",
              "      <th>5392</th>\n",
              "      <td>5393</td>\n",
              "      <td>চালকের শাস্তি নিরাপদ সড়কের দাবিতে মানববন্ধন</td>\n",
              "      <td>পিকআপ ভ্যানের ধাক্কায় জাহাঙ্গীরনগর বিশ্ববিদ্যা...</td>\n",
              "      <td>839</td>\n",
              "      <td>838</td>\n",
              "    </tr>\n",
              "    <tr>\n",
              "      <th>7171</th>\n",
              "      <td>7172</td>\n",
              "      <td>মীরসরাইয়ে বাস খাদে আহত</td>\n",
              "      <td>ঢাকাচট্টগ্রাম মহাসড়কের মীরসরাইয়ের মিঠাছড়া এলাক...</td>\n",
              "      <td>522</td>\n",
              "      <td>516</td>\n",
              "    </tr>\n",
              "  </tbody>\n",
              "</table>\n",
              "</div>\n",
              "      <button class=\"colab-df-convert\" onclick=\"convertToInteractive('df-bd71c3b0-c58a-4ff4-948e-6ed5c2305a76')\"\n",
              "              title=\"Convert this dataframe to an interactive table.\"\n",
              "              style=\"display:none;\">\n",
              "        \n",
              "  <svg xmlns=\"http://www.w3.org/2000/svg\" height=\"24px\"viewBox=\"0 0 24 24\"\n",
              "       width=\"24px\">\n",
              "    <path d=\"M0 0h24v24H0V0z\" fill=\"none\"/>\n",
              "    <path d=\"M18.56 5.44l.94 2.06.94-2.06 2.06-.94-2.06-.94-.94-2.06-.94 2.06-2.06.94zm-11 1L8.5 8.5l.94-2.06 2.06-.94-2.06-.94L8.5 2.5l-.94 2.06-2.06.94zm10 10l.94 2.06.94-2.06 2.06-.94-2.06-.94-.94-2.06-.94 2.06-2.06.94z\"/><path d=\"M17.41 7.96l-1.37-1.37c-.4-.4-.92-.59-1.43-.59-.52 0-1.04.2-1.43.59L10.3 9.45l-7.72 7.72c-.78.78-.78 2.05 0 2.83L4 21.41c.39.39.9.59 1.41.59.51 0 1.02-.2 1.41-.59l7.78-7.78 2.81-2.81c.8-.78.8-2.07 0-2.86zM5.41 20L4 18.59l7.72-7.72 1.47 1.35L5.41 20z\"/>\n",
              "  </svg>\n",
              "      </button>\n",
              "      \n",
              "  <style>\n",
              "    .colab-df-container {\n",
              "      display:flex;\n",
              "      flex-wrap:wrap;\n",
              "      gap: 12px;\n",
              "    }\n",
              "\n",
              "    .colab-df-convert {\n",
              "      background-color: #E8F0FE;\n",
              "      border: none;\n",
              "      border-radius: 50%;\n",
              "      cursor: pointer;\n",
              "      display: none;\n",
              "      fill: #1967D2;\n",
              "      height: 32px;\n",
              "      padding: 0 0 0 0;\n",
              "      width: 32px;\n",
              "    }\n",
              "\n",
              "    .colab-df-convert:hover {\n",
              "      background-color: #E2EBFA;\n",
              "      box-shadow: 0px 1px 2px rgba(60, 64, 67, 0.3), 0px 1px 3px 1px rgba(60, 64, 67, 0.15);\n",
              "      fill: #174EA6;\n",
              "    }\n",
              "\n",
              "    [theme=dark] .colab-df-convert {\n",
              "      background-color: #3B4455;\n",
              "      fill: #D2E3FC;\n",
              "    }\n",
              "\n",
              "    [theme=dark] .colab-df-convert:hover {\n",
              "      background-color: #434B5C;\n",
              "      box-shadow: 0px 1px 3px 1px rgba(0, 0, 0, 0.15);\n",
              "      filter: drop-shadow(0px 1px 2px rgba(0, 0, 0, 0.3));\n",
              "      fill: #FFFFFF;\n",
              "    }\n",
              "  </style>\n",
              "\n",
              "      <script>\n",
              "        const buttonEl =\n",
              "          document.querySelector('#df-bd71c3b0-c58a-4ff4-948e-6ed5c2305a76 button.colab-df-convert');\n",
              "        buttonEl.style.display =\n",
              "          google.colab.kernel.accessAllowed ? 'block' : 'none';\n",
              "\n",
              "        async function convertToInteractive(key) {\n",
              "          const element = document.querySelector('#df-bd71c3b0-c58a-4ff4-948e-6ed5c2305a76');\n",
              "          const dataTable =\n",
              "            await google.colab.kernel.invokeFunction('convertToInteractive',\n",
              "                                                     [key], {});\n",
              "          if (!dataTable) return;\n",
              "\n",
              "          const docLinkHtml = 'Like what you see? Visit the ' +\n",
              "            '<a target=\"_blank\" href=https://colab.research.google.com/notebooks/data_table.ipynb>data table notebook</a>'\n",
              "            + ' to learn more about interactive tables.';\n",
              "          element.innerHTML = '';\n",
              "          dataTable['output_type'] = 'display_data';\n",
              "          await google.colab.output.renderOutput(dataTable, element);\n",
              "          const docLink = document.createElement('div');\n",
              "          docLink.innerHTML = docLinkHtml;\n",
              "          element.appendChild(docLink);\n",
              "        }\n",
              "      </script>\n",
              "    </div>\n",
              "  </div>\n",
              "  "
            ]
          },
          "metadata": {},
          "execution_count": 419
        }
      ],
      "source": [
        "accX_train.head()"
      ]
    },
    {
      "cell_type": "code",
      "execution_count": null,
      "metadata": {
        "id": "_CFo6dhOfitN"
      },
      "outputs": [],
      "source": [
        "vocab_size = 50000\n",
        "max_length = 3000  \n",
        "trunc_type = 'post'   \n",
        "padding_type = 'post' \n",
        "oov_tok = \"<OOV>\"  \n",
        "\n",
        "import tensorflow as tf\n",
        "import numpy as np\n",
        "from tensorflow.keras.preprocessing.text import Tokenizer\n",
        "from tensorflow.keras.preprocessing.sequence import pad_sequences"
      ]
    },
    {
      "cell_type": "code",
      "execution_count": null,
      "metadata": {
        "id": "IxgPeLPAfsgz"
      },
      "outputs": [],
      "source": [
        "def Tokenize(train, val, test):\n",
        "\n",
        "    tokenizer = Tokenizer(num_words=vocab_size, oov_token=oov_tok)\n",
        "    tokenizer.fit_on_texts(train)\n",
        "    # word_index = tokenizer.word_index\n",
        "\n",
        "    train_sequences = tokenizer.texts_to_sequences(train) \n",
        "    train_padded = np.asarray(pad_sequences(train_sequences, padding=padding_type, maxlen=max_length, truncating=trunc_type))\n",
        "\n",
        "    validation_sequences = tokenizer.texts_to_sequences(val)\n",
        "    validation_padded = np.asarray(pad_sequences(validation_sequences, padding=padding_type, maxlen=max_length, truncating=trunc_type))\n",
        "\n",
        "    test_sequences = tokenizer.texts_to_sequences(test) \n",
        "    test_padded = np.asarray(pad_sequences(test_sequences, padding=padding_type, maxlen=max_length, truncating=trunc_type))\n",
        "\n",
        "    return tokenizer, train_padded, validation_padded, test_padded"
      ]
    },
    {
      "cell_type": "code",
      "execution_count": null,
      "metadata": {
        "id": "FesJldXBfuKx"
      },
      "outputs": [],
      "source": [
        "acc_tokenizer, accX_train_pad, accX_val_pad, accX_test_pad = Tokenize(accX_train['Description'], accX_val['Description'], accX_test['Description'])\n",
        "crime_tokenizer, crimeX_train_pad, crimeX_val_pad, crimeX_test_pad = Tokenize(crimeX_train['Description'], crimeX_val['Description'], crimeX_test['Description'])\n",
        "ent_tokenizer, entX_train_pad, entX_val_pad, entX_test_pad = Tokenize(entX_train['Description'], entX_val['Description'], entX_test['Description'])\n",
        "sports_tokenizer, sportsX_train_pad, sportsX_val_pad, sportsX_test_pad = Tokenize(sportsX_train['Description'], sportsX_val['Description'], sportsX_test['Description'])"
      ]
    },
    {
      "cell_type": "markdown",
      "metadata": {
        "id": "Ne_1QdqdfymW"
      },
      "source": [
        "#Create MLP Model"
      ]
    },
    {
      "cell_type": "code",
      "execution_count": null,
      "metadata": {
        "id": "AU759ebffv5I"
      },
      "outputs": [],
      "source": [
        "%tensorflow_version 2.x\n",
        "import tensorflow as tf\n",
        "\n",
        "tf.keras.backend.clear_session()\n",
        "\n",
        "from tensorflow.keras.optimizers import Adam\n",
        "from keras.layers import  Dropout, Dense,Embedding, Conv1D, Input, GlobalAveragePooling1D, Flatten\n",
        "from keras.models import Sequential\n",
        "def mlp_model(c):\n",
        "\t# create model\n",
        "    embedding_dim = 400\n",
        "    filters = 256\n",
        "    kernel = 5\n",
        "    node = 450\n",
        "    nLayers = 1\n",
        "    dropout = 0.5\n",
        "    model = Sequential()\n",
        "    model.add(Embedding(vocab_size, embedding_dim, input_length=max_length))\n",
        "    model.add(GlobalAveragePooling1D())\n",
        "    for i in range(0,nLayers):\n",
        "        model.add(Dense(node, activation='relu'))\n",
        "        model.add(Dropout(dropout))\n",
        "    model.add(Dense(c, activation='softmax'))\n",
        "\t# Compile model\n",
        "    opt = Adam(learning_rate=0.001)\n",
        "    model.compile(loss='sparse_categorical_crossentropy', optimizer=opt, metrics=['accuracy'])\n",
        "    return model"
      ]
    },
    {
      "cell_type": "markdown",
      "metadata": {
        "id": "z0dtZsmFf4DN"
      },
      "source": [
        "## Callbacks (ModelCheckpoint, EarlyStopping, CSVLogger)"
      ]
    },
    {
      "cell_type": "code",
      "execution_count": null,
      "metadata": {
        "id": "D4ANJxu3f1Gi"
      },
      "outputs": [],
      "source": [
        "#Add Callbacks, e.g. ModelCheckpoints, earlystopping, csvlogger.\n",
        "from keras.callbacks import ModelCheckpoint, EarlyStopping, CSVLogger\n",
        "\n",
        "#ModelCheckpoint callback saves a model at some interval. \n",
        "filepath=\"/content/drive/My Drive/Journal/Save_Model/MLP/Accident/saved_models/weights-improvement-{epoch:02d}-{val_accuracy:.2f}.hdf5\" #File name includes epoch and validation accuracy.\n",
        "#Use Mode = max for accuracy and min for loss. \n",
        "checkpoint = ModelCheckpoint(filepath, monitor='val_accuracy', verbose=1, save_best_only=True, mode='max')\n",
        "\n",
        "#https://www.tensorflow.org/api_docs/python/tf/keras/callbacks/EarlyStopping\n",
        "early_stop = EarlyStopping(monitor='val_accuracy', patience=5, verbose=2)\n",
        "#This callback will stop the training when there is no improvement in\n",
        "# the validation loss for three consecutive epochs.\n",
        "\n",
        "#CSVLogger logs epoch, acc, loss, val_acc, val_loss\n",
        "log_csv = CSVLogger('/content/drive/My Drive/Journal/Save_Model/MLP/Accident/acc_mlp_my_logs.csv', separator=',', append=False)\n",
        "\n",
        "callbacks_list = [checkpoint, early_stop, log_csv]\n",
        "# callbacks_list = [checkpoint, log_csv]"
      ]
    },
    {
      "cell_type": "code",
      "execution_count": null,
      "metadata": {
        "colab": {
          "base_uri": "https://localhost:8080/"
        },
        "id": "ozTabhXopH9t",
        "outputId": "14c7010d-1bc2-41f1-c829-87fa7007c8dd"
      },
      "outputs": [
        {
          "name": "stdout",
          "output_type": "stream",
          "text": [
            "Model: \"sequential_7\"\n",
            "_________________________________________________________________\n",
            " Layer (type)                Output Shape              Param #   \n",
            "=================================================================\n",
            " embedding_7 (Embedding)     (None, 3000, 400)         20000000  \n",
            "                                                                 \n",
            " global_average_pooling1d_7   (None, 400)              0         \n",
            " (GlobalAveragePooling1D)                                        \n",
            "                                                                 \n",
            " dense_14 (Dense)            (None, 450)               180450    \n",
            "                                                                 \n",
            " dropout_7 (Dropout)         (None, 450)               0         \n",
            "                                                                 \n",
            " dense_15 (Dense)            (None, 9)                 4059      \n",
            "                                                                 \n",
            "=================================================================\n",
            "Total params: 20,184,509\n",
            "Trainable params: 20,184,509\n",
            "Non-trainable params: 0\n",
            "_________________________________________________________________\n"
          ]
        }
      ],
      "source": [
        "acc_model = mlp_model(len(accy_train.value_counts()))\n",
        "acc_model.summary()"
      ]
    },
    {
      "cell_type": "code",
      "execution_count": null,
      "metadata": {
        "colab": {
          "base_uri": "https://localhost:8080/"
        },
        "id": "doLmi38zqdoy",
        "outputId": "a0fc1d76-011f-4062-e715-39ab0be658eb"
      },
      "outputs": [
        {
          "name": "stdout",
          "output_type": "stream",
          "text": [
            "Epoch 1/20\n",
            "\n",
            "Epoch 1: val_accuracy improved from -inf to 0.45814, saving model to /content/drive/My Drive/Journal/Save_Model/MLP/Accident/saved_models/weights-improvement-01-0.46.hdf5\n",
            "299/299 - 7s - loss: 1.6424 - accuracy: 0.4579 - val_loss: 1.5397 - val_accuracy: 0.4581 - 7s/epoch - 23ms/step\n",
            "Epoch 2/20\n",
            "\n",
            "Epoch 2: val_accuracy improved from 0.45814 to 0.63594, saving model to /content/drive/My Drive/Journal/Save_Model/MLP/Accident/saved_models/weights-improvement-02-0.64.hdf5\n",
            "299/299 - 15s - loss: 1.2861 - accuracy: 0.5620 - val_loss: 1.0819 - val_accuracy: 0.6359 - 15s/epoch - 51ms/step\n",
            "Epoch 3/20\n",
            "\n",
            "Epoch 3: val_accuracy improved from 0.63594 to 0.71402, saving model to /content/drive/My Drive/Journal/Save_Model/MLP/Accident/saved_models/weights-improvement-03-0.71.hdf5\n",
            "299/299 - 7s - loss: 1.0020 - accuracy: 0.6782 - val_loss: 0.9380 - val_accuracy: 0.7140 - 7s/epoch - 22ms/step\n",
            "Epoch 4/20\n",
            "\n",
            "Epoch 4: val_accuracy improved from 0.71402 to 0.79962, saving model to /content/drive/My Drive/Journal/Save_Model/MLP/Accident/saved_models/weights-improvement-04-0.80.hdf5\n",
            "299/299 - 6s - loss: 0.7887 - accuracy: 0.7582 - val_loss: 0.6828 - val_accuracy: 0.7996 - 6s/epoch - 20ms/step\n",
            "Epoch 5/20\n",
            "\n",
            "Epoch 5: val_accuracy improved from 0.79962 to 0.86548, saving model to /content/drive/My Drive/Journal/Save_Model/MLP/Accident/saved_models/weights-improvement-05-0.87.hdf5\n",
            "299/299 - 6s - loss: 0.5833 - accuracy: 0.8372 - val_loss: 0.5503 - val_accuracy: 0.8655 - 6s/epoch - 21ms/step\n",
            "Epoch 6/20\n",
            "\n",
            "Epoch 6: val_accuracy improved from 0.86548 to 0.90028, saving model to /content/drive/My Drive/Journal/Save_Model/MLP/Accident/saved_models/weights-improvement-06-0.90.hdf5\n",
            "299/299 - 6s - loss: 0.4206 - accuracy: 0.8896 - val_loss: 0.4305 - val_accuracy: 0.9003 - 6s/epoch - 21ms/step\n",
            "Epoch 7/20\n",
            "\n",
            "Epoch 7: val_accuracy improved from 0.90028 to 0.90310, saving model to /content/drive/My Drive/Journal/Save_Model/MLP/Accident/saved_models/weights-improvement-07-0.90.hdf5\n",
            "299/299 - 15s - loss: 0.3157 - accuracy: 0.9156 - val_loss: 0.3779 - val_accuracy: 0.9031 - 15s/epoch - 51ms/step\n",
            "Epoch 8/20\n",
            "\n",
            "Epoch 8: val_accuracy improved from 0.90310 to 0.92192, saving model to /content/drive/My Drive/Journal/Save_Model/MLP/Accident/saved_models/weights-improvement-08-0.92.hdf5\n",
            "299/299 - 13s - loss: 0.2452 - accuracy: 0.9346 - val_loss: 0.3628 - val_accuracy: 0.9219 - 13s/epoch - 44ms/step\n",
            "Epoch 9/20\n",
            "\n",
            "Epoch 9: val_accuracy did not improve from 0.92192\n",
            "299/299 - 6s - loss: 0.1889 - accuracy: 0.9462 - val_loss: 0.3652 - val_accuracy: 0.9087 - 6s/epoch - 19ms/step\n",
            "Epoch 10/20\n",
            "\n",
            "Epoch 10: val_accuracy improved from 0.92192 to 0.92380, saving model to /content/drive/My Drive/Journal/Save_Model/MLP/Accident/saved_models/weights-improvement-10-0.92.hdf5\n",
            "299/299 - 17s - loss: 0.1562 - accuracy: 0.9530 - val_loss: 0.3325 - val_accuracy: 0.9238 - 17s/epoch - 57ms/step\n",
            "Epoch 11/20\n",
            "\n",
            "Epoch 11: val_accuracy did not improve from 0.92380\n",
            "299/299 - 5s - loss: 0.1216 - accuracy: 0.9645 - val_loss: 0.3322 - val_accuracy: 0.9238 - 5s/epoch - 18ms/step\n",
            "Epoch 12/20\n",
            "\n",
            "Epoch 12: val_accuracy did not improve from 0.92380\n",
            "299/299 - 5s - loss: 0.1095 - accuracy: 0.9705 - val_loss: 0.3315 - val_accuracy: 0.9229 - 5s/epoch - 18ms/step\n",
            "Epoch 13/20\n",
            "\n",
            "Epoch 13: val_accuracy improved from 0.92380 to 0.92474, saving model to /content/drive/My Drive/Journal/Save_Model/MLP/Accident/saved_models/weights-improvement-13-0.92.hdf5\n",
            "299/299 - 6s - loss: 0.0820 - accuracy: 0.9769 - val_loss: 0.3478 - val_accuracy: 0.9247 - 6s/epoch - 22ms/step\n",
            "Epoch 14/20\n",
            "\n",
            "Epoch 14: val_accuracy improved from 0.92474 to 0.92568, saving model to /content/drive/My Drive/Journal/Save_Model/MLP/Accident/saved_models/weights-improvement-14-0.93.hdf5\n",
            "299/299 - 6s - loss: 0.0729 - accuracy: 0.9801 - val_loss: 0.3587 - val_accuracy: 0.9257 - 6s/epoch - 21ms/step\n",
            "Epoch 15/20\n",
            "\n",
            "Epoch 15: val_accuracy improved from 0.92568 to 0.93133, saving model to /content/drive/My Drive/Journal/Save_Model/MLP/Accident/saved_models/weights-improvement-15-0.93.hdf5\n",
            "299/299 - 11s - loss: 0.0536 - accuracy: 0.9862 - val_loss: 0.3517 - val_accuracy: 0.9313 - 11s/epoch - 38ms/step\n",
            "Epoch 16/20\n",
            "\n",
            "Epoch 16: val_accuracy did not improve from 0.93133\n",
            "299/299 - 5s - loss: 0.0438 - accuracy: 0.9882 - val_loss: 0.4183 - val_accuracy: 0.9238 - 5s/epoch - 18ms/step\n",
            "Epoch 17/20\n",
            "\n",
            "Epoch 17: val_accuracy did not improve from 0.93133\n",
            "299/299 - 5s - loss: 0.0476 - accuracy: 0.9866 - val_loss: 0.3925 - val_accuracy: 0.9276 - 5s/epoch - 18ms/step\n",
            "Epoch 18/20\n",
            "\n",
            "Epoch 18: val_accuracy did not improve from 0.93133\n",
            "299/299 - 5s - loss: 0.0341 - accuracy: 0.9912 - val_loss: 0.3839 - val_accuracy: 0.9285 - 5s/epoch - 18ms/step\n",
            "Epoch 19/20\n",
            "\n",
            "Epoch 19: val_accuracy did not improve from 0.93133\n",
            "299/299 - 5s - loss: 0.0308 - accuracy: 0.9916 - val_loss: 0.3637 - val_accuracy: 0.9304 - 5s/epoch - 18ms/step\n",
            "Epoch 20/20\n",
            "\n",
            "Epoch 20: val_accuracy did not improve from 0.93133\n",
            "299/299 - 5s - loss: 0.0332 - accuracy: 0.9905 - val_loss: 0.3742 - val_accuracy: 0.9276 - 5s/epoch - 18ms/step\n",
            "Epoch 20: early stopping\n"
          ]
        }
      ],
      "source": [
        "acc_history = acc_model.fit(accX_train_pad, accy_train, epochs=20, validation_data=(accX_val_pad, accy_val), verbose=2, callbacks=callbacks_list)\n",
        "acc_model.save('/content/drive/My Drive/Journal/Save_Model/MLP/Accident/acc_mlp_model.h5')"
      ]
    },
    {
      "cell_type": "code",
      "execution_count": null,
      "metadata": {
        "id": "PW_r-P1AAIp6"
      },
      "outputs": [],
      "source": [
        "new_model = tf.keras.models.load_model('/content/drive/My Drive/Journal/Save_Model/MLP/Accident/saved_models/weights-improvement-15-0.93.hdf5')"
      ]
    },
    {
      "cell_type": "code",
      "execution_count": null,
      "metadata": {
        "colab": {
          "base_uri": "https://localhost:8080/"
        },
        "id": "UiwAU_ANAcb8",
        "outputId": "9a048d5d-c42b-4c53-964c-07f331f3ab62"
      },
      "outputs": [
        {
          "name": "stdout",
          "output_type": "stream",
          "text": [
            "37/37 - 0s - loss: 0.3760 - accuracy: 0.9170 - 310ms/epoch - 8ms/step\n"
          ]
        },
        {
          "data": {
            "text/plain": [
              "[0.37604427337646484, 0.9170194864273071]"
            ]
          },
          "execution_count": 102,
          "metadata": {},
          "output_type": "execute_result"
        }
      ],
      "source": [
        "new_model.evaluate(accX_test_pad, accy_test, verbose=2)"
      ]
    },
    {
      "cell_type": "code",
      "execution_count": null,
      "metadata": {
        "colab": {
          "base_uri": "https://localhost:8080/"
        },
        "id": "ma10XjI9AhJj",
        "outputId": "2b9bec7c-5b84-4044-9f3f-df32c5d6ee34"
      },
      "outputs": [
        {
          "name": "stdout",
          "output_type": "stream",
          "text": [
            "              precision    recall  f1-score   support\n",
            "\n",
            "           0       0.75      0.60      0.67         5\n",
            "           1       0.87      0.60      0.71        43\n",
            "           2       0.41      0.37      0.39        19\n",
            "           3       0.95      0.95      0.95        96\n",
            "           4       0.88      0.96      0.92       192\n",
            "           5       0.99      0.92      0.95        97\n",
            "           6       0.95      0.95      0.95       541\n",
            "           7       0.92      0.95      0.93       164\n",
            "           8       0.46      0.46      0.46        24\n",
            "\n",
            "    accuracy                           0.92      1181\n",
            "   macro avg       0.80      0.75      0.77      1181\n",
            "weighted avg       0.92      0.92      0.92      1181\n",
            "\n"
          ]
        }
      ],
      "source": [
        "from sklearn.metrics import confusion_matrix, accuracy_score, classification_report\n",
        "\n",
        "nprediction = new_model.predict(accX_test_pad)\n",
        "# print(metrics.classification_report(accy_test, predicted))\n",
        "nacc_y_pred = np.argmax(nprediction, axis=-1)\n",
        "print(classification_report(accy_test, nacc_y_pred))"
      ]
    },
    {
      "cell_type": "code",
      "execution_count": null,
      "metadata": {
        "colab": {
          "base_uri": "https://localhost:8080/"
        },
        "id": "QPJ4ii8VqbRg",
        "outputId": "9d32fb33-f865-4608-bccf-d129ec7cb9eb"
      },
      "outputs": [
        {
          "name": "stdout",
          "output_type": "stream",
          "text": [
            "37/37 - 0s - loss: 0.4246 - accuracy: 0.9170 - 138ms/epoch - 4ms/step\n"
          ]
        }
      ],
      "source": [
        "acc_eval = acc_model.evaluate(accX_test_pad, accy_test, verbose=2)"
      ]
    },
    {
      "cell_type": "code",
      "execution_count": null,
      "metadata": {
        "colab": {
          "base_uri": "https://localhost:8080/"
        },
        "id": "u14xalJjurUV",
        "outputId": "97298674-72dc-4640-c570-e2d4b1c6e8bb"
      },
      "outputs": [
        {
          "name": "stdout",
          "output_type": "stream",
          "text": [
            "              precision    recall  f1-score   support\n",
            "\n",
            "           0       0.75      0.60      0.67         5\n",
            "           1       0.82      0.65      0.73        43\n",
            "           2       0.44      0.42      0.43        19\n",
            "           3       0.95      0.95      0.95        96\n",
            "           4       0.90      0.94      0.92       192\n",
            "           5       0.97      0.94      0.95        97\n",
            "           6       0.94      0.96      0.95       541\n",
            "           7       0.94      0.94      0.94       164\n",
            "           8       0.42      0.33      0.37        24\n",
            "\n",
            "    accuracy                           0.92      1181\n",
            "   macro avg       0.79      0.75      0.77      1181\n",
            "weighted avg       0.91      0.92      0.91      1181\n",
            "\n"
          ]
        }
      ],
      "source": [
        "from sklearn.metrics import confusion_matrix, accuracy_score, classification_report\n",
        "\n",
        "prediction = acc_model.predict(accX_test_pad)\n",
        "# print(metrics.classification_report(accy_test, predicted))\n",
        "acc_y_pred = np.argmax(prediction, axis=-1)\n",
        "print(classification_report(accy_test, acc_y_pred))"
      ]
    },
    {
      "cell_type": "code",
      "execution_count": null,
      "metadata": {
        "colab": {
          "base_uri": "https://localhost:8080/"
        },
        "id": "fT5wJnRgsJN7",
        "outputId": "a144ad4d-7f54-495a-d7df-5499da0ca039"
      },
      "outputs": [
        {
          "name": "stdout",
          "output_type": "stream",
          "text": [
            "              precision    recall  f1-score   support\n",
            "\n",
            "           0       0.67      0.40      0.50         5\n",
            "           1       0.86      0.58      0.69        43\n",
            "           2       0.33      0.21      0.26        19\n",
            "           3       0.93      0.96      0.94        96\n",
            "           4       0.86      0.96      0.91       192\n",
            "           5       0.98      0.92      0.95        97\n",
            "           6       0.93      0.96      0.95       541\n",
            "           7       0.96      0.93      0.94       164\n",
            "           8       0.43      0.25      0.32        24\n",
            "\n",
            "    accuracy                           0.91      1181\n",
            "   macro avg       0.77      0.69      0.72      1181\n",
            "weighted avg       0.91      0.91      0.91      1181\n",
            "\n"
          ]
        }
      ],
      "source": [
        "from sklearn.metrics import confusion_matrix, accuracy_score, classification_report\n",
        "\n",
        "prediction = acc_model.predict(accX_test_pad)\n",
        "# print(metrics.classification_report(accy_test, predicted))\n",
        "acc_y_pred = np.argmax(prediction, axis=-1)\n",
        "print(classification_report(accy_test, acc_y_pred))"
      ]
    },
    {
      "cell_type": "code",
      "execution_count": null,
      "metadata": {
        "colab": {
          "base_uri": "https://localhost:8080/",
          "height": 279
        },
        "id": "UdqCfeBtsKoc",
        "outputId": "f0a8d735-27c5-4d84-88eb-9c6efdc915c4"
      },
      "outputs": [
        {
          "data": {
            "image/png": "[encoded data removed]",
            "text/plain": [
              "<Figure size 432x288 with 1 Axes>"
            ]
          },
          "metadata": {},
          "output_type": "display_data"
        }
      ],
      "source": [
        "import matplotlib.pyplot as plt\n",
        "\n",
        "def plot_graphs(history, string):\n",
        "  plt.plot(history.history[string])\n",
        "  plt.plot(history.history['val_'+string])\n",
        "  plt.xlabel(\"Epochs\")\n",
        "  plt.ylabel(string)\n",
        "  plt.legend([string, 'val_'+string])\n",
        "  plt.savefig('/content/drive/My Drive/Journal/Save_Model/MLP/Accident/accuracy_plot.jpg', bbox_inches='tight', dpi=150)\n",
        "  plt.show()\n",
        "  \n",
        "plot_graphs(acc_history, \"accuracy\")\n",
        "# plot_graphs(acc_history, \"loss\")"
      ]
    },
    {
      "cell_type": "code",
      "execution_count": null,
      "metadata": {
        "colab": {
          "base_uri": "https://localhost:8080/",
          "height": 279
        },
        "id": "IMreurZUtb-s",
        "outputId": "f1bf22f3-f74f-49ea-f727-7e6510951c20"
      },
      "outputs": [
        {
          "output_type": "display_data",
          "data": {
            "text/plain": [
              "<Figure size 432x288 with 1 Axes>"
            ],
            "image/png": "[encoded data removed]"
          },
          "metadata": {
            "needs_background": "light"
          }
        }
      ],
      "source": [
        "import matplotlib.pyplot as plt\n",
        "\n",
        "def plot_graphs(history, string):\n",
        "  plt.plot(history.history[string])\n",
        "  plt.plot(history.history['val_'+string])\n",
        "  plt.xlabel(\"Epochs\")\n",
        "  plt.ylabel(string)\n",
        "  plt.legend([string, 'val_'+string])\n",
        "  plt.savefig('/content/drive/My Drive/Journal/Save_Model/MLP/Accident/loss_plot.jpg', bbox_inches='tight', dpi=150)\n",
        "  plt.show()\n",
        "  \n",
        "# plot_graphs(acc_history, \"accuracy\")\n",
        "plot_graphs(acc_history, \"loss\")"
      ]
    },
    {
      "cell_type": "markdown",
      "metadata": {
        "id": "IT2tlIBWA7J7"
      },
      "source": [
        "## Crime"
      ]
    },
    {
      "cell_type": "code",
      "execution_count": null,
      "metadata": {
        "id": "iR1slzyasTSw"
      },
      "outputs": [],
      "source": [
        "#Add Callbacks, e.g. ModelCheckpoints, earlystopping, csvlogger.\n",
        "from keras.callbacks import ModelCheckpoint, EarlyStopping, CSVLogger\n",
        "\n",
        "#ModelCheckpoint callback saves a model at some interval. \n",
        "filepath=\"/content/drive/My Drive/Journal/Save_Model/MLP/Crime/saved_models/weights-improvement-{epoch:02d}-{val_accuracy:.2f}.hdf5\" #File name includes epoch and validation accuracy.\n",
        "#Use Mode = max for accuracy and min for loss. \n",
        "checkpoint = ModelCheckpoint(filepath, monitor='val_accuracy', verbose=1, save_best_only=True, mode='max')\n",
        "\n",
        "#https://www.tensorflow.org/api_docs/python/tf/keras/callbacks/EarlyStopping\n",
        "early_stop = EarlyStopping(monitor='val_accuracy', patience=5, verbose=2)\n",
        "#This callback will stop the training when there is no improvement in\n",
        "# the validation loss for three consecutive epochs.\n",
        "\n",
        "#CSVLogger logs epoch, acc, loss, val_acc, val_loss\n",
        "log_csv = CSVLogger('/content/drive/My Drive/Journal/Save_Model/MLP/Crime/crime_mlp_my_logs.csv', separator=',', append=False)\n",
        "\n",
        "callbacks_list = [checkpoint, early_stop, log_csv]\n",
        "# callbacks_list = [checkpoint, log_csv]"
      ]
    },
    {
      "cell_type": "code",
      "execution_count": null,
      "metadata": {
        "colab": {
          "base_uri": "https://localhost:8080/"
        },
        "id": "ZPbTY-WcCZaT",
        "outputId": "d987e3a0-02ee-4370-c21b-61e944258bd9"
      },
      "outputs": [
        {
          "output_type": "execute_result",
          "data": {
            "text/plain": [
              "9"
            ]
          },
          "metadata": {},
          "execution_count": 425
        }
      ],
      "source": [
        "len(accy_train.value_counts())"
      ]
    },
    {
      "cell_type": "code",
      "execution_count": null,
      "metadata": {
        "colab": {
          "base_uri": "https://localhost:8080/"
        },
        "id": "5lopdEFBBE23",
        "outputId": "cd0f9bb8-3fb9-4525-a3be-7a20d042e763"
      },
      "outputs": [
        {
          "output_type": "stream",
          "name": "stdout",
          "text": [
            "Model: \"sequential\"\n",
            "_________________________________________________________________\n",
            " Layer (type)                Output Shape              Param #   \n",
            "=================================================================\n",
            " embedding (Embedding)       (None, 3000, 400)         20000000  \n",
            "                                                                 \n",
            " global_average_pooling1d (G  (None, 400)              0         \n",
            " lobalAveragePooling1D)                                          \n",
            "                                                                 \n",
            " dense (Dense)               (None, 450)               180450    \n",
            "                                                                 \n",
            " dropout (Dropout)           (None, 450)               0         \n",
            "                                                                 \n",
            " dense_1 (Dense)             (None, 7)                 3157      \n",
            "                                                                 \n",
            "=================================================================\n",
            "Total params: 20,183,607\n",
            "Trainable params: 20,183,607\n",
            "Non-trainable params: 0\n",
            "_________________________________________________________________\n"
          ]
        }
      ],
      "source": [
        "crime_model = mlp_model(len(crimey_train.value_counts()))\n",
        "crime_model.summary()"
      ]
    },
    {
      "cell_type": "code",
      "execution_count": null,
      "metadata": {
        "colab": {
          "base_uri": "https://localhost:8080/"
        },
        "id": "Z4OQKFXnBPMH",
        "outputId": "332459eb-9616-4fca-a0f2-c369b106efb9"
      },
      "outputs": [
        {
          "output_type": "stream",
          "name": "stdout",
          "text": [
            "Epoch 1/20\n",
            "\n",
            "Epoch 1: val_accuracy improved from -inf to 0.53414, saving model to /content/drive/My Drive/Journal/Save_Model/MLP/Crime/saved_models/weights-improvement-01-0.53.hdf5\n",
            "351/351 - 8s - loss: 1.5601 - accuracy: 0.4832 - val_loss: 1.4260 - val_accuracy: 0.5341 - 8s/epoch - 24ms/step\n",
            "Epoch 2/20\n",
            "\n",
            "Epoch 2: val_accuracy improved from 0.53414 to 0.63936, saving model to /content/drive/My Drive/Journal/Save_Model/MLP/Crime/saved_models/weights-improvement-02-0.64.hdf5\n",
            "351/351 - 7s - loss: 1.1139 - accuracy: 0.5970 - val_loss: 1.0223 - val_accuracy: 0.6394 - 7s/epoch - 21ms/step\n",
            "Epoch 3/20\n",
            "\n",
            "Epoch 3: val_accuracy improved from 0.63936 to 0.73414, saving model to /content/drive/My Drive/Journal/Save_Model/MLP/Crime/saved_models/weights-improvement-03-0.73.hdf5\n",
            "351/351 - 17s - loss: 0.8722 - accuracy: 0.6876 - val_loss: 0.8554 - val_accuracy: 0.7341 - 17s/epoch - 49ms/step\n",
            "Epoch 4/20\n",
            "\n",
            "Epoch 4: val_accuracy improved from 0.73414 to 0.76787, saving model to /content/drive/My Drive/Journal/Save_Model/MLP/Crime/saved_models/weights-improvement-04-0.77.hdf5\n",
            "351/351 - 7s - loss: 0.6761 - accuracy: 0.7768 - val_loss: 0.7356 - val_accuracy: 0.7679 - 7s/epoch - 21ms/step\n",
            "Epoch 5/20\n",
            "\n",
            "Epoch 5: val_accuracy improved from 0.76787 to 0.79357, saving model to /content/drive/My Drive/Journal/Save_Model/MLP/Crime/saved_models/weights-improvement-05-0.79.hdf5\n",
            "351/351 - 8s - loss: 0.5042 - accuracy: 0.8414 - val_loss: 0.6885 - val_accuracy: 0.7936 - 8s/epoch - 21ms/step\n",
            "Epoch 6/20\n",
            "\n",
            "Epoch 6: val_accuracy improved from 0.79357 to 0.80000, saving model to /content/drive/My Drive/Journal/Save_Model/MLP/Crime/saved_models/weights-improvement-06-0.80.hdf5\n",
            "351/351 - 7s - loss: 0.3711 - accuracy: 0.8902 - val_loss: 0.6763 - val_accuracy: 0.8000 - 7s/epoch - 20ms/step\n",
            "Epoch 7/20\n",
            "\n",
            "Epoch 7: val_accuracy improved from 0.80000 to 0.81606, saving model to /content/drive/My Drive/Journal/Save_Model/MLP/Crime/saved_models/weights-improvement-07-0.82.hdf5\n",
            "351/351 - 8s - loss: 0.2885 - accuracy: 0.9168 - val_loss: 0.6659 - val_accuracy: 0.8161 - 8s/epoch - 22ms/step\n",
            "Epoch 8/20\n",
            "\n",
            "Epoch 8: val_accuracy improved from 0.81606 to 0.84418, saving model to /content/drive/My Drive/Journal/Save_Model/MLP/Crime/saved_models/weights-improvement-08-0.84.hdf5\n",
            "351/351 - 7s - loss: 0.2091 - accuracy: 0.9443 - val_loss: 0.5963 - val_accuracy: 0.8442 - 7s/epoch - 21ms/step\n",
            "Epoch 9/20\n",
            "\n",
            "Epoch 9: val_accuracy did not improve from 0.84418\n",
            "351/351 - 6s - loss: 0.1557 - accuracy: 0.9598 - val_loss: 0.7234 - val_accuracy: 0.8265 - 6s/epoch - 18ms/step\n",
            "Epoch 10/20\n",
            "\n",
            "Epoch 10: val_accuracy did not improve from 0.84418\n",
            "351/351 - 6s - loss: 0.1227 - accuracy: 0.9707 - val_loss: 0.6460 - val_accuracy: 0.8426 - 6s/epoch - 18ms/step\n",
            "Epoch 11/20\n",
            "\n",
            "Epoch 11: val_accuracy did not improve from 0.84418\n",
            "351/351 - 6s - loss: 0.0977 - accuracy: 0.9743 - val_loss: 0.7309 - val_accuracy: 0.8249 - 6s/epoch - 18ms/step\n",
            "Epoch 12/20\n",
            "\n",
            "Epoch 12: val_accuracy improved from 0.84418 to 0.85382, saving model to /content/drive/My Drive/Journal/Save_Model/MLP/Crime/saved_models/weights-improvement-12-0.85.hdf5\n",
            "351/351 - 17s - loss: 0.0856 - accuracy: 0.9755 - val_loss: 0.7078 - val_accuracy: 0.8538 - 17s/epoch - 49ms/step\n",
            "Epoch 13/20\n",
            "\n",
            "Epoch 13: val_accuracy did not improve from 0.85382\n",
            "351/351 - 6s - loss: 0.0651 - accuracy: 0.9823 - val_loss: 0.7245 - val_accuracy: 0.8474 - 6s/epoch - 18ms/step\n",
            "Epoch 14/20\n",
            "\n",
            "Epoch 14: val_accuracy did not improve from 0.85382\n",
            "351/351 - 6s - loss: 0.0534 - accuracy: 0.9864 - val_loss: 0.8186 - val_accuracy: 0.8386 - 6s/epoch - 18ms/step\n",
            "Epoch 15/20\n",
            "\n",
            "Epoch 15: val_accuracy did not improve from 0.85382\n",
            "351/351 - 6s - loss: 0.0487 - accuracy: 0.9861 - val_loss: 0.8473 - val_accuracy: 0.8410 - 6s/epoch - 18ms/step\n",
            "Epoch 16/20\n",
            "\n",
            "Epoch 16: val_accuracy did not improve from 0.85382\n",
            "351/351 - 6s - loss: 0.0473 - accuracy: 0.9859 - val_loss: 1.0051 - val_accuracy: 0.8225 - 6s/epoch - 18ms/step\n",
            "Epoch 17/20\n",
            "\n",
            "Epoch 17: val_accuracy did not improve from 0.85382\n",
            "351/351 - 7s - loss: 0.0382 - accuracy: 0.9887 - val_loss: 0.8806 - val_accuracy: 0.8474 - 7s/epoch - 19ms/step\n",
            "Epoch 17: early stopping\n"
          ]
        }
      ],
      "source": [
        "crime_history = crime_model.fit(crimeX_train_pad, crimey_train, epochs=20, validation_data=(crimeX_val_pad, crimey_val), verbose=2, callbacks=callbacks_list)\n",
        "crime_model.save('/content/drive/My Drive/Journal/Save_Model/MLP/Crime/crime_mlp_model.h5')"
      ]
    },
    {
      "cell_type": "code",
      "execution_count": null,
      "metadata": {
        "colab": {
          "base_uri": "https://localhost:8080/"
        },
        "id": "1NN2ydwQBqW0",
        "outputId": "f3c08bf9-95af-434b-d4e8-65abe62db072"
      },
      "outputs": [
        {
          "output_type": "stream",
          "name": "stdout",
          "text": [
            "44/44 - 0s - loss: 0.7783 - accuracy: 0.8577 - 157ms/epoch - 4ms/step\n"
          ]
        }
      ],
      "source": [
        "crime_eval = crime_model.evaluate(crimeX_test_pad, crimey_test, verbose=2)"
      ]
    },
    {
      "cell_type": "code",
      "source": [
        "from sklearn.metrics import confusion_matrix, accuracy_score, classification_report\n",
        "\n",
        "prediction = crime_model.predict(crimeX_test_pad)\n",
        "# print(metrics.classification_report(accy_test, predicted))\n",
        "crime_y_pred = np.argmax(prediction, axis=-1)\n",
        "print(classification_report(crimey_test, crime_y_pred))"
      ],
      "metadata": {
        "colab": {
          "base_uri": "https://localhost:8080/"
        },
        "id": "rHAbnwoUNTcP",
        "outputId": "c1515db4-91bf-40b7-a2e7-5b0c98ab9221"
      },
      "execution_count": null,
      "outputs": [
        {
          "output_type": "stream",
          "name": "stdout",
          "text": [
            "              precision    recall  f1-score   support\n",
            "\n",
            "           0       0.83      0.73      0.78       175\n",
            "           1       0.91      0.83      0.87       126\n",
            "           2       0.94      0.93      0.94       647\n",
            "           3       0.55      0.75      0.63       104\n",
            "           4       0.86      0.83      0.84       127\n",
            "           5       0.73      0.85      0.78       100\n",
            "           6       0.89      0.81      0.85       105\n",
            "\n",
            "    accuracy                           0.86      1384\n",
            "   macro avg       0.82      0.82      0.81      1384\n",
            "weighted avg       0.87      0.86      0.86      1384\n",
            "\n"
          ]
        }
      ]
    },
    {
      "cell_type": "code",
      "execution_count": null,
      "metadata": {
        "colab": {
          "base_uri": "https://localhost:8080/",
          "height": 279
        },
        "id": "UVebde-VDyUI",
        "outputId": "cd1a5af1-6248-4076-f91b-b367b7ba9b49"
      },
      "outputs": [
        {
          "output_type": "display_data",
          "data": {
            "text/plain": [
              "<Figure size 432x288 with 1 Axes>"
            ],
            "image/png": "[encoded data removed]"
          },
          "metadata": {
            "needs_background": "light"
          }
        }
      ],
      "source": [
        "import matplotlib.pyplot as plt\n",
        "\n",
        "def plot_graphs(history, string):\n",
        "  plt.plot(history.history[string])\n",
        "  plt.plot(history.history['val_'+string])\n",
        "  plt.xlabel(\"Epochs\")\n",
        "  plt.ylabel(string)\n",
        "  plt.legend([string, 'val_'+string])\n",
        "  plt.savefig('/content/drive/My Drive/Journal/Save_Model/MLP/Accident/accuracy_plot.jpg', bbox_inches='tight', dpi=150)\n",
        "  plt.show()\n",
        "  \n",
        "plot_graphs(crime_history, \"accuracy\")\n",
        "# plot_graphs(acc_history, \"loss\")"
      ]
    },
    {
      "cell_type": "code",
      "execution_count": null,
      "metadata": {
        "id": "JZbBTjtQCAD7",
        "colab": {
          "base_uri": "https://localhost:8080/",
          "height": 279
        },
        "outputId": "9a5e1673-cd24-4901-f5b4-731c39ccbcf7"
      },
      "outputs": [
        {
          "output_type": "display_data",
          "data": {
            "text/plain": [
              "<Figure size 432x288 with 1 Axes>"
            ],
            "image/png": "[encoded data removed]"
          },
          "metadata": {
            "needs_background": "light"
          }
        }
      ],
      "source": [
        "import matplotlib.pyplot as plt\n",
        "\n",
        "def plot_graphs(history, string):\n",
        "  plt.plot(history.history[string])\n",
        "  plt.plot(history.history['val_'+string])\n",
        "  plt.xlabel(\"Epochs\")\n",
        "  plt.ylabel(string)\n",
        "  plt.legend([string, 'val_'+string])\n",
        "  plt.savefig('/content/drive/My Drive/Journal/Save_Model/MLP/Crime/loss_plot.jpg', bbox_inches='tight', dpi=150)\n",
        "  plt.show()\n",
        "  \n",
        "# plot_graphs(acc_history, \"accuracy\")\n",
        "plot_graphs(crime_history, \"loss\")"
      ]
    },
    {
      "cell_type": "markdown",
      "source": [
        "## Entertainment"
      ],
      "metadata": {
        "id": "cBCz56i7SM46"
      }
    },
    {
      "cell_type": "code",
      "source": [
        "#Add Callbacks, e.g. ModelCheckpoints, earlystopping, csvlogger.\n",
        "from keras.callbacks import ModelCheckpoint, EarlyStopping, CSVLogger\n",
        "\n",
        "#ModelCheckpoint callback saves a model at some interval. \n",
        "filepath=\"/content/drive/My Drive/Journal/Save_Model/MLP/Entertainment/saved_models/weights-improvement-{epoch:02d}-{val_accuracy:.2f}.hdf5\" #File name includes epoch and validation accuracy.\n",
        "#Use Mode = max for accuracy and min for loss. \n",
        "checkpoint = ModelCheckpoint(filepath, monitor='val_accuracy', verbose=1, save_best_only=True, mode='max')\n",
        "\n",
        "#https://www.tensorflow.org/api_docs/python/tf/keras/callbacks/EarlyStopping\n",
        "early_stop = EarlyStopping(monitor='val_accuracy', patience=5, verbose=2)\n",
        "#This callback will stop the training when there is no improvement in\n",
        "# the validation loss for three consecutive epochs.\n",
        "\n",
        "#CSVLogger logs epoch, acc, loss, val_acc, val_loss\n",
        "log_csv = CSVLogger('/content/drive/My Drive/Journal/Save_Model/MLP/Entertainment/ent_mlp_my_logs.csv', separator=',', append=False)\n",
        "\n",
        "callbacks_list = [checkpoint, early_stop, log_csv]\n",
        "# callbacks_list = [checkpoint, log_csv]"
      ],
      "metadata": {
        "id": "nPQ6oeNSSDGW"
      },
      "execution_count": null,
      "outputs": []
    },
    {
      "cell_type": "code",
      "source": [
        "ent_model = mlp_model(len(enty_train.value_counts()))\n",
        "ent_model.summary()"
      ],
      "metadata": {
        "colab": {
          "base_uri": "https://localhost:8080/"
        },
        "id": "Q1RqyYS8Ta4b",
        "outputId": "5bb82e8c-fb89-4e4b-d989-29c741fdf71b"
      },
      "execution_count": null,
      "outputs": [
        {
          "output_type": "stream",
          "name": "stdout",
          "text": [
            "Model: \"sequential_3\"\n",
            "_________________________________________________________________\n",
            " Layer (type)                Output Shape              Param #   \n",
            "=================================================================\n",
            " embedding_3 (Embedding)     (None, 3000, 400)         20000000  \n",
            "                                                                 \n",
            " global_average_pooling1d_3   (None, 400)              0         \n",
            " (GlobalAveragePooling1D)                                        \n",
            "                                                                 \n",
            " dense_6 (Dense)             (None, 450)               180450    \n",
            "                                                                 \n",
            " dropout_3 (Dropout)         (None, 450)               0         \n",
            "                                                                 \n",
            " dense_7 (Dense)             (None, 6)                 2706      \n",
            "                                                                 \n",
            "=================================================================\n",
            "Total params: 20,183,156\n",
            "Trainable params: 20,183,156\n",
            "Non-trainable params: 0\n",
            "_________________________________________________________________\n"
          ]
        }
      ]
    },
    {
      "cell_type": "code",
      "source": [
        "ent_history = ent_model.fit(entX_train_pad, enty_train, epochs=20, validation_data=(entX_val_pad, enty_val), verbose=2, callbacks=callbacks_list)\n",
        "ent_model.save('/content/drive/My Drive/Journal/Save_Model/MLP/Entertainment/ent_mlp_model.h5')"
      ],
      "metadata": {
        "colab": {
          "base_uri": "https://localhost:8080/"
        },
        "id": "AJYMra60Tkz9",
        "outputId": "425af79f-80fc-4d24-8919-31ae13d341bf"
      },
      "execution_count": null,
      "outputs": [
        {
          "output_type": "stream",
          "name": "stdout",
          "text": [
            "Epoch 1/20\n",
            "\n",
            "Epoch 1: val_accuracy improved from -inf to 0.59070, saving model to /content/drive/My Drive/Journal/Save_Model/MLP/Entertainment/saved_models/weights-improvement-01-0.59.hdf5\n",
            "424/424 - 9s - loss: 1.2739 - accuracy: 0.5897 - val_loss: 1.1537 - val_accuracy: 0.5907 - 9s/epoch - 21ms/step\n",
            "Epoch 2/20\n",
            "\n",
            "Epoch 2: val_accuracy improved from 0.59070 to 0.66179, saving model to /content/drive/My Drive/Journal/Save_Model/MLP/Entertainment/saved_models/weights-improvement-02-0.66.hdf5\n",
            "424/424 - 19s - loss: 0.9468 - accuracy: 0.6523 - val_loss: 0.9211 - val_accuracy: 0.6618 - 19s/epoch - 44ms/step\n",
            "Epoch 3/20\n",
            "\n",
            "Epoch 3: val_accuracy improved from 0.66179 to 0.77542, saving model to /content/drive/My Drive/Journal/Save_Model/MLP/Entertainment/saved_models/weights-improvement-03-0.78.hdf5\n",
            "424/424 - 9s - loss: 0.7757 - accuracy: 0.7250 - val_loss: 0.7513 - val_accuracy: 0.7754 - 9s/epoch - 20ms/step\n",
            "Epoch 4/20\n",
            "\n",
            "Epoch 4: val_accuracy improved from 0.77542 to 0.80399, saving model to /content/drive/My Drive/Journal/Save_Model/MLP/Entertainment/saved_models/weights-improvement-04-0.80.hdf5\n",
            "424/424 - 19s - loss: 0.5916 - accuracy: 0.8116 - val_loss: 0.6553 - val_accuracy: 0.8040 - 19s/epoch - 44ms/step\n",
            "Epoch 5/20\n",
            "\n",
            "Epoch 5: val_accuracy improved from 0.80399 to 0.81262, saving model to /content/drive/My Drive/Journal/Save_Model/MLP/Entertainment/saved_models/weights-improvement-05-0.81.hdf5\n",
            "424/424 - 8s - loss: 0.4604 - accuracy: 0.8527 - val_loss: 0.6359 - val_accuracy: 0.8126 - 8s/epoch - 20ms/step\n",
            "Epoch 6/20\n",
            "\n",
            "Epoch 6: val_accuracy improved from 0.81262 to 0.83654, saving model to /content/drive/My Drive/Journal/Save_Model/MLP/Entertainment/saved_models/weights-improvement-06-0.84.hdf5\n",
            "424/424 - 9s - loss: 0.3583 - accuracy: 0.8906 - val_loss: 0.6166 - val_accuracy: 0.8365 - 9s/epoch - 21ms/step\n",
            "Epoch 7/20\n",
            "\n",
            "Epoch 7: val_accuracy did not improve from 0.83654\n",
            "424/424 - 8s - loss: 0.2755 - accuracy: 0.9191 - val_loss: 0.7459 - val_accuracy: 0.8073 - 8s/epoch - 18ms/step\n",
            "Epoch 8/20\n",
            "\n",
            "Epoch 8: val_accuracy did not improve from 0.83654\n",
            "424/424 - 8s - loss: 0.2112 - accuracy: 0.9391 - val_loss: 0.6554 - val_accuracy: 0.8319 - 8s/epoch - 18ms/step\n",
            "Epoch 9/20\n",
            "\n",
            "Epoch 9: val_accuracy improved from 0.83654 to 0.83920, saving model to /content/drive/My Drive/Journal/Save_Model/MLP/Entertainment/saved_models/weights-improvement-09-0.84.hdf5\n",
            "424/424 - 9s - loss: 0.1672 - accuracy: 0.9544 - val_loss: 0.6651 - val_accuracy: 0.8392 - 9s/epoch - 20ms/step\n",
            "Epoch 10/20\n",
            "\n",
            "Epoch 10: val_accuracy did not improve from 0.83920\n",
            "424/424 - 8s - loss: 0.1487 - accuracy: 0.9551 - val_loss: 0.7719 - val_accuracy: 0.8153 - 8s/epoch - 18ms/step\n",
            "Epoch 11/20\n",
            "\n",
            "Epoch 11: val_accuracy did not improve from 0.83920\n",
            "424/424 - 8s - loss: 0.1292 - accuracy: 0.9639 - val_loss: 0.7866 - val_accuracy: 0.8252 - 8s/epoch - 18ms/step\n",
            "Epoch 12/20\n",
            "\n",
            "Epoch 12: val_accuracy did not improve from 0.83920\n",
            "424/424 - 8s - loss: 0.1060 - accuracy: 0.9686 - val_loss: 0.7880 - val_accuracy: 0.8246 - 8s/epoch - 20ms/step\n",
            "Epoch 13/20\n",
            "\n",
            "Epoch 13: val_accuracy did not improve from 0.83920\n",
            "424/424 - 8s - loss: 0.1093 - accuracy: 0.9660 - val_loss: 0.8307 - val_accuracy: 0.8266 - 8s/epoch - 18ms/step\n",
            "Epoch 14/20\n",
            "\n",
            "Epoch 14: val_accuracy improved from 0.83920 to 0.85050, saving model to /content/drive/My Drive/Journal/Save_Model/MLP/Entertainment/saved_models/weights-improvement-14-0.85.hdf5\n",
            "424/424 - 16s - loss: 0.0846 - accuracy: 0.9747 - val_loss: 0.7579 - val_accuracy: 0.8505 - 16s/epoch - 38ms/step\n",
            "Epoch 15/20\n",
            "\n",
            "Epoch 15: val_accuracy did not improve from 0.85050\n",
            "424/424 - 8s - loss: 0.0760 - accuracy: 0.9788 - val_loss: 0.9246 - val_accuracy: 0.8080 - 8s/epoch - 19ms/step\n",
            "Epoch 16/20\n",
            "\n",
            "Epoch 16: val_accuracy did not improve from 0.85050\n",
            "424/424 - 8s - loss: 0.0877 - accuracy: 0.9739 - val_loss: 0.8585 - val_accuracy: 0.8412 - 8s/epoch - 18ms/step\n",
            "Epoch 17/20\n",
            "\n",
            "Epoch 17: val_accuracy did not improve from 0.85050\n",
            "424/424 - 8s - loss: 0.0727 - accuracy: 0.9799 - val_loss: 0.9702 - val_accuracy: 0.8093 - 8s/epoch - 18ms/step\n",
            "Epoch 18/20\n",
            "\n",
            "Epoch 18: val_accuracy did not improve from 0.85050\n",
            "424/424 - 8s - loss: 0.0669 - accuracy: 0.9806 - val_loss: 0.9641 - val_accuracy: 0.8206 - 8s/epoch - 18ms/step\n",
            "Epoch 19/20\n",
            "\n",
            "Epoch 19: val_accuracy did not improve from 0.85050\n",
            "424/424 - 8s - loss: 0.0670 - accuracy: 0.9806 - val_loss: 0.9379 - val_accuracy: 0.8372 - 8s/epoch - 18ms/step\n",
            "Epoch 19: early stopping\n"
          ]
        }
      ]
    },
    {
      "cell_type": "code",
      "source": [
        "new_ent_model = tf.keras.models.load_model('/content/drive/My Drive/Journal/Save_Model/MLP/Entertainment/saved_models/weights-improvement-14-0.85.hdf5')"
      ],
      "metadata": {
        "id": "v23CMrkNhXf7"
      },
      "execution_count": null,
      "outputs": []
    },
    {
      "cell_type": "code",
      "source": [
        "ent_eval = new_ent_model.evaluate(entX_test_pad, enty_test, verbose=2)"
      ],
      "metadata": {
        "colab": {
          "base_uri": "https://localhost:8080/"
        },
        "id": "QJtg_UmgfkDs",
        "outputId": "9a127488-4d45-4a16-b51c-2639aa5cbe03"
      },
      "execution_count": null,
      "outputs": [
        {
          "output_type": "stream",
          "name": "stdout",
          "text": [
            "53/53 - 1s - loss: 0.7724 - accuracy: 0.8428 - 630ms/epoch - 12ms/step\n"
          ]
        }
      ]
    },
    {
      "cell_type": "code",
      "source": [
        "ent_eval = ent_model.evaluate(entX_test_pad, enty_test, verbose=2)"
      ],
      "metadata": {
        "colab": {
          "base_uri": "https://localhost:8080/"
        },
        "id": "F1eyjGqLT0C4",
        "outputId": "b7f22d21-2dad-4652-e80f-ce44d094a5ad"
      },
      "execution_count": null,
      "outputs": [
        {
          "output_type": "stream",
          "name": "stdout",
          "text": [
            "53/53 - 0s - loss: 0.9302 - accuracy: 0.8326 - 180ms/epoch - 3ms/step\n"
          ]
        }
      ]
    },
    {
      "cell_type": "code",
      "source": [
        "from sklearn.metrics import confusion_matrix, accuracy_score, classification_report\n",
        "\n",
        "prediction = ent_model.predict(entX_test_pad)\n",
        "# print(metrics.classification_report(accy_test, predicted))\n",
        "ent_y_pred = np.argmax(prediction, axis=-1)\n",
        "print(classification_report(enty_test, ent_y_pred))"
      ],
      "metadata": {
        "colab": {
          "base_uri": "https://localhost:8080/"
        },
        "id": "bgMOw8MqkYNh",
        "outputId": "8faf835d-7f2a-4a2e-9354-66673bf283b7"
      },
      "execution_count": null,
      "outputs": [
        {
          "output_type": "stream",
          "name": "stdout",
          "text": [
            "              precision    recall  f1-score   support\n",
            "\n",
            "           0       0.90      0.94      0.92       987\n",
            "           1       0.77      0.67      0.72       204\n",
            "           2       0.59      0.49      0.53        47\n",
            "           3       0.72      0.79      0.75       155\n",
            "           4       0.71      0.75      0.73       213\n",
            "           5       0.67      0.33      0.44        67\n",
            "\n",
            "    accuracy                           0.83      1673\n",
            "   macro avg       0.73      0.66      0.68      1673\n",
            "weighted avg       0.83      0.83      0.83      1673\n",
            "\n"
          ]
        }
      ]
    },
    {
      "cell_type": "code",
      "source": [
        "from sklearn.metrics import confusion_matrix, accuracy_score, classification_report\n",
        "\n",
        "prediction = new_ent_model.predict(entX_test_pad)\n",
        "# print(metrics.classification_report(accy_test, predicted))\n",
        "ent_y_pred = np.argmax(prediction, axis=-1)\n",
        "print(classification_report(enty_test, ent_y_pred))"
      ],
      "metadata": {
        "colab": {
          "base_uri": "https://localhost:8080/"
        },
        "id": "lZNTXkJMV769",
        "outputId": "ac564062-c10d-41dd-e0cb-effbae5d71f8"
      },
      "execution_count": null,
      "outputs": [
        {
          "output_type": "stream",
          "name": "stdout",
          "text": [
            "              precision    recall  f1-score   support\n",
            "\n",
            "           0       0.89      0.95      0.92       987\n",
            "           1       0.72      0.80      0.76       204\n",
            "           2       0.67      0.55      0.60        47\n",
            "           3       0.79      0.70      0.74       155\n",
            "           4       0.86      0.62      0.72       213\n",
            "           5       0.68      0.58      0.63        67\n",
            "\n",
            "    accuracy                           0.84      1673\n",
            "   macro avg       0.77      0.70      0.73      1673\n",
            "weighted avg       0.84      0.84      0.84      1673\n",
            "\n"
          ]
        }
      ]
    },
    {
      "cell_type": "code",
      "source": [
        "import matplotlib.pyplot as plt\n",
        "\n",
        "def plot_graphs(history, string):\n",
        "  plt.plot(history.history[string])\n",
        "  plt.plot(history.history['val_'+string])\n",
        "  plt.xlabel(\"Epochs\")\n",
        "  plt.ylabel(string)\n",
        "  plt.legend([string, 'val_'+string])\n",
        "  plt.savefig('/content/drive/My Drive/Journal/Save_Model/MLP/Entertainment/accuracy_plot.jpg', bbox_inches='tight', dpi=150)\n",
        "  plt.show()\n",
        "  \n",
        "plot_graphs(ent_history, \"accuracy\")\n",
        "# plot_graphs(acc_history, \"loss\")"
      ],
      "metadata": {
        "colab": {
          "base_uri": "https://localhost:8080/",
          "height": 283
        },
        "id": "qucdr8e6WFnp",
        "outputId": "6aff8652-90d3-4801-d50e-e6351f185dfb"
      },
      "execution_count": null,
      "outputs": [
        {
          "output_type": "display_data",
          "data": {
            "text/plain": [
              "<Figure size 432x288 with 1 Axes>"
            ],
            "image/png": "[encoded data removed]"
          },
          "metadata": {
            "needs_background": "light"
          }
        }
      ]
    },
    {
      "cell_type": "code",
      "source": [
        "import matplotlib.pyplot as plt\n",
        "\n",
        "def plot_graphs(history, string):\n",
        "  plt.plot(history.history[string])\n",
        "  plt.plot(history.history['val_'+string])\n",
        "  plt.xlabel(\"Epochs\")\n",
        "  plt.ylabel(string)\n",
        "  plt.legend([string, 'val_'+string])\n",
        "  plt.savefig('/content/drive/My Drive/Journal/Save_Model/MLP/Entertainment/loss_plot.jpg', bbox_inches='tight', dpi=150)\n",
        "  plt.show()\n",
        "  \n",
        "# plot_graphs(acc_history, \"accuracy\")\n",
        "plot_graphs(ent_history, \"loss\")"
      ],
      "metadata": {
        "colab": {
          "base_uri": "https://localhost:8080/",
          "height": 279
        },
        "id": "JPzF9oKRdUgy",
        "outputId": "239bffe5-aac5-44a8-91ae-6fb10bba2941"
      },
      "execution_count": null,
      "outputs": [
        {
          "output_type": "display_data",
          "data": {
            "text/plain": [
              "<Figure size 432x288 with 1 Axes>"
            ],
            "image/png": "[encoded data removed]"
          },
          "metadata": {
            "needs_background": "light"
          }
        }
      ]
    },
    {
      "cell_type": "markdown",
      "source": [
        "## Sports"
      ],
      "metadata": {
        "id": "GHOI9s5Bmelp"
      }
    },
    {
      "cell_type": "code",
      "source": [
        "#Add Callbacks, e.g. ModelCheckpoints, earlystopping, csvlogger.\n",
        "from keras.callbacks import ModelCheckpoint, EarlyStopping, CSVLogger\n",
        "\n",
        "#ModelCheckpoint callback saves a model at some interval. \n",
        "filepath=\"/content/drive/My Drive/Journal/Save_Model/MLP/Sports/saved_models/weights-improvement-{epoch:02d}-{val_accuracy:.2f}.hdf5\" #File name includes epoch and validation accuracy.\n",
        "#Use Mode = max for accuracy and min for loss. \n",
        "checkpoint = ModelCheckpoint(filepath, monitor='val_accuracy', verbose=1, save_best_only=True, mode='max')\n",
        "\n",
        "#https://www.tensorflow.org/api_docs/python/tf/keras/callbacks/EarlyStopping\n",
        "early_stop = EarlyStopping(monitor='val_accuracy', patience=5, verbose=2)\n",
        "#This callback will stop the training when there is no improvement in\n",
        "# the validation loss for three consecutive epochs.\n",
        "\n",
        "#CSVLogger logs epoch, acc, loss, val_acc, val_loss\n",
        "log_csv = CSVLogger('/content/drive/My Drive/Journal/Save_Model/MLP/Sports/sports_mlp_my_logs.csv', separator=',', append=False)\n",
        "\n",
        "callbacks_list = [checkpoint, early_stop, log_csv]\n",
        "# callbacks_list = [checkpoint, log_csv]"
      ],
      "metadata": {
        "id": "arLXk7vGdg-u"
      },
      "execution_count": null,
      "outputs": []
    },
    {
      "cell_type": "code",
      "source": [
        "sports_model = mlp_model(len(sportsy_train.value_counts()))\n",
        "sports_model.summary()"
      ],
      "metadata": {
        "colab": {
          "base_uri": "https://localhost:8080/"
        },
        "id": "2j9NIbYonLSu",
        "outputId": "b6dba60f-63a3-4e3c-e57d-8f7c39cde937"
      },
      "execution_count": null,
      "outputs": [
        {
          "output_type": "stream",
          "name": "stdout",
          "text": [
            "Model: \"sequential_4\"\n",
            "_________________________________________________________________\n",
            " Layer (type)                Output Shape              Param #   \n",
            "=================================================================\n",
            " embedding_4 (Embedding)     (None, 3000, 400)         20000000  \n",
            "                                                                 \n",
            " global_average_pooling1d_4   (None, 400)              0         \n",
            " (GlobalAveragePooling1D)                                        \n",
            "                                                                 \n",
            " dense_8 (Dense)             (None, 450)               180450    \n",
            "                                                                 \n",
            " dropout_4 (Dropout)         (None, 450)               0         \n",
            "                                                                 \n",
            " dense_9 (Dense)             (None, 4)                 1804      \n",
            "                                                                 \n",
            "=================================================================\n",
            "Total params: 20,182,254\n",
            "Trainable params: 20,182,254\n",
            "Non-trainable params: 0\n",
            "_________________________________________________________________\n"
          ]
        }
      ]
    },
    {
      "cell_type": "code",
      "source": [
        "sports_history = sports_model.fit(sportsX_train_pad, sportsy_train, epochs=20, validation_data=(sportsX_val_pad, sportsy_val), verbose=2, callbacks=callbacks_list)\n",
        "sports_model.save('/content/drive/My Drive/Journal/Save_Model/MLP/Sports/sports_mlp_model.h5')"
      ],
      "metadata": {
        "colab": {
          "base_uri": "https://localhost:8080/"
        },
        "id": "pm2AosGPnV8p",
        "outputId": "8906bd1e-514c-4f3a-ae78-0e16b5ee1305"
      },
      "execution_count": null,
      "outputs": [
        {
          "output_type": "stream",
          "name": "stdout",
          "text": [
            "Epoch 1/20\n",
            "\n",
            "Epoch 1: val_accuracy improved from -inf to 0.95065, saving model to /content/drive/My Drive/Journal/Save_Model/MLP/Sports/saved_models/weights-improvement-01-0.95.hdf5\n",
            "969/969 - 21s - loss: 0.4197 - accuracy: 0.8473 - val_loss: 0.1559 - val_accuracy: 0.9507 - 21s/epoch - 22ms/step\n",
            "Epoch 2/20\n",
            "\n",
            "Epoch 2: val_accuracy improved from 0.95065 to 0.96633, saving model to /content/drive/My Drive/Journal/Save_Model/MLP/Sports/saved_models/weights-improvement-02-0.97.hdf5\n",
            "969/969 - 19s - loss: 0.1416 - accuracy: 0.9536 - val_loss: 0.1095 - val_accuracy: 0.9663 - 19s/epoch - 20ms/step\n",
            "Epoch 3/20\n",
            "\n",
            "Epoch 3: val_accuracy improved from 0.96633 to 0.96778, saving model to /content/drive/My Drive/Journal/Save_Model/MLP/Sports/saved_models/weights-improvement-03-0.97.hdf5\n",
            "969/969 - 20s - loss: 0.0991 - accuracy: 0.9728 - val_loss: 0.1021 - val_accuracy: 0.9678 - 20s/epoch - 21ms/step\n",
            "Epoch 4/20\n",
            "\n",
            "Epoch 4: val_accuracy improved from 0.96778 to 0.97591, saving model to /content/drive/My Drive/Journal/Save_Model/MLP/Sports/saved_models/weights-improvement-04-0.98.hdf5\n",
            "969/969 - 23s - loss: 0.0794 - accuracy: 0.9792 - val_loss: 0.0865 - val_accuracy: 0.9759 - 23s/epoch - 23ms/step\n",
            "Epoch 5/20\n",
            "\n",
            "Epoch 5: val_accuracy did not improve from 0.97591\n",
            "969/969 - 18s - loss: 0.0656 - accuracy: 0.9817 - val_loss: 0.1145 - val_accuracy: 0.9594 - 18s/epoch - 18ms/step\n",
            "Epoch 6/20\n",
            "\n",
            "Epoch 6: val_accuracy did not improve from 0.97591\n",
            "969/969 - 18s - loss: 0.0524 - accuracy: 0.9848 - val_loss: 0.1205 - val_accuracy: 0.9614 - 18s/epoch - 18ms/step\n",
            "Epoch 7/20\n",
            "\n",
            "Epoch 7: val_accuracy improved from 0.97591 to 0.97968, saving model to /content/drive/My Drive/Journal/Save_Model/MLP/Sports/saved_models/weights-improvement-07-0.98.hdf5\n",
            "969/969 - 18s - loss: 0.0447 - accuracy: 0.9859 - val_loss: 0.0844 - val_accuracy: 0.9797 - 18s/epoch - 19ms/step\n",
            "Epoch 8/20\n",
            "\n",
            "Epoch 8: val_accuracy improved from 0.97968 to 0.98113, saving model to /content/drive/My Drive/Journal/Save_Model/MLP/Sports/saved_models/weights-improvement-08-0.98.hdf5\n",
            "969/969 - 19s - loss: 0.0359 - accuracy: 0.9880 - val_loss: 0.0932 - val_accuracy: 0.9811 - 19s/epoch - 20ms/step\n",
            "Epoch 9/20\n",
            "\n",
            "Epoch 9: val_accuracy did not improve from 0.98113\n",
            "969/969 - 18s - loss: 0.0292 - accuracy: 0.9899 - val_loss: 0.1025 - val_accuracy: 0.9768 - 18s/epoch - 19ms/step\n",
            "Epoch 10/20\n",
            "\n",
            "Epoch 10: val_accuracy did not improve from 0.98113\n",
            "969/969 - 18s - loss: 0.0301 - accuracy: 0.9900 - val_loss: 0.1153 - val_accuracy: 0.9718 - 18s/epoch - 18ms/step\n",
            "Epoch 11/20\n",
            "\n",
            "Epoch 11: val_accuracy did not improve from 0.98113\n",
            "969/969 - 18s - loss: 0.0249 - accuracy: 0.9915 - val_loss: 0.1303 - val_accuracy: 0.9768 - 18s/epoch - 19ms/step\n",
            "Epoch 12/20\n",
            "\n",
            "Epoch 12: val_accuracy did not improve from 0.98113\n",
            "969/969 - 18s - loss: 0.0268 - accuracy: 0.9904 - val_loss: 0.1186 - val_accuracy: 0.9756 - 18s/epoch - 18ms/step\n",
            "Epoch 13/20\n",
            "\n",
            "Epoch 13: val_accuracy improved from 0.98113 to 0.98200, saving model to /content/drive/My Drive/Journal/Save_Model/MLP/Sports/saved_models/weights-improvement-13-0.98.hdf5\n",
            "969/969 - 18s - loss: 0.0208 - accuracy: 0.9931 - val_loss: 0.1208 - val_accuracy: 0.9820 - 18s/epoch - 19ms/step\n",
            "Epoch 14/20\n",
            "\n",
            "Epoch 14: val_accuracy did not improve from 0.98200\n",
            "969/969 - 17s - loss: 0.0216 - accuracy: 0.9923 - val_loss: 0.2887 - val_accuracy: 0.9260 - 17s/epoch - 18ms/step\n",
            "Epoch 15/20\n",
            "\n",
            "Epoch 15: val_accuracy did not improve from 0.98200\n",
            "969/969 - 18s - loss: 0.0198 - accuracy: 0.9932 - val_loss: 0.1680 - val_accuracy: 0.9628 - 18s/epoch - 18ms/step\n",
            "Epoch 16/20\n",
            "\n",
            "Epoch 16: val_accuracy did not improve from 0.98200\n",
            "969/969 - 18s - loss: 0.0209 - accuracy: 0.9930 - val_loss: 0.1388 - val_accuracy: 0.9808 - 18s/epoch - 18ms/step\n",
            "Epoch 17/20\n",
            "\n",
            "Epoch 17: val_accuracy did not improve from 0.98200\n",
            "969/969 - 18s - loss: 0.0199 - accuracy: 0.9932 - val_loss: 0.1616 - val_accuracy: 0.9768 - 18s/epoch - 18ms/step\n",
            "Epoch 18/20\n",
            "\n",
            "Epoch 18: val_accuracy did not improve from 0.98200\n",
            "969/969 - 18s - loss: 0.0169 - accuracy: 0.9935 - val_loss: 0.1517 - val_accuracy: 0.9811 - 18s/epoch - 18ms/step\n",
            "Epoch 18: early stopping\n"
          ]
        }
      ]
    },
    {
      "cell_type": "code",
      "source": [
        "new_sports_model = tf.keras.models.load_model('/content/drive/My Drive/Journal/Save_Model/MLP/Sports/saved_models/weights-improvement-13-0.98.hdf5')"
      ],
      "metadata": {
        "id": "lQ5jO3GDnkTV"
      },
      "execution_count": null,
      "outputs": []
    },
    {
      "cell_type": "code",
      "source": [
        "sports_eval = new_sports_model.evaluate(sportsX_test_pad, sportsy_test, verbose=2)"
      ],
      "metadata": {
        "colab": {
          "base_uri": "https://localhost:8080/"
        },
        "id": "JzpV0RfPpq6h",
        "outputId": "74d19f5d-3eb0-4a88-acf3-28ff9fcc9f13"
      },
      "execution_count": null,
      "outputs": [
        {
          "output_type": "stream",
          "name": "stdout",
          "text": [
            "120/120 - 1s - loss: 0.1151 - accuracy: 0.9796 - 510ms/epoch - 4ms/step\n"
          ]
        }
      ]
    },
    {
      "cell_type": "code",
      "source": [
        "from sklearn.metrics import confusion_matrix, accuracy_score, classification_report\n",
        "\n",
        "prediction = new_sports_model.predict(sportsX_test_pad)\n",
        "# print(metrics.classification_report(accy_test, predicted))\n",
        "sports_y_pred = np.argmax(prediction, axis=-1)\n",
        "print(classification_report(sportsy_test, sports_y_pred))"
      ],
      "metadata": {
        "colab": {
          "base_uri": "https://localhost:8080/"
        },
        "id": "sdSl7u-Lnqyk",
        "outputId": "656378e2-f8f2-402d-99fd-8994e2cdcd94"
      },
      "execution_count": null,
      "outputs": [
        {
          "output_type": "stream",
          "name": "stdout",
          "text": [
            "              precision    recall  f1-score   support\n",
            "\n",
            "           0       0.88      0.90      0.89        72\n",
            "           1       0.99      0.99      0.99      2522\n",
            "           2       0.97      0.98      0.97      1127\n",
            "           3       0.91      0.93      0.92       107\n",
            "\n",
            "    accuracy                           0.98      3828\n",
            "   macro avg       0.94      0.95      0.94      3828\n",
            "weighted avg       0.98      0.98      0.98      3828\n",
            "\n"
          ]
        }
      ]
    },
    {
      "cell_type": "markdown",
      "source": [
        "## CNN"
      ],
      "metadata": {
        "id": "DL5qprrWvDWn"
      }
    },
    {
      "cell_type": "code",
      "source": [
        "tf.keras.backend.clear_session()\n",
        "\n",
        "from tensorflow.keras.optimizers import Adam\n",
        "from keras.layers import  Dropout, Dense,Embedding, Conv1D, Input, GlobalMaxPooling1D, Flatten\n",
        "from keras.models import Sequential\n",
        "def cnn_model():\n",
        "\t# create model\n",
        "    embedding_dim = 400\n",
        "    filters = 256\n",
        "    kernel = 5\n",
        "    node = 450\n",
        "    nLayers = 1\n",
        "    dropout = 0.5\n",
        "    model = Sequential()\n",
        "    model.add(Embedding(vocab_size, embedding_dim, input_length=max_length))\n",
        "    # model.add(Input(shape=(embedding_dim,)))\n",
        "    \n",
        "    model.add(Conv1D(filters, kernel, activation='relu'))\n",
        "    model.add(GlobalMaxPooling1D())\n",
        "    # model.add(Flatten())\n",
        "    for i in range(0,nLayers):\n",
        "        model.add(Dense(node, activation='relu'))\n",
        "        model.add(Dropout(dropout))\n",
        "    model.add(Dense(c+1, activation='softmax'))\n",
        "\t# Compile model\n",
        "    opt = Adam(learning_rate=0.001)\n",
        "    model.compile(loss='sparse_categorical_crossentropy', optimizer=opt, metrics=['accuracy'])\n",
        "    return model\n",
        "\n",
        "model = create_model()\n",
        "model.summary()"
      ],
      "metadata": {
        "id": "Fv3hEDD8pml1"
      },
      "execution_count": null,
      "outputs": []
    },
    {
      "cell_type": "code",
      "source": [
        "#Add Callbacks, e.g. ModelCheckpoints, earlystopping, csvlogger.\n",
        "from keras.callbacks import ModelCheckpoint, EarlyStopping, CSVLogger\n",
        "\n",
        "#ModelCheckpoint callback saves a model at some interval. \n",
        "filepath=\"/content/drive/My Drive/Journal/Save_Model/CNN/Accident/saved_models/weights-improvement-{epoch:02d}-{val_accuracy:.2f}.hdf5\" #File name includes epoch and validation accuracy.\n",
        "#Use Mode = max for accuracy and min for loss. \n",
        "checkpoint = ModelCheckpoint(filepath, monitor='val_accuracy', verbose=1, save_best_only=True, mode='max')\n",
        "\n",
        "#https://www.tensorflow.org/api_docs/python/tf/keras/callbacks/EarlyStopping\n",
        "early_stop = EarlyStopping(monitor='val_accuracy', patience=5, verbose=2)\n",
        "#This callback will stop the training when there is no improvement in\n",
        "# the validation loss for three consecutive epochs.\n",
        "\n",
        "#CSVLogger logs epoch, acc, loss, val_acc, val_loss\n",
        "log_csv = CSVLogger('/content/drive/My Drive/Journal/Save_Model/CNN/Accident/acc_mlp_my_logs.csv', separator=',', append=False)\n",
        "\n",
        "callbacks_list = [checkpoint, early_stop, log_csv]\n",
        "# callbacks_list = [checkpoint, log_csv]"
      ],
      "metadata": {
        "id": "iuMRWRVp2pLk"
      },
      "execution_count": null,
      "outputs": []
    },
    {
      "cell_type": "code",
      "source": [
        "acc_model = cnn_model(len(accy_train.value_counts()))\n",
        "acc_model.summary()"
      ],
      "metadata": {
        "id": "RogJtNRJ2yK7"
      },
      "execution_count": null,
      "outputs": []
    },
    {
      "cell_type": "code",
      "source": [
        "acc_history = acc_model.fit(accX_train_pad, accy_train, epochs=20, validation_data=(accX_val_pad, accy_val), verbose=2, callbacks=callbacks_list)\n",
        "acc_model.save('/content/drive/My Drive/Journal/Save_Model/CNN/Accident/acc_mlp_model.h5')"
      ],
      "metadata": {
        "id": "EEiFItL725-a"
      },
      "execution_count": null,
      "outputs": []
    },
    {
      "cell_type": "code",
      "source": [
        "new_model = tf.keras.models.load_model('/content/drive/My Drive/Journal/Save_Model/CNN/Accident/saved_models/weights-improvement-15-0.93.hdf5')\n",
        "new_model.evaluate(accX_test_pad, accy_test, verbose=2)"
      ],
      "metadata": {
        "id": "-35J7YyB2-06"
      },
      "execution_count": null,
      "outputs": []
    },
    {
      "cell_type": "code",
      "source": [
        "from sklearn.metrics import confusion_matrix, accuracy_score, classification_report\n",
        "\n",
        "nprediction = new_model.predict(accX_test_pad)\n",
        "# print(metrics.classification_report(accy_test, predicted))\n",
        "nacc_y_pred = np.argmax(nprediction, axis=-1)\n",
        "print(classification_report(accy_test, nacc_y_pred))"
      ],
      "metadata": {
        "id": "olBS4MXt3C3r"
      },
      "execution_count": null,
      "outputs": []
    },
    {
      "cell_type": "code",
      "source": [
        "import matplotlib.pyplot as plt\n",
        "\n",
        "def plot_graphs(history, string):\n",
        "  plt.plot(history.history[string])\n",
        "  plt.plot(history.history['val_'+string])\n",
        "  plt.xlabel(\"Epochs\")\n",
        "  plt.ylabel(string)\n",
        "  plt.legend([string, 'val_'+string])\n",
        "  plt.savefig('/content/drive/My Drive/Journal/Save_Model/CNN/Accident/accuracy_plot.jpg', bbox_inches='tight', dpi=150)\n",
        "  plt.show()\n",
        "  \n",
        "plot_graphs(crime_history, \"accuracy\")\n",
        "# plot_graphs(acc_history, \"loss\")"
      ],
      "metadata": {
        "id": "tcYwFdAS3OhZ"
      },
      "execution_count": null,
      "outputs": []
    },
    {
      "cell_type": "code",
      "source": [
        "import matplotlib.pyplot as plt\n",
        "\n",
        "def plot_graphs(history, string):\n",
        "  plt.plot(history.history[string])\n",
        "  plt.plot(history.history['val_'+string])\n",
        "  plt.xlabel(\"Epochs\")\n",
        "  plt.ylabel(string)\n",
        "  plt.legend([string, 'val_'+string])\n",
        "  plt.savefig('/content/drive/My Drive/Journal/Save_Model/CNN/Accident/loss_plot.jpg', bbox_inches='tight', dpi=150)\n",
        "  plt.show()\n",
        "  \n",
        "# plot_graphs(acc_history, \"accuracy\")\n",
        "plot_graphs(acc_history, \"loss\")"
      ],
      "metadata": {
        "id": "zAgDgW1s3Rtu"
      },
      "execution_count": null,
      "outputs": []
    }
  ],
  "metadata": {
    "colab": {
      "collapsed_sections": [],
      "name": "Untitled2.ipynb",
      "provenance": []
    },
    "gpuClass": "standard",
    "kernelspec": {
      "display_name": "Python 3",
      "name": "python3"
    },
    "language_info": {
      "name": "python"
    }
  },
  "nbformat": 4,
  "nbformat_minor": 0
}